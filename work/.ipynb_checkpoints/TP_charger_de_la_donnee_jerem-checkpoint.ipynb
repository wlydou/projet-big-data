{
 "cells": [
  {
   "cell_type": "markdown",
   "metadata": {},
   "source": [
    "# 0) Chargement de spark"
   ]
  },
  {
   "cell_type": "code",
   "execution_count": 3,
   "metadata": {},
   "outputs": [],
   "source": [
    "from pyspark.sql import SparkSession\n",
    "spark = SparkSession.builder.getOrCreate()"
   ]
  },
  {
   "cell_type": "markdown",
   "metadata": {},
   "source": [
    "# 1) Lire de la donnée"
   ]
  },
  {
   "cell_type": "markdown",
   "metadata": {},
   "source": [
    "## 1.1) Lecture brute\n",
    "\n",
    "Chargez le fichier ville_1.csv dans une variable nommée df.\n",
    "\n",
    "Vous pouvez afficher votre donnée en utilisant la méthode take() ou la methode collect() de l'objet pyspark DataFrame (attention appeler collect() sur un dataframe est déconseillé si vous avez du vrai big data).\n",
    "\n",
    "L'objet possède aussi un attribut appelé dtypes, appelez cet attribut pour obtenir la liste des colonnes et leur type."
   ]
  },
  {
   "cell_type": "code",
   "execution_count": 8,
   "metadata": {
    "scrolled": false
   },
   "outputs": [
    {
     "ename": "AnalysisException",
     "evalue": "Path does not exist: file:/home/jovyan/work/data/Vaccinations/vacsi-reg-classe-age-2021-01-29.csv;",
     "output_type": "error",
     "traceback": [
      "\u001b[0;31m---------------------------------------------------------------------------\u001b[0m",
      "\u001b[0;31mAnalysisException\u001b[0m                         Traceback (most recent call last)",
      "\u001b[0;32m<ipython-input-8-2070d1e074b1>\u001b[0m in \u001b[0;36m<module>\u001b[0;34m\u001b[0m\n\u001b[1;32m      3\u001b[0m \u001b[0mpath2\u001b[0m \u001b[0;34m=\u001b[0m \u001b[0;34m\"./data/Vaccinations/vacsi-reg-classe-age-2021-01-29.csv\"\u001b[0m\u001b[0;34m\u001b[0m\u001b[0;34m\u001b[0m\u001b[0m\n\u001b[1;32m      4\u001b[0m \u001b[0mpath3\u001b[0m \u001b[0;34m=\u001b[0m \u001b[0;34m\"./data/Covid/vacsi-reg-sexe-2021-01-29.csv\"\u001b[0m\u001b[0;34m\u001b[0m\u001b[0;34m\u001b[0m\u001b[0m\n\u001b[0;32m----> 5\u001b[0;31m \u001b[0mdf2\u001b[0m \u001b[0;34m=\u001b[0m \u001b[0mspark\u001b[0m\u001b[0;34m.\u001b[0m\u001b[0mread\u001b[0m\u001b[0;34m.\u001b[0m\u001b[0mload\u001b[0m\u001b[0;34m(\u001b[0m\u001b[0mpath2\u001b[0m\u001b[0;34m,\u001b[0m \u001b[0mformat\u001b[0m\u001b[0;34m=\u001b[0m\u001b[0;34m\"csv\"\u001b[0m\u001b[0;34m)\u001b[0m\u001b[0;34m\u001b[0m\u001b[0;34m\u001b[0m\u001b[0m\n\u001b[0m\u001b[1;32m      6\u001b[0m \u001b[0mdf2\u001b[0m\u001b[0;34m.\u001b[0m\u001b[0mdtypes\u001b[0m\u001b[0;34m\u001b[0m\u001b[0;34m\u001b[0m\u001b[0m\n\u001b[1;32m      7\u001b[0m \u001b[0;34m\u001b[0m\u001b[0m\n",
      "\u001b[0;32m/usr/local/spark/python/pyspark/sql/readwriter.py\u001b[0m in \u001b[0;36mload\u001b[0;34m(self, path, format, schema, **options)\u001b[0m\n\u001b[1;32m    176\u001b[0m         \u001b[0mself\u001b[0m\u001b[0;34m.\u001b[0m\u001b[0moptions\u001b[0m\u001b[0;34m(\u001b[0m\u001b[0;34m**\u001b[0m\u001b[0moptions\u001b[0m\u001b[0;34m)\u001b[0m\u001b[0;34m\u001b[0m\u001b[0;34m\u001b[0m\u001b[0m\n\u001b[1;32m    177\u001b[0m         \u001b[0;32mif\u001b[0m \u001b[0misinstance\u001b[0m\u001b[0;34m(\u001b[0m\u001b[0mpath\u001b[0m\u001b[0;34m,\u001b[0m \u001b[0mbasestring\u001b[0m\u001b[0;34m)\u001b[0m\u001b[0;34m:\u001b[0m\u001b[0;34m\u001b[0m\u001b[0;34m\u001b[0m\u001b[0m\n\u001b[0;32m--> 178\u001b[0;31m             \u001b[0;32mreturn\u001b[0m \u001b[0mself\u001b[0m\u001b[0;34m.\u001b[0m\u001b[0m_df\u001b[0m\u001b[0;34m(\u001b[0m\u001b[0mself\u001b[0m\u001b[0;34m.\u001b[0m\u001b[0m_jreader\u001b[0m\u001b[0;34m.\u001b[0m\u001b[0mload\u001b[0m\u001b[0;34m(\u001b[0m\u001b[0mpath\u001b[0m\u001b[0;34m)\u001b[0m\u001b[0;34m)\u001b[0m\u001b[0;34m\u001b[0m\u001b[0;34m\u001b[0m\u001b[0m\n\u001b[0m\u001b[1;32m    179\u001b[0m         \u001b[0;32melif\u001b[0m \u001b[0mpath\u001b[0m \u001b[0;32mis\u001b[0m \u001b[0;32mnot\u001b[0m \u001b[0;32mNone\u001b[0m\u001b[0;34m:\u001b[0m\u001b[0;34m\u001b[0m\u001b[0;34m\u001b[0m\u001b[0m\n\u001b[1;32m    180\u001b[0m             \u001b[0;32mif\u001b[0m \u001b[0mtype\u001b[0m\u001b[0;34m(\u001b[0m\u001b[0mpath\u001b[0m\u001b[0;34m)\u001b[0m \u001b[0;34m!=\u001b[0m \u001b[0mlist\u001b[0m\u001b[0;34m:\u001b[0m\u001b[0;34m\u001b[0m\u001b[0;34m\u001b[0m\u001b[0m\n",
      "\u001b[0;32m/usr/local/spark/python/lib/py4j-0.10.9-src.zip/py4j/java_gateway.py\u001b[0m in \u001b[0;36m__call__\u001b[0;34m(self, *args)\u001b[0m\n\u001b[1;32m   1302\u001b[0m \u001b[0;34m\u001b[0m\u001b[0m\n\u001b[1;32m   1303\u001b[0m         \u001b[0manswer\u001b[0m \u001b[0;34m=\u001b[0m \u001b[0mself\u001b[0m\u001b[0;34m.\u001b[0m\u001b[0mgateway_client\u001b[0m\u001b[0;34m.\u001b[0m\u001b[0msend_command\u001b[0m\u001b[0;34m(\u001b[0m\u001b[0mcommand\u001b[0m\u001b[0;34m)\u001b[0m\u001b[0;34m\u001b[0m\u001b[0;34m\u001b[0m\u001b[0m\n\u001b[0;32m-> 1304\u001b[0;31m         return_value = get_return_value(\n\u001b[0m\u001b[1;32m   1305\u001b[0m             answer, self.gateway_client, self.target_id, self.name)\n\u001b[1;32m   1306\u001b[0m \u001b[0;34m\u001b[0m\u001b[0m\n",
      "\u001b[0;32m/usr/local/spark/python/pyspark/sql/utils.py\u001b[0m in \u001b[0;36mdeco\u001b[0;34m(*a, **kw)\u001b[0m\n\u001b[1;32m    132\u001b[0m                 \u001b[0;31m# Hide where the exception came from that shows a non-Pythonic\u001b[0m\u001b[0;34m\u001b[0m\u001b[0;34m\u001b[0m\u001b[0;34m\u001b[0m\u001b[0m\n\u001b[1;32m    133\u001b[0m                 \u001b[0;31m# JVM exception message.\u001b[0m\u001b[0;34m\u001b[0m\u001b[0;34m\u001b[0m\u001b[0;34m\u001b[0m\u001b[0m\n\u001b[0;32m--> 134\u001b[0;31m                 \u001b[0mraise_from\u001b[0m\u001b[0;34m(\u001b[0m\u001b[0mconverted\u001b[0m\u001b[0;34m)\u001b[0m\u001b[0;34m\u001b[0m\u001b[0;34m\u001b[0m\u001b[0m\n\u001b[0m\u001b[1;32m    135\u001b[0m             \u001b[0;32melse\u001b[0m\u001b[0;34m:\u001b[0m\u001b[0;34m\u001b[0m\u001b[0;34m\u001b[0m\u001b[0m\n\u001b[1;32m    136\u001b[0m                 \u001b[0;32mraise\u001b[0m\u001b[0;34m\u001b[0m\u001b[0;34m\u001b[0m\u001b[0m\n",
      "\u001b[0;32m/usr/local/spark/python/pyspark/sql/utils.py\u001b[0m in \u001b[0;36mraise_from\u001b[0;34m(e)\u001b[0m\n",
      "\u001b[0;31mAnalysisException\u001b[0m: Path does not exist: file:/home/jovyan/work/data/Vaccinations/vacsi-reg-classe-age-2021-01-29.csv;"
     ]
    }
   ],
   "source": [
    "path = \"./data/Villes/ville_1.csv\"\n",
    "path1 = \"./data/Cyclistes/cycliste_1.csv\"\n",
    "path2 = \"./data/Vaccinations/vacsi-reg-classe-age-2021-01-29.csv\"\n",
    "#path3 = \"./data/Covid/vacsi-reg-sexe-2021-01-29.csv\"\n",
    "df2 = spark.read.load(path2, format=\"csv\")\n",
    "df2.dtypes\n",
    "\n"
   ]
  },
  {
   "cell_type": "code",
   "execution_count": 19,
   "metadata": {},
   "outputs": [
    {
     "data": {
      "text/plain": [
       "[('_c0', 'string'),\n",
       " ('_c1', 'string'),\n",
       " ('_c2', 'string'),\n",
       " ('_c3', 'string'),\n",
       " ('_c4', 'string')]"
      ]
     },
     "execution_count": 19,
     "metadata": {},
     "output_type": "execute_result"
    }
   ],
   "source": [
    "df3 = spark.read.load(path3, format=\"csv\")\n",
    "df3.dtypes"
   ]
  },
  {
   "cell_type": "markdown",
   "metadata": {},
   "source": [
    "## 1.2) Lecture avec les entêtes\n",
    "\n",
    "Recharger le même fichier mais cette fois-ci utilisez l'option header pour rajouter les noms de colonnes à votre df.\n",
    "\n",
    "Appelez l'attribut dtypes et comparez la sortie avec celle de la lecture brute."
   ]
  },
  {
   "cell_type": "code",
   "execution_count": null,
   "metadata": {
    "scrolled": true
   },
   "outputs": [],
   "source": [
    " df2 = spark.read.format('csv').options(header=True).load(path2)\n",
    "df2.dtypes"
   ]
  },
  {
   "cell_type": "markdown",
   "metadata": {},
   "source": [
    "## 1.3) Lecture avec les types détectés automatiquement\n",
    "\n",
    "Recharger le fichier avec  l'option inferShema.\n",
    "\n",
    "L'option 'inferSchema' permet de transformer les colonnes en types plus précis : entier  / booléens / chaines de caractères... bien sûr spark trouve les types uniquement si le fichier d'origine permet de les trouver de manière simple"
   ]
  },
  {
   "cell_type": "code",
   "execution_count": 7,
   "metadata": {
    "scrolled": true
   },
   "outputs": [
    {
     "ename": "AnalysisException",
     "evalue": "Path does not exist: file:/home/jovyan/work/data/Covid/vacsi-reg-classe-age-2021-01-29.csv;",
     "output_type": "error",
     "traceback": [
      "\u001b[0;31m---------------------------------------------------------------------------\u001b[0m",
      "\u001b[0;31mAnalysisException\u001b[0m                         Traceback (most recent call last)",
      "\u001b[0;32m<ipython-input-7-4dec217f2dbd>\u001b[0m in \u001b[0;36m<module>\u001b[0;34m\u001b[0m\n\u001b[0;32m----> 1\u001b[0;31m \u001b[0mdf2\u001b[0m \u001b[0;34m=\u001b[0m \u001b[0mspark\u001b[0m\u001b[0;34m.\u001b[0m\u001b[0mread\u001b[0m\u001b[0;34m.\u001b[0m\u001b[0mformat\u001b[0m\u001b[0;34m(\u001b[0m\u001b[0;34m'csv'\u001b[0m\u001b[0;34m)\u001b[0m\u001b[0;34m.\u001b[0m\u001b[0moptions\u001b[0m\u001b[0;34m(\u001b[0m\u001b[0mheader\u001b[0m\u001b[0;34m=\u001b[0m\u001b[0;32mTrue\u001b[0m\u001b[0;34m,\u001b[0m \u001b[0minferSchema\u001b[0m\u001b[0;34m=\u001b[0m\u001b[0;32mTrue\u001b[0m\u001b[0;34m)\u001b[0m\u001b[0;34m.\u001b[0m\u001b[0mload\u001b[0m\u001b[0;34m(\u001b[0m\u001b[0mpath2\u001b[0m\u001b[0;34m)\u001b[0m\u001b[0;34m\u001b[0m\u001b[0;34m\u001b[0m\u001b[0m\n\u001b[0m\u001b[1;32m      2\u001b[0m \u001b[0mdf2\u001b[0m\u001b[0;34m.\u001b[0m\u001b[0mdtypes\u001b[0m\u001b[0;34m\u001b[0m\u001b[0;34m\u001b[0m\u001b[0m\n",
      "\u001b[0;32m/usr/local/spark/python/pyspark/sql/readwriter.py\u001b[0m in \u001b[0;36mload\u001b[0;34m(self, path, format, schema, **options)\u001b[0m\n\u001b[1;32m    176\u001b[0m         \u001b[0mself\u001b[0m\u001b[0;34m.\u001b[0m\u001b[0moptions\u001b[0m\u001b[0;34m(\u001b[0m\u001b[0;34m**\u001b[0m\u001b[0moptions\u001b[0m\u001b[0;34m)\u001b[0m\u001b[0;34m\u001b[0m\u001b[0;34m\u001b[0m\u001b[0m\n\u001b[1;32m    177\u001b[0m         \u001b[0;32mif\u001b[0m \u001b[0misinstance\u001b[0m\u001b[0;34m(\u001b[0m\u001b[0mpath\u001b[0m\u001b[0;34m,\u001b[0m \u001b[0mbasestring\u001b[0m\u001b[0;34m)\u001b[0m\u001b[0;34m:\u001b[0m\u001b[0;34m\u001b[0m\u001b[0;34m\u001b[0m\u001b[0m\n\u001b[0;32m--> 178\u001b[0;31m             \u001b[0;32mreturn\u001b[0m \u001b[0mself\u001b[0m\u001b[0;34m.\u001b[0m\u001b[0m_df\u001b[0m\u001b[0;34m(\u001b[0m\u001b[0mself\u001b[0m\u001b[0;34m.\u001b[0m\u001b[0m_jreader\u001b[0m\u001b[0;34m.\u001b[0m\u001b[0mload\u001b[0m\u001b[0;34m(\u001b[0m\u001b[0mpath\u001b[0m\u001b[0;34m)\u001b[0m\u001b[0;34m)\u001b[0m\u001b[0;34m\u001b[0m\u001b[0;34m\u001b[0m\u001b[0m\n\u001b[0m\u001b[1;32m    179\u001b[0m         \u001b[0;32melif\u001b[0m \u001b[0mpath\u001b[0m \u001b[0;32mis\u001b[0m \u001b[0;32mnot\u001b[0m \u001b[0;32mNone\u001b[0m\u001b[0;34m:\u001b[0m\u001b[0;34m\u001b[0m\u001b[0;34m\u001b[0m\u001b[0m\n\u001b[1;32m    180\u001b[0m             \u001b[0;32mif\u001b[0m \u001b[0mtype\u001b[0m\u001b[0;34m(\u001b[0m\u001b[0mpath\u001b[0m\u001b[0;34m)\u001b[0m \u001b[0;34m!=\u001b[0m \u001b[0mlist\u001b[0m\u001b[0;34m:\u001b[0m\u001b[0;34m\u001b[0m\u001b[0;34m\u001b[0m\u001b[0m\n",
      "\u001b[0;32m/usr/local/spark/python/lib/py4j-0.10.9-src.zip/py4j/java_gateway.py\u001b[0m in \u001b[0;36m__call__\u001b[0;34m(self, *args)\u001b[0m\n\u001b[1;32m   1302\u001b[0m \u001b[0;34m\u001b[0m\u001b[0m\n\u001b[1;32m   1303\u001b[0m         \u001b[0manswer\u001b[0m \u001b[0;34m=\u001b[0m \u001b[0mself\u001b[0m\u001b[0;34m.\u001b[0m\u001b[0mgateway_client\u001b[0m\u001b[0;34m.\u001b[0m\u001b[0msend_command\u001b[0m\u001b[0;34m(\u001b[0m\u001b[0mcommand\u001b[0m\u001b[0;34m)\u001b[0m\u001b[0;34m\u001b[0m\u001b[0;34m\u001b[0m\u001b[0m\n\u001b[0;32m-> 1304\u001b[0;31m         return_value = get_return_value(\n\u001b[0m\u001b[1;32m   1305\u001b[0m             answer, self.gateway_client, self.target_id, self.name)\n\u001b[1;32m   1306\u001b[0m \u001b[0;34m\u001b[0m\u001b[0m\n",
      "\u001b[0;32m/usr/local/spark/python/pyspark/sql/utils.py\u001b[0m in \u001b[0;36mdeco\u001b[0;34m(*a, **kw)\u001b[0m\n\u001b[1;32m    132\u001b[0m                 \u001b[0;31m# Hide where the exception came from that shows a non-Pythonic\u001b[0m\u001b[0;34m\u001b[0m\u001b[0;34m\u001b[0m\u001b[0;34m\u001b[0m\u001b[0m\n\u001b[1;32m    133\u001b[0m                 \u001b[0;31m# JVM exception message.\u001b[0m\u001b[0;34m\u001b[0m\u001b[0;34m\u001b[0m\u001b[0;34m\u001b[0m\u001b[0m\n\u001b[0;32m--> 134\u001b[0;31m                 \u001b[0mraise_from\u001b[0m\u001b[0;34m(\u001b[0m\u001b[0mconverted\u001b[0m\u001b[0;34m)\u001b[0m\u001b[0;34m\u001b[0m\u001b[0;34m\u001b[0m\u001b[0m\n\u001b[0m\u001b[1;32m    135\u001b[0m             \u001b[0;32melse\u001b[0m\u001b[0;34m:\u001b[0m\u001b[0;34m\u001b[0m\u001b[0;34m\u001b[0m\u001b[0m\n\u001b[1;32m    136\u001b[0m                 \u001b[0;32mraise\u001b[0m\u001b[0;34m\u001b[0m\u001b[0;34m\u001b[0m\u001b[0m\n",
      "\u001b[0;32m/usr/local/spark/python/pyspark/sql/utils.py\u001b[0m in \u001b[0;36mraise_from\u001b[0;34m(e)\u001b[0m\n",
      "\u001b[0;31mAnalysisException\u001b[0m: Path does not exist: file:/home/jovyan/work/data/Covid/vacsi-reg-classe-age-2021-01-29.csv;"
     ]
    }
   ],
   "source": [
    "df2 = spark.read.format('csv').options(header=True, inferSchema=True).load(path2)\n",
    "df2.dtypes\n"
   ]
  },
  {
   "cell_type": "code",
   "execution_count": 24,
   "metadata": {},
   "outputs": [
    {
     "data": {
      "text/plain": [
       "[Row(Code='01;Guadeloupe;0;26/01/2021;0', Libellé=None, Classe d'age=None, Date=None, Nombre cumulé de personnes vaccinées 2 doses=None),\n",
       " Row(Code='01;Guadeloupe;18-24;26/01/2021;N/A - résultat non disponible', Libellé=None, Classe d'age=None, Date=None, Nombre cumulé de personnes vaccinées 2 doses=None),\n",
       " Row(Code='01;Guadeloupe;25-29;26/01/2021;N/A - résultat non disponible', Libellé=None, Classe d'age=None, Date=None, Nombre cumulé de personnes vaccinées 2 doses=None),\n",
       " Row(Code='01;Guadeloupe;30-39;26/01/2021;0', Libellé=None, Classe d'age=None, Date=None, Nombre cumulé de personnes vaccinées 2 doses=None),\n",
       " Row(Code='01;Guadeloupe;40-49;26/01/2021;0', Libellé=None, Classe d'age=None, Date=None, Nombre cumulé de personnes vaccinées 2 doses=None)]"
      ]
     },
     "execution_count": 24,
     "metadata": {},
     "output_type": "execute_result"
    }
   ],
   "source": [
    "df2.take(5)"
   ]
  },
  {
   "cell_type": "markdown",
   "metadata": {},
   "source": [
    "## 1.4) L'attribut schema\n",
    "\n",
    "Il vous permet d'afficher le schéma de votre df, avec pour chaque colonne son nom, son type, et si elle accepte les valeurs nulles ou non. "
   ]
  },
  {
   "cell_type": "code",
   "execution_count": 6,
   "metadata": {
    "scrolled": true
   },
   "outputs": [
    {
     "ename": "NameError",
     "evalue": "name 'df2' is not defined",
     "output_type": "error",
     "traceback": [
      "\u001b[0;31m---------------------------------------------------------------------------\u001b[0m",
      "\u001b[0;31mNameError\u001b[0m                                 Traceback (most recent call last)",
      "\u001b[0;32m<ipython-input-6-08f49443d826>\u001b[0m in \u001b[0;36m<module>\u001b[0;34m\u001b[0m\n\u001b[0;32m----> 1\u001b[0;31m \u001b[0mdf2\u001b[0m\u001b[0;34m.\u001b[0m\u001b[0mschema\u001b[0m\u001b[0;34m\u001b[0m\u001b[0;34m\u001b[0m\u001b[0m\n\u001b[0m",
      "\u001b[0;31mNameError\u001b[0m: name 'df2' is not defined"
     ]
    }
   ],
   "source": [
    "df2.schema"
   ]
  },
  {
   "cell_type": "markdown",
   "metadata": {},
   "source": [
    "Vous avez aussi la méthode printSchema() qui permet d'afficher le shéma du df de manière plus lisible."
   ]
  },
  {
   "cell_type": "code",
   "execution_count": 26,
   "metadata": {},
   "outputs": [
    {
     "name": "stdout",
     "output_type": "stream",
     "text": [
      "root\n",
      " |-- Code: string (nullable = true)\n",
      " |-- Libellé: string (nullable = true)\n",
      " |-- Classe d'age: string (nullable = true)\n",
      " |-- Date: string (nullable = true)\n",
      " |-- Nombre cumulé de personnes vaccinées 2 doses: string (nullable = true)\n",
      "\n"
     ]
    }
   ],
   "source": [
    "df.printSchema()"
   ]
  },
  {
   "cell_type": "markdown",
   "metadata": {},
   "source": [
    "# 2) Ecriture de la dataframe sur le disque\n",
    "\n",
    "Sauvegardez le df sous différents formats."
   ]
  },
  {
   "cell_type": "markdown",
   "metadata": {},
   "source": [
    "## 2.1) choix du format : csv"
   ]
  },
  {
   "cell_type": "code",
   "execution_count": 5,
   "metadata": {},
   "outputs": [
    {
     "ename": "NameError",
     "evalue": "name 'df2' is not defined",
     "output_type": "error",
     "traceback": [
      "\u001b[0;31m---------------------------------------------------------------------------\u001b[0m",
      "\u001b[0;31mNameError\u001b[0m                                 Traceback (most recent call last)",
      "\u001b[0;32m<ipython-input-5-2d5dc8d2bfdb>\u001b[0m in \u001b[0;36m<module>\u001b[0;34m\u001b[0m\n\u001b[0;32m----> 1\u001b[0;31m \u001b[0mdf2\u001b[0m\u001b[0;34m.\u001b[0m\u001b[0mwrite\u001b[0m\u001b[0;34m.\u001b[0m\u001b[0mformat\u001b[0m\u001b[0;34m(\u001b[0m\u001b[0;34m\"csv\"\u001b[0m\u001b[0;34m)\u001b[0m\u001b[0;34m.\u001b[0m\u001b[0msave\u001b[0m\u001b[0;34m(\u001b[0m\u001b[0;34m\"./data/Covid/csv\"\u001b[0m\u001b[0;34m)\u001b[0m\u001b[0;34m\u001b[0m\u001b[0;34m\u001b[0m\u001b[0m\n\u001b[0m",
      "\u001b[0;31mNameError\u001b[0m: name 'df2' is not defined"
     ]
    }
   ],
   "source": [
    "df2.write.format(\"csv\").save(\"./data/Covid/csv\")"
   ]
  },
  {
   "cell_type": "markdown",
   "metadata": {},
   "source": [
    "## 2.2) choix du format : parquet"
   ]
  },
  {
   "cell_type": "code",
   "execution_count": 39,
   "metadata": {},
   "outputs": [
    {
     "name": "stdout",
     "output_type": "stream",
     "text": [
      "root\n",
      " |-- Code: string (nullable = true)\n",
      " |-- Libellé: string (nullable = true)\n",
      " |-- Classe age: string (nullable = true)\n",
      " |-- Date: string (nullable = true)\n",
      " |-- Nombre cumulé de personnes vaccinées 2 doses: string (nullable = true)\n",
      "\n"
     ]
    }
   ],
   "source": [
    "df2_new = df2.withColumnRenamed(\"Classe d'age\", \"Classe age\").printSchema()\n",
    "\n"
   ]
  },
  {
   "cell_type": "code",
   "execution_count": 34,
   "metadata": {},
   "outputs": [
    {
     "data": {
      "text/plain": [
       "pyspark.sql.dataframe.DataFrame"
      ]
     },
     "execution_count": 34,
     "metadata": {},
     "output_type": "execute_result"
    }
   ],
   "source": [
    "type(df2)"
   ]
  },
  {
   "cell_type": "code",
   "execution_count": 42,
   "metadata": {},
   "outputs": [],
   "source": [
    "#df2_new.write.format(\"parquet\").save(\"./data/Covid/parquet\")\n"
   ]
  },
  {
   "cell_type": "markdown",
   "metadata": {},
   "source": [
    "## 2.3) choix du format : json"
   ]
  },
  {
   "cell_type": "code",
   "execution_count": 43,
   "metadata": {},
   "outputs": [],
   "source": [
    "df2.write.save(\"./data/Covid/json\", format=\"json\")"
   ]
  },
  {
   "cell_type": "markdown",
   "metadata": {},
   "source": [
    "## 2.4) Lecture de différents formats\n",
    "\n",
    "Vous pouvez choisir de lire le df sous un format ou un autre en utilisant l'argument format dans la fonction spark.read.load"
   ]
  },
  {
   "cell_type": "code",
   "execution_count": 22,
   "metadata": {},
   "outputs": [
    {
     "name": "stdout",
     "output_type": "stream",
     "text": [
      "part-00000-fce2c981-9f54-4b6d-aea0-2fd8ff681525-c000.json  _SUCCESS\r\n"
     ]
    }
   ],
   "source": [
    "# le ! vous permet d'executer des commandes dans votre terminal depuis le notebook\n",
    "!ls ./data/Villes/ville/"
   ]
  },
  {
   "cell_type": "code",
   "execution_count": 23,
   "metadata": {},
   "outputs": [],
   "source": [
    "df_json = spark.read.load(\"./data/Villes/ville/\", format=\"json\")\n"
   ]
  },
  {
   "cell_type": "code",
   "execution_count": 24,
   "metadata": {},
   "outputs": [],
   "source": [
    "df_parquet = spark.read.load(\"./data/Villes/parquet\", format=\"parquet\")"
   ]
  },
  {
   "cell_type": "markdown",
   "metadata": {},
   "source": [
    "# 3) Calculer des résultats : les actions "
   ]
  },
  {
   "cell_type": "markdown",
   "metadata": {},
   "source": [
    "## 3.1) Nombre de lignes : count\n",
    "\n",
    "Chargez les fichiers csv contenus dans le dossiers ./data/Cyclistes/ dans un df nommé cyclistes, puis comptez les lignes du dataframe obtenu."
   ]
  },
  {
   "cell_type": "code",
   "execution_count": 54,
   "metadata": {},
   "outputs": [],
   "source": [
    "vaccin2 = spark.read.load(\"./data/Covid/vacsi-reg-classe-age-2021-01-29.csv\", format=\"csv\", header=True, inferSchema=\"True\")"
   ]
  },
  {
   "cell_type": "code",
   "execution_count": 55,
   "metadata": {},
   "outputs": [
    {
     "data": {
      "text/plain": [
       "1848"
      ]
     },
     "execution_count": 55,
     "metadata": {},
     "output_type": "execute_result"
    }
   ],
   "source": [
    "vaccin2.count()"
   ]
  },
  {
   "cell_type": "markdown",
   "metadata": {},
   "source": [
    "Afficher le schéma de ce nouveau df"
   ]
  },
  {
   "cell_type": "code",
   "execution_count": 12,
   "metadata": {
    "scrolled": true
   },
   "outputs": [
    {
     "name": "stdout",
     "output_type": "stream",
     "text": [
      "root\n",
      " |-- Code: string (nullable = true)\n",
      " |-- Libellé: string (nullable = true)\n",
      " |-- Classe d'age: string (nullable = true)\n",
      " |-- Date: string (nullable = true)\n",
      " |-- Nombre cumulé de personnes vaccinées 2 doses: string (nullable = true)\n",
      "\n"
     ]
    }
   ],
   "source": [
    "vaccin2.schema\n",
    "vaccin2.printSchema()"
   ]
  },
  {
   "cell_type": "code",
   "execution_count": 15,
   "metadata": {},
   "outputs": [
    {
     "data": {
      "text/plain": [
       "StructType(List(StructField(Code,StringType,true),StructField(Libellé,StringType,true),StructField(Classe age,StringType,true),StructField(Date,StringType,true),StructField(Nombre cumulé de personnes vaccinées 2 doses,StringType,true)))"
      ]
     },
     "execution_count": 15,
     "metadata": {},
     "output_type": "execute_result"
    }
   ],
   "source": [
    "vaccin2_new = vaccin2.withColumnRenamed(\"Classe d'age\", \"Classe age\")\n",
    "vaccin2_new.schema\n"
   ]
  },
  {
   "cell_type": "code",
   "execution_count": 40,
   "metadata": {},
   "outputs": [
    {
     "name": "stdout",
     "output_type": "stream",
     "text": [
      "root\n",
      " |-- Code: string (nullable = true)\n",
      " |-- Libellé: string (nullable = true)\n",
      " |-- Classe age: integer (nullable = true)\n",
      " |-- Date: string (nullable = true)\n",
      " |-- Nombre cumulé de personnes vaccinées 2 doses: integer (nullable = true)\n",
      "\n"
     ]
    }
   ],
   "source": [
    "from pyspark.sql.types import IntegerType\n",
    "from pyspark.sql.types import StringType\n",
    "\n",
    "vaccin2_new_upd = vaccin2_new.withColumn(\"Classe age\", vaccin2_new[\"Classe age\"].cast(IntegerType())).withColumn(\"Nombre cumulé de personnes vaccinées 2 doses\", vaccin2_new[\"Nombre cumulé de personnes vaccinées 2 doses\"].cast(IntegerType()))\n",
    "\n",
    "vaccin2_new_upd.printSchema()\n"
   ]
  },
  {
   "cell_type": "code",
   "execution_count": null,
   "metadata": {},
   "outputs": [],
   "source": []
  },
  {
   "cell_type": "markdown",
   "metadata": {},
   "source": [
    "Affichez 10 lignes du df."
   ]
  },
  {
   "cell_type": "markdown",
   "metadata": {},
   "source": [
    "## 3.2) Moyenne : agg + colonne + mean\n",
    "\n",
    "A l'aide de la méthode agg(), calculez la moyenne sur la colonne vitesse.\n",
    "\n",
    "Vous pouvez récuperer le résultat avec la méthode collect()."
   ]
  },
  {
   "cell_type": "code",
   "execution_count": 17,
   "metadata": {},
   "outputs": [
    {
     "name": "stdout",
     "output_type": "stream",
     "text": [
      "+-------------------------------------------------+\n",
      "|max(Nombre cumulé de personnes vaccinées 2 doses)|\n",
      "+-------------------------------------------------+\n",
      "|                                             6943|\n",
      "+-------------------------------------------------+\n",
      "\n"
     ]
    }
   ],
   "source": [
    " vaccin2_new_upd.agg({\"Nombre cumulé de personnes vaccinées 2 doses\": \"max\"}).show()"
   ]
  },
  {
   "cell_type": "markdown",
   "metadata": {},
   "source": [
    "## 3.3) Quantile approximatifs pour gagner du temps de calcul\n",
    "\n",
    "En statistiques et en théorie des probabilités, les quantiles sont les valeurs qui divisent un jeu de données en intervalles contenant le même nombre de données. Il y a donc un quantile de moins que le nombre de groupes créés. Ainsi les quartiles sont les trois quantiles qui divisent un ensemble de données en quatre groupes de taille égale.\n",
    "\n",
    "La méthode approxQuantile permet de laisser une tolérance a l'erreur ce qui réduit le temps de calul sur d'énormes jeux de données."
   ]
  },
  {
   "cell_type": "code",
   "execution_count": 23,
   "metadata": {},
   "outputs": [],
   "source": [
    "import time"
   ]
  },
  {
   "cell_type": "code",
   "execution_count": 22,
   "metadata": {},
   "outputs": [],
   "source": [
    "def calcul_quantile(df, erreur_acceptee):\n",
    "    debut            = time.time()\n",
    "    colonne          = \"vitesse\"\n",
    "    quantiles_voulus = [0.25, 0.50, 0.75]\n",
    "    resultat         =  df.approxQuantile(colonne, quantiles_voulus , erreur_acceptee )\n",
    "    fin              = time.time()\n",
    "    delais           = fin -debut\n",
    "    print (\"delais =%.2f sec, quantiles = %s\"%(delais, resultat))"
   ]
  },
  {
   "cell_type": "code",
   "execution_count": 21,
   "metadata": {},
   "outputs": [],
   "source": [
    "#calcul_quantile(cyclistes, 0.05)"
   ]
  },
  {
   "cell_type": "code",
   "execution_count": 24,
   "metadata": {},
   "outputs": [
    {
     "ename": "AnalysisException",
     "evalue": "cannot resolve '`vitesse`' given input columns: [Classe age, Code, Date, Libellé, Nombre cumulé de personnes vaccinées 2 doses];;\n'Project ['vitesse]\n+- Project [Code#16, Libellé#17, Classe age#42, Date#19, cast(Nombre cumulé de personnes vaccinées 2 doses#20 as int) AS Nombre cumulé de personnes vaccinées 2 doses#48]\n   +- Project [Code#16, Libellé#17, cast(Classe age#36 as int) AS Classe age#42, Date#19, Nombre cumulé de personnes vaccinées 2 doses#20]\n      +- Project [Code#16, Libellé#17, Classe d'age#18 AS Classe age#36, Date#19, Nombre cumulé de personnes vaccinées 2 doses#20]\n         +- Relation[Code#16,Libellé#17,Classe d'age#18,Date#19,Nombre cumulé de personnes vaccinées 2 doses#20] csv\n",
     "output_type": "error",
     "traceback": [
      "\u001b[0;31m---------------------------------------------------------------------------\u001b[0m",
      "\u001b[0;31mAnalysisException\u001b[0m                         Traceback (most recent call last)",
      "\u001b[0;32m<ipython-input-24-c12136408a4e>\u001b[0m in \u001b[0;36m<module>\u001b[0;34m\u001b[0m\n\u001b[0;32m----> 1\u001b[0;31m \u001b[0mcalcul_quantile\u001b[0m\u001b[0;34m(\u001b[0m\u001b[0mvaccin2_new_upd\u001b[0m\u001b[0;34m,\u001b[0m \u001b[0;36m0.05\u001b[0m\u001b[0;34m)\u001b[0m\u001b[0;34m\u001b[0m\u001b[0;34m\u001b[0m\u001b[0m\n\u001b[0m",
      "\u001b[0;32m<ipython-input-22-3e2ed7cb0181>\u001b[0m in \u001b[0;36mcalcul_quantile\u001b[0;34m(df, erreur_acceptee)\u001b[0m\n\u001b[1;32m      3\u001b[0m     \u001b[0mcolonne\u001b[0m          \u001b[0;34m=\u001b[0m \u001b[0;34m\"vitesse\"\u001b[0m\u001b[0;34m\u001b[0m\u001b[0;34m\u001b[0m\u001b[0m\n\u001b[1;32m      4\u001b[0m     \u001b[0mquantiles_voulus\u001b[0m \u001b[0;34m=\u001b[0m \u001b[0;34m[\u001b[0m\u001b[0;36m0.25\u001b[0m\u001b[0;34m,\u001b[0m \u001b[0;36m0.50\u001b[0m\u001b[0;34m,\u001b[0m \u001b[0;36m0.75\u001b[0m\u001b[0;34m]\u001b[0m\u001b[0;34m\u001b[0m\u001b[0;34m\u001b[0m\u001b[0m\n\u001b[0;32m----> 5\u001b[0;31m     \u001b[0mresultat\u001b[0m         \u001b[0;34m=\u001b[0m  \u001b[0mdf\u001b[0m\u001b[0;34m.\u001b[0m\u001b[0mapproxQuantile\u001b[0m\u001b[0;34m(\u001b[0m\u001b[0mcolonne\u001b[0m\u001b[0;34m,\u001b[0m \u001b[0mquantiles_voulus\u001b[0m \u001b[0;34m,\u001b[0m \u001b[0merreur_acceptee\u001b[0m \u001b[0;34m)\u001b[0m\u001b[0;34m\u001b[0m\u001b[0;34m\u001b[0m\u001b[0m\n\u001b[0m\u001b[1;32m      6\u001b[0m     \u001b[0mfin\u001b[0m              \u001b[0;34m=\u001b[0m \u001b[0mtime\u001b[0m\u001b[0;34m.\u001b[0m\u001b[0mtime\u001b[0m\u001b[0;34m(\u001b[0m\u001b[0;34m)\u001b[0m\u001b[0;34m\u001b[0m\u001b[0;34m\u001b[0m\u001b[0m\n\u001b[1;32m      7\u001b[0m     \u001b[0mdelais\u001b[0m           \u001b[0;34m=\u001b[0m \u001b[0mfin\u001b[0m \u001b[0;34m-\u001b[0m\u001b[0mdebut\u001b[0m\u001b[0;34m\u001b[0m\u001b[0;34m\u001b[0m\u001b[0m\n",
      "\u001b[0;32m/usr/local/spark/python/pyspark/sql/dataframe.py\u001b[0m in \u001b[0;36mapproxQuantile\u001b[0;34m(self, col, probabilities, relativeError)\u001b[0m\n\u001b[1;32m   1983\u001b[0m         \u001b[0mrelativeError\u001b[0m \u001b[0;34m=\u001b[0m \u001b[0mfloat\u001b[0m\u001b[0;34m(\u001b[0m\u001b[0mrelativeError\u001b[0m\u001b[0;34m)\u001b[0m\u001b[0;34m\u001b[0m\u001b[0;34m\u001b[0m\u001b[0m\n\u001b[1;32m   1984\u001b[0m \u001b[0;34m\u001b[0m\u001b[0m\n\u001b[0;32m-> 1985\u001b[0;31m         \u001b[0mjaq\u001b[0m \u001b[0;34m=\u001b[0m \u001b[0mself\u001b[0m\u001b[0;34m.\u001b[0m\u001b[0m_jdf\u001b[0m\u001b[0;34m.\u001b[0m\u001b[0mstat\u001b[0m\u001b[0;34m(\u001b[0m\u001b[0;34m)\u001b[0m\u001b[0;34m.\u001b[0m\u001b[0mapproxQuantile\u001b[0m\u001b[0;34m(\u001b[0m\u001b[0mcol\u001b[0m\u001b[0;34m,\u001b[0m \u001b[0mprobabilities\u001b[0m\u001b[0;34m,\u001b[0m \u001b[0mrelativeError\u001b[0m\u001b[0;34m)\u001b[0m\u001b[0;34m\u001b[0m\u001b[0;34m\u001b[0m\u001b[0m\n\u001b[0m\u001b[1;32m   1986\u001b[0m         \u001b[0mjaq_list\u001b[0m \u001b[0;34m=\u001b[0m \u001b[0;34m[\u001b[0m\u001b[0mlist\u001b[0m\u001b[0;34m(\u001b[0m\u001b[0mj\u001b[0m\u001b[0;34m)\u001b[0m \u001b[0;32mfor\u001b[0m \u001b[0mj\u001b[0m \u001b[0;32min\u001b[0m \u001b[0mjaq\u001b[0m\u001b[0;34m]\u001b[0m\u001b[0;34m\u001b[0m\u001b[0;34m\u001b[0m\u001b[0m\n\u001b[1;32m   1987\u001b[0m         \u001b[0;32mreturn\u001b[0m \u001b[0mjaq_list\u001b[0m\u001b[0;34m[\u001b[0m\u001b[0;36m0\u001b[0m\u001b[0;34m]\u001b[0m \u001b[0;32mif\u001b[0m \u001b[0misStr\u001b[0m \u001b[0;32melse\u001b[0m \u001b[0mjaq_list\u001b[0m\u001b[0;34m\u001b[0m\u001b[0;34m\u001b[0m\u001b[0m\n",
      "\u001b[0;32m/usr/local/spark/python/lib/py4j-0.10.9-src.zip/py4j/java_gateway.py\u001b[0m in \u001b[0;36m__call__\u001b[0;34m(self, *args)\u001b[0m\n\u001b[1;32m   1302\u001b[0m \u001b[0;34m\u001b[0m\u001b[0m\n\u001b[1;32m   1303\u001b[0m         \u001b[0manswer\u001b[0m \u001b[0;34m=\u001b[0m \u001b[0mself\u001b[0m\u001b[0;34m.\u001b[0m\u001b[0mgateway_client\u001b[0m\u001b[0;34m.\u001b[0m\u001b[0msend_command\u001b[0m\u001b[0;34m(\u001b[0m\u001b[0mcommand\u001b[0m\u001b[0;34m)\u001b[0m\u001b[0;34m\u001b[0m\u001b[0;34m\u001b[0m\u001b[0m\n\u001b[0;32m-> 1304\u001b[0;31m         return_value = get_return_value(\n\u001b[0m\u001b[1;32m   1305\u001b[0m             answer, self.gateway_client, self.target_id, self.name)\n\u001b[1;32m   1306\u001b[0m \u001b[0;34m\u001b[0m\u001b[0m\n",
      "\u001b[0;32m/usr/local/spark/python/pyspark/sql/utils.py\u001b[0m in \u001b[0;36mdeco\u001b[0;34m(*a, **kw)\u001b[0m\n\u001b[1;32m    132\u001b[0m                 \u001b[0;31m# Hide where the exception came from that shows a non-Pythonic\u001b[0m\u001b[0;34m\u001b[0m\u001b[0;34m\u001b[0m\u001b[0;34m\u001b[0m\u001b[0m\n\u001b[1;32m    133\u001b[0m                 \u001b[0;31m# JVM exception message.\u001b[0m\u001b[0;34m\u001b[0m\u001b[0;34m\u001b[0m\u001b[0;34m\u001b[0m\u001b[0m\n\u001b[0;32m--> 134\u001b[0;31m                 \u001b[0mraise_from\u001b[0m\u001b[0;34m(\u001b[0m\u001b[0mconverted\u001b[0m\u001b[0;34m)\u001b[0m\u001b[0;34m\u001b[0m\u001b[0;34m\u001b[0m\u001b[0m\n\u001b[0m\u001b[1;32m    135\u001b[0m             \u001b[0;32melse\u001b[0m\u001b[0;34m:\u001b[0m\u001b[0;34m\u001b[0m\u001b[0;34m\u001b[0m\u001b[0m\n\u001b[1;32m    136\u001b[0m                 \u001b[0;32mraise\u001b[0m\u001b[0;34m\u001b[0m\u001b[0;34m\u001b[0m\u001b[0m\n",
      "\u001b[0;32m/usr/local/spark/python/pyspark/sql/utils.py\u001b[0m in \u001b[0;36mraise_from\u001b[0;34m(e)\u001b[0m\n",
      "\u001b[0;31mAnalysisException\u001b[0m: cannot resolve '`vitesse`' given input columns: [Classe age, Code, Date, Libellé, Nombre cumulé de personnes vaccinées 2 doses];;\n'Project ['vitesse]\n+- Project [Code#16, Libellé#17, Classe age#42, Date#19, cast(Nombre cumulé de personnes vaccinées 2 doses#20 as int) AS Nombre cumulé de personnes vaccinées 2 doses#48]\n   +- Project [Code#16, Libellé#17, cast(Classe age#36 as int) AS Classe age#42, Date#19, Nombre cumulé de personnes vaccinées 2 doses#20]\n      +- Project [Code#16, Libellé#17, Classe d'age#18 AS Classe age#36, Date#19, Nombre cumulé de personnes vaccinées 2 doses#20]\n         +- Relation[Code#16,Libellé#17,Classe d'age#18,Date#19,Nombre cumulé de personnes vaccinées 2 doses#20] csv\n"
     ]
    }
   ],
   "source": [
    "calcul_quantile(vaccin2_new_upd, 0.05)"
   ]
  },
  {
   "cell_type": "code",
   "execution_count": 25,
   "metadata": {},
   "outputs": [
    {
     "ename": "NameError",
     "evalue": "name 'cyclistes' is not defined",
     "output_type": "error",
     "traceback": [
      "\u001b[0;31m---------------------------------------------------------------------------\u001b[0m",
      "\u001b[0;31mNameError\u001b[0m                                 Traceback (most recent call last)",
      "\u001b[0;32m<ipython-input-25-91917ec9e096>\u001b[0m in \u001b[0;36m<module>\u001b[0;34m\u001b[0m\n\u001b[0;32m----> 1\u001b[0;31m \u001b[0mcalcul_quantile\u001b[0m\u001b[0;34m(\u001b[0m\u001b[0mcyclistes\u001b[0m\u001b[0;34m,\u001b[0m \u001b[0;36m0.01\u001b[0m\u001b[0;34m)\u001b[0m\u001b[0;34m\u001b[0m\u001b[0;34m\u001b[0m\u001b[0m\n\u001b[0m",
      "\u001b[0;31mNameError\u001b[0m: name 'cyclistes' is not defined"
     ]
    }
   ],
   "source": [
    "calcul_quantile(cyclistes, 0.01)"
   ]
  },
  {
   "cell_type": "code",
   "execution_count": 67,
   "metadata": {},
   "outputs": [
    {
     "name": "stdout",
     "output_type": "stream",
     "text": [
      "delais =21.32 sec, quantiles = [0.13922027425674244, 0.467745329783825, 0.8358087561374254]\n"
     ]
    }
   ],
   "source": [
    "calcul_quantile(cyclistes, 0)"
   ]
  },
  {
   "cell_type": "markdown",
   "metadata": {},
   "source": [
    "## Reload de la dataframe villes\n",
    "\n",
    "Chargez le fichier villes dans un df nommé villes."
   ]
  },
  {
   "cell_type": "code",
   "execution_count": 53,
   "metadata": {
    "scrolled": true
   },
   "outputs": [
    {
     "name": "stdout",
     "output_type": "stream",
     "text": [
      "root\n",
      " |-- id: integer (nullable = true)\n",
      " |-- vitesse_a_pied: double (nullable = true)\n",
      " |-- vitesse_a_velo: double (nullable = true)\n",
      " |-- home: string (nullable = true)\n",
      " |-- travail: string (nullable = true)\n",
      " |-- sportif: boolean (nullable = true)\n",
      " |-- casseur: boolean (nullable = true)\n",
      " |-- statut: string (nullable = true)\n",
      " |-- salaire: double (nullable = true)\n",
      " |-- sexe: string (nullable = true)\n",
      " |-- age: integer (nullable = true)\n",
      " |-- sportivite: double (nullable = true)\n",
      " |-- velo_perf_minimale: double (nullable = true)\n",
      "\n",
      "root\n",
      " |-- Code: string (nullable = true)\n",
      " |-- Libellé: string (nullable = true)\n",
      " |-- Classe age: integer (nullable = true)\n",
      " |-- Date: string (nullable = true)\n",
      " |-- Nombre cumulé de personnes vaccinées 2 doses: integer (nullable = true)\n",
      "\n"
     ]
    }
   ],
   "source": [
    "villes =spark.read.load(\"./data/Villes/\", format=\"csv\", header=True, inferSchema=\"True\")\n",
    "villes.printSchema()\n",
    "\n",
    "vaccin2_new_upd.printSchema()\n"
   ]
  },
  {
   "cell_type": "code",
   "execution_count": 27,
   "metadata": {},
   "outputs": [
    {
     "data": {
      "text/plain": [
       "[Row(Code='01;Guadeloupe;0;26/01/2021;0', Libellé=None, Classe age=None, Date=None, Nombre cumulé de personnes vaccinées 2 doses=None),\n",
       " Row(Code='01;Guadeloupe;18-24;26/01/2021;N/A - résultat non disponible', Libellé=None, Classe age=None, Date=None, Nombre cumulé de personnes vaccinées 2 doses=None),\n",
       " Row(Code='01;Guadeloupe;25-29;26/01/2021;N/A - résultat non disponible', Libellé=None, Classe age=None, Date=None, Nombre cumulé de personnes vaccinées 2 doses=None),\n",
       " Row(Code='01;Guadeloupe;30-39;26/01/2021;0', Libellé=None, Classe age=None, Date=None, Nombre cumulé de personnes vaccinées 2 doses=None),\n",
       " Row(Code='01;Guadeloupe;40-49;26/01/2021;0', Libellé=None, Classe age=None, Date=None, Nombre cumulé de personnes vaccinées 2 doses=None),\n",
       " Row(Code='01;Guadeloupe;50-59;26/01/2021;0', Libellé=None, Classe age=None, Date=None, Nombre cumulé de personnes vaccinées 2 doses=None),\n",
       " Row(Code='01;Guadeloupe;60-64;26/01/2021;0', Libellé=None, Classe age=None, Date=None, Nombre cumulé de personnes vaccinées 2 doses=None),\n",
       " Row(Code='01;Guadeloupe;65-69;26/01/2021;0', Libellé=None, Classe age=None, Date=None, Nombre cumulé de personnes vaccinées 2 doses=None),\n",
       " Row(Code='01;Guadeloupe;70-74;26/01/2021;0', Libellé=None, Classe age=None, Date=None, Nombre cumulé de personnes vaccinées 2 doses=None),\n",
       " Row(Code='01;Guadeloupe;75-79;26/01/2021;0', Libellé=None, Classe age=None, Date=None, Nombre cumulé de personnes vaccinées 2 doses=None)]"
      ]
     },
     "execution_count": 27,
     "metadata": {},
     "output_type": "execute_result"
    }
   ],
   "source": [
    "#villes.take(10)\n",
    "vaccin2_new_upd.take(10)\n"
   ]
  },
  {
   "cell_type": "markdown",
   "metadata": {},
   "source": [
    "## 3.4) corrélation\n",
    "\n",
    "En probabilités et en statistique, la corrélation entre plusieurs variables aléatoires ou statistiques est une notion de liaison qui contredit leur indépendance.\n",
    "\n",
    "Calculez la corrélation entre les colonnes age et vitesse_a_velo."
   ]
  },
  {
   "cell_type": "code",
   "execution_count": 28,
   "metadata": {},
   "outputs": [
    {
     "data": {
      "text/plain": [
       "-0.01783584628140774"
      ]
     },
     "execution_count": 28,
     "metadata": {},
     "output_type": "execute_result"
    }
   ],
   "source": [
    "villes.corr(\"age\", \"vitesse_a_velo\")\n",
    "\n"
   ]
  },
  {
   "cell_type": "markdown",
   "metadata": {},
   "source": [
    "## 3.5) covariance\n",
    "\n",
    "La covariance entre deux variables aléatoires est un nombre permettant de quantifier leurs écarts conjoints par rapport à leurs espérances respectives. Elle s’utilise également pour deux séries de données numériques (écarts par rapport aux moyennes).\n",
    "La covariance est une extension de la notion de variance. La corrélation est une forme normalisée de la covariance.\n",
    "\n",
    "Calculez la covariance entre les colonnes age et vitesse_a_velo."
   ]
  },
  {
   "cell_type": "code",
   "execution_count": 51,
   "metadata": {},
   "outputs": [
    {
     "data": {
      "text/plain": [
       "-0.4752524914308339"
      ]
     },
     "execution_count": 51,
     "metadata": {},
     "output_type": "execute_result"
    }
   ],
   "source": [
    "villes.cov(\"age\", \"vitesse_a_velo\")"
   ]
  },
  {
   "cell_type": "markdown",
   "metadata": {},
   "source": [
    "## 3.6) sample\n",
    "\n",
    "La méthode sample() permet de tirer aléatoirement une fraction du dataframe.\n",
    "Stockez dans un nouveau dataframe nommée villes_1pct, une fraction egale à 1% du df. Comptez le nombre de lignes obtenu."
   ]
  },
  {
   "cell_type": "code",
   "execution_count": null,
   "metadata": {},
   "outputs": [],
   "source": []
  },
  {
   "cell_type": "markdown",
   "metadata": {},
   "source": [
    "A l'aide de la méthode exceptAll(), compter le nombre de ligne dans ville en omettant la fraction contenu dans ville_1pct"
   ]
  },
  {
   "cell_type": "code",
   "execution_count": 52,
   "metadata": {},
   "outputs": [
    {
     "data": {
      "text/plain": [
       "1083"
      ]
     },
     "execution_count": 52,
     "metadata": {},
     "output_type": "execute_result"
    }
   ],
   "source": [
    "villes.count()"
   ]
  },
  {
   "cell_type": "code",
   "execution_count": 53,
   "metadata": {},
   "outputs": [
    {
     "data": {
      "text/plain": [
       "6"
      ]
     },
     "execution_count": 53,
     "metadata": {},
     "output_type": "execute_result"
    }
   ],
   "source": [
    "villes_1_pct = villes.sample(False, 0.01)\n",
    "villes_1_pct.count()"
   ]
  },
  {
   "cell_type": "code",
   "execution_count": 54,
   "metadata": {},
   "outputs": [
    {
     "data": {
      "text/plain": [
       "[Row(id=5292, vitesse_a_pied=0.02, vitesse_a_velo=0.05, home='(lon:6.05 lat:1.69)', travail='(lon:34.49 lat:47.25)', sportif=False, casseur=False, statut='éboueur', salaire=25233.0748967296, sexe='F', age=66, sportivite=0.1, velo_perf_minimale=0.4),\n",
       " Row(id=5350, vitesse_a_pied=0.23783659695381268, vitesse_a_velo=0.6342309252101671, home='(lon:34.51 lat:38.77)', travail='(lon:25.10 lat:1.46)', sportif=False, casseur=False, statut='professeur', salaire=34095.943864653185, sexe='H', age=75, sportivite=0.7927886565127089, velo_perf_minimale=0.4),\n",
       " Row(id=5525, vitesse_a_pied=1.7768955307594845, vitesse_a_velo=4.738388082025291, home='(lon:3.55 lat:25.34)', travail='(lon:31.39 lat:27.59)', sportif=False, casseur=False, statut='technicien_de_surface', salaire=20645.92983184995, sexe='H', age=75, sportivite=5.922985102531614, velo_perf_minimale=0.4),\n",
       " Row(id=5757, vitesse_a_pied=0.20558995302735905, vitesse_a_velo=0.5482398747396241, home='(lon:47.87 lat:7.88)', travail='(lon:27.65 lat:10.79)', sportif=False, casseur=False, statut='cadre', salaire=38014.31927295661, sexe='H', age=37, sportivite=0.6852998434245301, velo_perf_minimale=0.4),\n",
       " Row(id=6044, vitesse_a_pied=0.5662243494207182, vitesse_a_velo=1.4155608735517955, home='(lon:31.95 lat:19.48)', travail='(lon:19.98 lat:33.32)', sportif=False, casseur=False, statut='technicien_de_surface', salaire=23182.29483875742, sexe='F', age=20, sportivite=2.831121747103591, velo_perf_minimale=0.4),\n",
       " Row(id=6252, vitesse_a_pied=0.37977384061527564, vitesse_a_velo=0.9494346015381891, home='(lon:21.34 lat:21.09)', travail='(lon:31.00 lat:6.16)', sportif=False, casseur=False, statut='technicien_de_surface', salaire=18344.879718112134, sexe='F', age=70, sportivite=1.8988692030763783, velo_perf_minimale=0.4)]"
      ]
     },
     "execution_count": 54,
     "metadata": {},
     "output_type": "execute_result"
    }
   ],
   "source": [
    "villes_1_pct.collect()"
   ]
  },
  {
   "cell_type": "code",
   "execution_count": 55,
   "metadata": {},
   "outputs": [
    {
     "data": {
      "text/plain": [
       "1077"
      ]
     },
     "execution_count": 55,
     "metadata": {},
     "output_type": "execute_result"
    }
   ],
   "source": [
    "villes.exceptAll(villes_1_pct).count()"
   ]
  },
  {
   "cell_type": "markdown",
   "metadata": {},
   "source": [
    "## 3.7) filter \n",
    "\n",
    "La méthode filter() permet le df selon certaines valeurs dans les colonnes.\n",
    "\n",
    "Utilisez cette méthode pour récuperer seulement les lignes avec le sexe féminin."
   ]
  },
  {
   "cell_type": "code",
   "execution_count": 75,
   "metadata": {},
   "outputs": [
    {
     "name": "stdout",
     "output_type": "stream",
     "text": [
      "root\n",
      " |-- id: integer (nullable = true)\n",
      " |-- vitesse_a_pied: double (nullable = true)\n",
      " |-- vitesse_a_velo: double (nullable = true)\n",
      " |-- home: string (nullable = true)\n",
      " |-- travail: string (nullable = true)\n",
      " |-- sportif: boolean (nullable = true)\n",
      " |-- casseur: boolean (nullable = true)\n",
      " |-- statut: string (nullable = true)\n",
      " |-- salaire: double (nullable = true)\n",
      " |-- sexe: string (nullable = true)\n",
      " |-- age: integer (nullable = true)\n",
      " |-- sportivite: double (nullable = true)\n",
      " |-- velo_perf_minimale: double (nullable = true)\n",
      "\n"
     ]
    }
   ],
   "source": [
    "villes.printSchema()\n"
   ]
  },
  {
   "cell_type": "code",
   "execution_count": 42,
   "metadata": {},
   "outputs": [
    {
     "name": "stdout",
     "output_type": "stream",
     "text": [
      "root\n",
      " |-- Code: string (nullable = true)\n",
      " |-- Libellé: string (nullable = true)\n",
      " |-- Classe age: integer (nullable = true)\n",
      " |-- Date: string (nullable = true)\n",
      " |-- Nombre cumulé de personnes vaccinées 2 doses: integer (nullable = true)\n",
      "\n"
     ]
    }
   ],
   "source": [
    "#villesF = villes.filter(villes['sexe']==\"F\")\n",
    "\n",
    "vaccin2_new_upd.printSchema()\n"
   ]
  },
  {
   "cell_type": "code",
   "execution_count": 43,
   "metadata": {},
   "outputs": [],
   "source": [
    "vacc2 = vaccin2_new_upd\n",
    "\n",
    "vacc2_upd = vacc2.withColumn(\"Classe age\", vacc2[\"Classe age\"].cast(StringType()))\n"
   ]
  },
  {
   "cell_type": "code",
   "execution_count": 69,
   "metadata": {},
   "outputs": [
    {
     "name": "stdout",
     "output_type": "stream",
     "text": [
      "root\n",
      " |-- Code: string (nullable = true)\n",
      " |-- Libellé: string (nullable = true)\n",
      " |-- Classe age: string (nullable = true)\n",
      " |-- Date: string (nullable = true)\n",
      " |-- Nombre cumulé de personnes vaccinées 2 doses: integer (nullable = true)\n",
      "\n"
     ]
    }
   ],
   "source": [
    "vacc2_upd.printSchema()\n"
   ]
  },
  {
   "cell_type": "code",
   "execution_count": 74,
   "metadata": {},
   "outputs": [],
   "source": [
    "vaccinAge = spark.read.load(\"./data/Covid/vacsi-reg-classe-age-2021-01-29.csv\", format=\"csv\", header=True, inferSchema=\"True\")"
   ]
  },
  {
   "cell_type": "code",
   "execution_count": 75,
   "metadata": {},
   "outputs": [
    {
     "name": "stdout",
     "output_type": "stream",
     "text": [
      "+----+----------+------------+----------+--------------------------------------------+\n",
      "|Code|   Libellé|Classe d'age|      Date|Nombre cumulé de personnes vaccinées 2 doses|\n",
      "+----+----------+------------+----------+--------------------------------------------+\n",
      "|   1|Guadeloupe|           0|26/01/2021|                                           0|\n",
      "|   1|Guadeloupe|       18-24|26/01/2021|                        N/A - résultat no...|\n",
      "|   1|Guadeloupe|       25-29|26/01/2021|                        N/A - résultat no...|\n",
      "|   1|Guadeloupe|       30-39|26/01/2021|                                           0|\n",
      "|   1|Guadeloupe|       40-49|26/01/2021|                                           0|\n",
      "|   1|Guadeloupe|       50-59|26/01/2021|                                           0|\n",
      "|   1|Guadeloupe|       60-64|26/01/2021|                                           0|\n",
      "|   1|Guadeloupe|       65-69|26/01/2021|                                           0|\n",
      "|   1|Guadeloupe|       70-74|26/01/2021|                                           0|\n",
      "|   1|Guadeloupe|       75-79|26/01/2021|                                           0|\n",
      "|   1|Guadeloupe|         80-|26/01/2021|                                           0|\n",
      "|   2|Martinique|           0|26/01/2021|                                           1|\n",
      "|   2|Martinique|       18-24|26/01/2021|                                           0|\n",
      "|   2|Martinique|       25-29|26/01/2021|                                           0|\n",
      "|   2|Martinique|       30-39|26/01/2021|                                           0|\n",
      "|   2|Martinique|       40-49|26/01/2021|                                           0|\n",
      "|   2|Martinique|       50-59|26/01/2021|                                           0|\n",
      "|   2|Martinique|       60-64|26/01/2021|                                           0|\n",
      "|   2|Martinique|       65-69|26/01/2021|                                           0|\n",
      "|   2|Martinique|       70-74|26/01/2021|                                           1|\n",
      "+----+----------+------------+----------+--------------------------------------------+\n",
      "only showing top 20 rows\n",
      "\n"
     ]
    }
   ],
   "source": [
    "vaccinAge.show()"
   ]
  },
  {
   "cell_type": "code",
   "execution_count": 79,
   "metadata": {},
   "outputs": [
    {
     "data": {
      "text/plain": [
       "84"
      ]
     },
     "execution_count": 79,
     "metadata": {},
     "output_type": "execute_result"
    }
   ],
   "source": [
    "#vacc2F_upd = vacc2_upd.filter(vacc2_upd[\"Classe d'age\"] == \"25-29\")\n",
    "#vacc2F_upd.count()\n",
    "\n",
    "#Nombre de \n",
    "\n",
    "vaccinAge2529 = vaccinAge.filter(vaccinAge[\"Classe d'age\"] == \"25-29\")\n",
    "vaccinAge2529.count()"
   ]
  },
  {
   "cell_type": "code",
   "execution_count": 127,
   "metadata": {},
   "outputs": [],
   "source": [
    "#villesF.count()"
   ]
  },
  {
   "cell_type": "code",
   "execution_count": 126,
   "metadata": {},
   "outputs": [],
   "source": [
    "#villesF.take(10)"
   ]
  },
  {
   "cell_type": "markdown",
   "metadata": {},
   "source": [
    "On peux aussi filtrer le df avec la méthode where(). Filtrez le df de la même façon que precedemment en utilisant cette méthode."
   ]
  },
  {
   "cell_type": "code",
   "execution_count": 128,
   "metadata": {},
   "outputs": [],
   "source": [
    "vacc = spark.read.load(\"./data/Covid/vacsi-a-dep-2021-02-03-20h15.csv\", format=\"csv\", header=True, inferSchema=\"True\")"
   ]
  },
  {
   "cell_type": "code",
   "execution_count": 129,
   "metadata": {},
   "outputs": [
    {
     "name": "stdout",
     "output_type": "stream",
     "text": [
      "+---+-----------+----------+-------+-----------+\n",
      "|dep|clage_vacsi|      jour|n_dose1|n_cum_dose1|\n",
      "+---+-----------+----------+-------+-----------+\n",
      "| 01|          0|2021-01-06|      1|          1|\n",
      "| 01|          0|2021-01-07|     66|         67|\n",
      "| 01|          0|2021-01-08|    159|        226|\n",
      "| 01|          0|2021-01-09|      2|        228|\n",
      "| 01|          0|2021-01-11|    136|        364|\n",
      "| 01|          0|2021-01-12|    278|        642|\n",
      "| 01|          0|2021-01-13|    416|       1058|\n",
      "| 01|          0|2021-01-14|    466|       1524|\n",
      "| 01|          0|2021-01-15|    388|       1912|\n",
      "| 01|          0|2021-01-16|    197|       2109|\n",
      "| 01|          0|2021-01-17|    125|       2234|\n",
      "| 01|          0|2021-01-18|    337|       2571|\n",
      "| 01|          0|2021-01-19|   1009|       3580|\n",
      "| 01|          0|2021-01-20|   1165|       4745|\n",
      "| 01|          0|2021-01-21|    991|       5736|\n",
      "| 01|          0|2021-01-22|    634|       6370|\n",
      "| 01|          0|2021-01-23|    218|       6588|\n",
      "| 01|          0|2021-01-24|     68|       6656|\n",
      "| 01|          0|2021-01-25|    459|       7115|\n",
      "| 01|          0|2021-01-26|    705|       7820|\n",
      "+---+-----------+----------+-------+-----------+\n",
      "only showing top 20 rows\n",
      "\n"
     ]
    }
   ],
   "source": [
    "vacc.show()"
   ]
  },
  {
   "cell_type": "code",
   "execution_count": null,
   "metadata": {},
   "outputs": [],
   "source": [
    "vaccFilter = vacc.filter(vacc(\"clage_vacsi\"))"
   ]
  },
  {
   "cell_type": "markdown",
   "metadata": {},
   "source": [
    "# 4) Transformer la données : les transformations!"
   ]
  },
  {
   "cell_type": "markdown",
   "metadata": {},
   "source": [
    "## Transformations : demandent à être suivi par un collect ou une action (count par exemple)"
   ]
  },
  {
   "cell_type": "markdown",
   "metadata": {},
   "source": [
    "## 4.1) Obtenir des statistiques sur les colonnes numériques\n",
    "\n",
    "La méthode describe() permet de calculer les statistiques récapitulatives d'une ou plusieurs colonnes numériques dans un df. Si le nom des colonnes n'est pas spécifié, la méthode calculera des statistiques récapitulatives pour toutes les colonnes numériques présentes dans le df.\n",
    "\n",
    "Afficher les statistiques de la colonne age."
   ]
  },
  {
   "cell_type": "code",
   "execution_count": 83,
   "metadata": {
    "scrolled": false
   },
   "outputs": [
    {
     "data": {
      "text/plain": [
       "[Row(summary='count', age='1083'),\n",
       " Row(summary='mean', age='49.30655586334257'),\n",
       " Row(summary='stddev', age='20.009984186582763'),\n",
       " Row(summary='min', age='15'),\n",
       " Row(summary='max', age='84')]"
      ]
     },
     "execution_count": 83,
     "metadata": {},
     "output_type": "execute_result"
    }
   ],
   "source": [
    "villes.describe([\"age\"]).collect()\n",
    "\n"
   ]
  },
  {
   "cell_type": "code",
   "execution_count": 84,
   "metadata": {},
   "outputs": [
    {
     "data": {
      "text/plain": [
       "[Row(summary='count', Nombre cumulé de personnes vaccinées 2 doses='924'),\n",
       " Row(summary='mean', Nombre cumulé de personnes vaccinées 2 doses='211.0254129606099'),\n",
       " Row(summary='stddev', Nombre cumulé de personnes vaccinées 2 doses='572.4444676687477'),\n",
       " Row(summary='min', Nombre cumulé de personnes vaccinées 2 doses='0'),\n",
       " Row(summary='max', Nombre cumulé de personnes vaccinées 2 doses='N/A - résultat non disponible')]"
      ]
     },
     "execution_count": 84,
     "metadata": {},
     "output_type": "execute_result"
    }
   ],
   "source": [
    "vaccinAge.describe([\"Nombre cumulé de personnes vaccinées 2 doses\"]).collect()"
   ]
  },
  {
   "cell_type": "code",
   "execution_count": 85,
   "metadata": {},
   "outputs": [
    {
     "name": "stdout",
     "output_type": "stream",
     "text": [
      "+-------+--------------------------------------------+\n",
      "|summary|Nombre cumulé de personnes vaccinées 2 doses|\n",
      "+-------+--------------------------------------------+\n",
      "|  count|                                         924|\n",
      "|   mean|                           211.0254129606099|\n",
      "| stddev|                           572.4444676687477|\n",
      "|    min|                                           0|\n",
      "|    max|                        N/A - résultat no...|\n",
      "+-------+--------------------------------------------+\n",
      "\n"
     ]
    }
   ],
   "source": [
    "vaccinAge.describe([\"Nombre cumulé de personnes vaccinées 2 doses\"]).show()"
   ]
  },
  {
   "cell_type": "code",
   "execution_count": 62,
   "metadata": {},
   "outputs": [
    {
     "name": "stdout",
     "output_type": "stream",
     "text": [
      "+-------+------------------+\n",
      "|summary|               age|\n",
      "+-------+------------------+\n",
      "|  count|              1083|\n",
      "|   mean| 49.30655586334257|\n",
      "| stddev|20.009984186582763|\n",
      "|    min|                15|\n",
      "|    max|                84|\n",
      "+-------+------------------+\n",
      "\n"
     ]
    }
   ],
   "source": [
    "villes.describe([\"age\"]).show()"
   ]
  },
  {
   "cell_type": "markdown",
   "metadata": {},
   "source": [
    "## 4.2) groupby\n",
    "\n",
    "La méthode groupBy() suivie de la methode agg() permet de grouper le df selon les catgories d'une ou plusieurs colonnes pour faire des calculs sur ces catégories.\n",
    "\n",
    "Calculez la moyenne de la colonnes sportivité selon le sexe des personnes."
   ]
  },
  {
   "cell_type": "code",
   "execution_count": 96,
   "metadata": {},
   "outputs": [
    {
     "data": {
      "text/plain": [
       "[Row(sexe='F', avg(sportivite)=2.201847229112897),\n",
       " Row(sexe='H', avg(sportivite)=2.161359149481709)]"
      ]
     },
     "execution_count": 96,
     "metadata": {},
     "output_type": "execute_result"
    }
   ],
   "source": [
    "villes.groupBy(\"sexe\").agg({\"sportivite\" : \"mean\"}).collect()"
   ]
  },
  {
   "cell_type": "code",
   "execution_count": 105,
   "metadata": {},
   "outputs": [],
   "source": [
    "\n",
    "vaccinAge = spark.read.load(\"./data/Covid/vacsi-reg-classe-age-2021-01-29.csv\", format=\"csv\", header=True, inferSchema=\"True\")\n",
    "\n",
    "vaccinSexe = spark.read.load(\"./data/Covid/vacsi-reg-sexe-2021-01-29.csv\", format=\"csv\", header=True, inferSchema=\"True\")"
   ]
  },
  {
   "cell_type": "code",
   "execution_count": 151,
   "metadata": {},
   "outputs": [
    {
     "name": "stdout",
     "output_type": "stream",
     "text": [
      "+----+----------+------------+----------+--------------------------------------------+\n",
      "|Code|   Libellé|Classe d'age|      Date|Nombre cumulé de personnes vaccinées 2 doses|\n",
      "+----+----------+------------+----------+--------------------------------------------+\n",
      "|   1|Guadeloupe|           0|26/01/2021|                                           0|\n",
      "|   1|Guadeloupe|       18-24|26/01/2021|                        N/A - résultat no...|\n",
      "|   1|Guadeloupe|       25-29|26/01/2021|                        N/A - résultat no...|\n",
      "|   1|Guadeloupe|       30-39|26/01/2021|                                           0|\n",
      "|   1|Guadeloupe|       40-49|26/01/2021|                                           0|\n",
      "|   1|Guadeloupe|       50-59|26/01/2021|                                           0|\n",
      "|   1|Guadeloupe|       60-64|26/01/2021|                                           0|\n",
      "|   1|Guadeloupe|       65-69|26/01/2021|                                           0|\n",
      "|   1|Guadeloupe|       70-74|26/01/2021|                                           0|\n",
      "|   1|Guadeloupe|       75-79|26/01/2021|                                           0|\n",
      "|   1|Guadeloupe|         80-|26/01/2021|                                           0|\n",
      "|   2|Martinique|           0|26/01/2021|                                           1|\n",
      "|   2|Martinique|       18-24|26/01/2021|                                           0|\n",
      "|   2|Martinique|       25-29|26/01/2021|                                           0|\n",
      "|   2|Martinique|       30-39|26/01/2021|                                           0|\n",
      "|   2|Martinique|       40-49|26/01/2021|                                           0|\n",
      "|   2|Martinique|       50-59|26/01/2021|                                           0|\n",
      "|   2|Martinique|       60-64|26/01/2021|                                           0|\n",
      "|   2|Martinique|       65-69|26/01/2021|                                           0|\n",
      "|   2|Martinique|       70-74|26/01/2021|                                           1|\n",
      "+----+----------+------------+----------+--------------------------------------------+\n",
      "only showing top 20 rows\n",
      "\n"
     ]
    }
   ],
   "source": [
    "vaccinAge.show()\n"
   ]
  },
  {
   "cell_type": "code",
   "execution_count": 112,
   "metadata": {},
   "outputs": [
    {
     "name": "stdout",
     "output_type": "stream",
     "text": [
      "root\n",
      " |-- Code: integer (nullable = true)\n",
      " |-- Libellé: string (nullable = true)\n",
      " |-- sexe: integer (nullable = true)\n",
      " |-- Date: string (nullable = true)\n",
      " |-- Nombre cumulé de personnes vaccinées 2 doses: string (nullable = true)\n",
      "\n"
     ]
    }
   ],
   "source": [
    "vaccinSexe.printSchema()"
   ]
  },
  {
   "cell_type": "code",
   "execution_count": 108,
   "metadata": {},
   "outputs": [
    {
     "data": {
      "text/plain": [
       "[Row(Classe d'age='80-', avg(Nombre cumulé de personnes vaccinées 2 doses)=250.09722222222223),\n",
       " Row(Classe d'age='65-69', avg(Nombre cumulé de personnes vaccinées 2 doses)=80.11842105263158),\n",
       " Row(Classe d'age='0', avg(Nombre cumulé de personnes vaccinées 2 doses)=1102.2666666666667),\n",
       " Row(Classe d'age='30-39', avg(Nombre cumulé de personnes vaccinées 2 doses)=35.56944444444444),\n",
       " Row(Classe d'age='75-79', avg(Nombre cumulé de personnes vaccinées 2 doses)=46.361111111111114),\n",
       " Row(Classe d'age='40-49', avg(Nombre cumulé de personnes vaccinées 2 doses)=70.52777777777777),\n",
       " Row(Classe d'age='70-74', avg(Nombre cumulé de personnes vaccinées 2 doses)=59.47222222222222),\n",
       " Row(Classe d'age='18-24', avg(Nombre cumulé de personnes vaccinées 2 doses)=2.7903225806451615),\n",
       " Row(Classe d'age='25-29', avg(Nombre cumulé de personnes vaccinées 2 doses)=10.085714285714285),\n",
       " Row(Classe d'age='50-59', avg(Nombre cumulé de personnes vaccinées 2 doses)=419.44444444444446),\n",
       " Row(Classe d'age='60-64', avg(Nombre cumulé de personnes vaccinées 2 doses)=180.18055555555554)]"
      ]
     },
     "execution_count": 108,
     "metadata": {},
     "output_type": "execute_result"
    }
   ],
   "source": [
    "vaccinAge.groupBy(\"Classe d'age\").agg({\"Nombre cumulé de personnes vaccinées 2 doses\": \"mean\"}).collect()"
   ]
  },
  {
   "cell_type": "code",
   "execution_count": 118,
   "metadata": {},
   "outputs": [
    {
     "data": {
      "text/plain": [
       "[Row(sexe=1, avg(Nombre cumulé de personnes vaccinées 2 doses)=465.40277777777777),\n",
       " Row(sexe=2, avg(Nombre cumulé de personnes vaccinées 2 doses)=656.421052631579),\n",
       " Row(sexe=0, avg(Nombre cumulé de personnes vaccinées 2 doses)=1063.9733333333334)]"
      ]
     },
     "execution_count": 118,
     "metadata": {},
     "output_type": "execute_result"
    }
   ],
   "source": [
    "vaccinSexe.groupBy(\"sexe\").agg({\"Nombre cumulé de personnes vaccinées 2 doses\": \"mean\"}).collect()"
   ]
  },
  {
   "cell_type": "markdown",
   "metadata": {},
   "source": [
    "Calculez la moyenne de la colonne age et la valeur max de la colonne sportivité par sexe."
   ]
  },
  {
   "cell_type": "code",
   "execution_count": 64,
   "metadata": {},
   "outputs": [
    {
     "data": {
      "text/plain": [
       "[Row(sexe='F', max(sportivite)=8.683572706695392, avg(age)=49.847036328871894),\n",
       " Row(sexe='H', max(sportivite)=8.663362507588833, avg(age)=48.801785714285714)]"
      ]
     },
     "execution_count": 64,
     "metadata": {},
     "output_type": "execute_result"
    }
   ],
   "source": [
    "villes.groupBy(\"sexe\").agg({\"sportivite\" : \"max\", \"age\":\"mean\"}).collect()"
   ]
  },
  {
   "cell_type": "markdown",
   "metadata": {},
   "source": [
    "Calculez la moyenne des colonnes vitesse_a_pied et vitesse_a_velo par sexe."
   ]
  },
  {
   "cell_type": "code",
   "execution_count": 130,
   "metadata": {
    "scrolled": true
   },
   "outputs": [
    {
     "data": {
      "text/plain": [
       "[Row(sexe='F', avg(vitesse_a_velo)=1.1131501228739036, avg(vitesse_a_pied)=0.445260049149563),\n",
       " Row(sexe='H', avg(vitesse_a_velo)=1.8020997668473537, avg(vitesse_a_pied)=0.6757874125677557)]"
      ]
     },
     "execution_count": 130,
     "metadata": {},
     "output_type": "execute_result"
    }
   ],
   "source": [
    "villes.groupBy(\"sexe\").agg({\"vitesse_a_pied\" : \"mean\", \"vitesse_a_velo\":\"mean\"}).collect()"
   ]
  },
  {
   "cell_type": "code",
   "execution_count": 134,
   "metadata": {},
   "outputs": [
    {
     "name": "stdout",
     "output_type": "stream",
     "text": [
      "+---+-----------+----------+-------+-----------+\n",
      "|dep|clage_vacsi|      jour|n_dose1|n_cum_dose1|\n",
      "+---+-----------+----------+-------+-----------+\n",
      "| 01|          0|2021-01-06|      1|          1|\n",
      "| 01|          0|2021-01-07|     66|         67|\n",
      "| 01|          0|2021-01-08|    159|        226|\n",
      "| 01|          0|2021-01-09|      2|        228|\n",
      "| 01|          0|2021-01-11|    136|        364|\n",
      "| 01|          0|2021-01-12|    278|        642|\n",
      "| 01|          0|2021-01-13|    416|       1058|\n",
      "| 01|          0|2021-01-14|    466|       1524|\n",
      "| 01|          0|2021-01-15|    388|       1912|\n",
      "| 01|          0|2021-01-16|    197|       2109|\n",
      "| 01|          0|2021-01-17|    125|       2234|\n",
      "| 01|          0|2021-01-18|    337|       2571|\n",
      "| 01|          0|2021-01-19|   1009|       3580|\n",
      "| 01|          0|2021-01-20|   1165|       4745|\n",
      "| 01|          0|2021-01-21|    991|       5736|\n",
      "| 01|          0|2021-01-22|    634|       6370|\n",
      "| 01|          0|2021-01-23|    218|       6588|\n",
      "| 01|          0|2021-01-24|     68|       6656|\n",
      "| 01|          0|2021-01-25|    459|       7115|\n",
      "| 01|          0|2021-01-26|    705|       7820|\n",
      "+---+-----------+----------+-------+-----------+\n",
      "only showing top 20 rows\n",
      "\n"
     ]
    }
   ],
   "source": [
    "vacc = spark.read.load(\"./data/Covid/vacsi-a-dep-2021-02-03-20h15.csv\", format=\"csv\", header=True, inferSchema=\"True\")\n",
    "\n",
    "vacc.show()"
   ]
  },
  {
   "cell_type": "code",
   "execution_count": 137,
   "metadata": {},
   "outputs": [
    {
     "data": {
      "text/plain": [
       "[Row(clage_vacsi=64, max(n_dose1)=453),\n",
       " Row(clage_vacsi=59, max(n_dose1)=913),\n",
       " Row(clage_vacsi=39, max(n_dose1)=305),\n",
       " Row(clage_vacsi=49, max(n_dose1)=412),\n",
       " Row(clage_vacsi=69, max(n_dose1)=344),\n",
       " Row(clage_vacsi=80, max(n_dose1)=3473),\n",
       " Row(clage_vacsi=24, max(n_dose1)=47),\n",
       " Row(clage_vacsi=29, max(n_dose1)=122),\n",
       " Row(clage_vacsi=79, max(n_dose1)=1245),\n",
       " Row(clage_vacsi=0, max(n_dose1)=6885),\n",
       " Row(clage_vacsi=74, max(n_dose1)=397)]"
      ]
     },
     "execution_count": 137,
     "metadata": {},
     "output_type": "execute_result"
    }
   ],
   "source": [
    "vacc.groupBy(\"clage_vacsi\").agg({\"n_dose1\":\"max\"}).collect()"
   ]
  },
  {
   "cell_type": "code",
   "execution_count": 141,
   "metadata": {},
   "outputs": [
    {
     "name": "stdout",
     "output_type": "stream",
     "text": [
      "+-----------+-----+\n",
      "|clage_vacsi|count|\n",
      "+-----------+-----+\n",
      "|         64| 2540|\n",
      "|         59| 2590|\n",
      "|         39| 2347|\n",
      "|         49| 2457|\n",
      "|         69| 2537|\n",
      "|         80| 2562|\n",
      "|         24| 1427|\n",
      "|         29| 1898|\n",
      "|         79| 2494|\n",
      "|          0| 2727|\n",
      "|         74| 2504|\n",
      "+-----------+-----+\n",
      "\n"
     ]
    }
   ],
   "source": [
    "vacc.groupBy(\"clage_vacsi\").count().show()"
   ]
  },
  {
   "cell_type": "code",
   "execution_count": 152,
   "metadata": {},
   "outputs": [
    {
     "data": {
      "text/plain": [
       "[Row(clage_vacsi=64, count=2540),\n",
       " Row(clage_vacsi=59, count=2590),\n",
       " Row(clage_vacsi=39, count=2347),\n",
       " Row(clage_vacsi=49, count=2457),\n",
       " Row(clage_vacsi=69, count=2537),\n",
       " Row(clage_vacsi=80, count=2562),\n",
       " Row(clage_vacsi=24, count=1427),\n",
       " Row(clage_vacsi=29, count=1898),\n",
       " Row(clage_vacsi=79, count=2494),\n",
       " Row(clage_vacsi=0, count=2727),\n",
       " Row(clage_vacsi=74, count=2504)]"
      ]
     },
     "execution_count": 152,
     "metadata": {},
     "output_type": "execute_result"
    }
   ],
   "source": [
    "vacc.groupBy(\"clage_vacsi\").count().collect()"
   ]
  },
  {
   "cell_type": "code",
   "execution_count": 157,
   "metadata": {},
   "outputs": [
    {
     "data": {
      "text/plain": [
       "[Row(dep='01', clage_vacsi=0, jour='2021-01-06', n_dose1=1, n_cum_dose1=1),\n",
       " Row(dep='01', clage_vacsi=0, jour='2021-01-07', n_dose1=66, n_cum_dose1=67),\n",
       " Row(dep='01', clage_vacsi=0, jour='2021-01-08', n_dose1=159, n_cum_dose1=226),\n",
       " Row(dep='01', clage_vacsi=0, jour='2021-01-09', n_dose1=2, n_cum_dose1=228),\n",
       " Row(dep='01', clage_vacsi=0, jour='2021-01-11', n_dose1=136, n_cum_dose1=364),\n",
       " Row(dep='01', clage_vacsi=0, jour='2021-01-12', n_dose1=278, n_cum_dose1=642),\n",
       " Row(dep='01', clage_vacsi=0, jour='2021-01-13', n_dose1=416, n_cum_dose1=1058),\n",
       " Row(dep='01', clage_vacsi=0, jour='2021-01-14', n_dose1=466, n_cum_dose1=1524),\n",
       " Row(dep='01', clage_vacsi=0, jour='2021-01-15', n_dose1=388, n_cum_dose1=1912),\n",
       " Row(dep='01', clage_vacsi=0, jour='2021-01-16', n_dose1=197, n_cum_dose1=2109),\n",
       " Row(dep='01', clage_vacsi=0, jour='2021-01-17', n_dose1=125, n_cum_dose1=2234),\n",
       " Row(dep='01', clage_vacsi=0, jour='2021-01-18', n_dose1=337, n_cum_dose1=2571),\n",
       " Row(dep='01', clage_vacsi=0, jour='2021-01-19', n_dose1=1009, n_cum_dose1=3580),\n",
       " Row(dep='01', clage_vacsi=0, jour='2021-01-20', n_dose1=1165, n_cum_dose1=4745),\n",
       " Row(dep='01', clage_vacsi=0, jour='2021-01-21', n_dose1=991, n_cum_dose1=5736),\n",
       " Row(dep='01', clage_vacsi=0, jour='2021-01-22', n_dose1=634, n_cum_dose1=6370),\n",
       " Row(dep='01', clage_vacsi=0, jour='2021-01-23', n_dose1=218, n_cum_dose1=6588),\n",
       " Row(dep='01', clage_vacsi=0, jour='2021-01-24', n_dose1=68, n_cum_dose1=6656),\n",
       " Row(dep='01', clage_vacsi=0, jour='2021-01-25', n_dose1=459, n_cum_dose1=7115),\n",
       " Row(dep='01', clage_vacsi=0, jour='2021-01-26', n_dose1=705, n_cum_dose1=7820),\n",
       " Row(dep='01', clage_vacsi=0, jour='2021-01-27', n_dose1=499, n_cum_dose1=8319),\n",
       " Row(dep='01', clage_vacsi=0, jour='2021-01-28', n_dose1=612, n_cum_dose1=8931),\n",
       " Row(dep='01', clage_vacsi=0, jour='2021-01-29', n_dose1=615, n_cum_dose1=9546),\n",
       " Row(dep='01', clage_vacsi=0, jour='2021-01-30', n_dose1=231, n_cum_dose1=9777),\n",
       " Row(dep='01', clage_vacsi=0, jour='2021-01-31', n_dose1=59, n_cum_dose1=9836),\n",
       " Row(dep='01', clage_vacsi=0, jour='2021-02-01', n_dose1=417, n_cum_dose1=10253),\n",
       " Row(dep='01', clage_vacsi=0, jour='2021-02-02', n_dose1=474, n_cum_dose1=10727),\n",
       " Row(dep='01', clage_vacsi=24, jour='2021-01-15', n_dose1=1, n_cum_dose1=1),\n",
       " Row(dep='01', clage_vacsi=24, jour='2021-01-16', n_dose1=3, n_cum_dose1=4),\n",
       " Row(dep='01', clage_vacsi=24, jour='2021-01-20', n_dose1=3, n_cum_dose1=7),\n",
       " Row(dep='01', clage_vacsi=24, jour='2021-01-21', n_dose1=1, n_cum_dose1=8),\n",
       " Row(dep='01', clage_vacsi=24, jour='2021-01-22', n_dose1=3, n_cum_dose1=11),\n",
       " Row(dep='01', clage_vacsi=24, jour='2021-01-26', n_dose1=1, n_cum_dose1=12),\n",
       " Row(dep='01', clage_vacsi=24, jour='2021-01-27', n_dose1=4, n_cum_dose1=16),\n",
       " Row(dep='01', clage_vacsi=24, jour='2021-01-29', n_dose1=2, n_cum_dose1=18),\n",
       " Row(dep='01', clage_vacsi=24, jour='2021-01-31', n_dose1=1, n_cum_dose1=19),\n",
       " Row(dep='01', clage_vacsi=29, jour='2021-01-11', n_dose1=2, n_cum_dose1=2),\n",
       " Row(dep='01', clage_vacsi=29, jour='2021-01-12', n_dose1=4, n_cum_dose1=6),\n",
       " Row(dep='01', clage_vacsi=29, jour='2021-01-13', n_dose1=2, n_cum_dose1=8),\n",
       " Row(dep='01', clage_vacsi=29, jour='2021-01-14', n_dose1=4, n_cum_dose1=12),\n",
       " Row(dep='01', clage_vacsi=29, jour='2021-01-15', n_dose1=2, n_cum_dose1=14),\n",
       " Row(dep='01', clage_vacsi=29, jour='2021-01-16', n_dose1=2, n_cum_dose1=16),\n",
       " Row(dep='01', clage_vacsi=29, jour='2021-01-17', n_dose1=1, n_cum_dose1=17),\n",
       " Row(dep='01', clage_vacsi=29, jour='2021-01-18', n_dose1=1, n_cum_dose1=18),\n",
       " Row(dep='01', clage_vacsi=29, jour='2021-01-19', n_dose1=3, n_cum_dose1=21),\n",
       " Row(dep='01', clage_vacsi=29, jour='2021-01-20', n_dose1=6, n_cum_dose1=27),\n",
       " Row(dep='01', clage_vacsi=29, jour='2021-01-21', n_dose1=5, n_cum_dose1=32),\n",
       " Row(dep='01', clage_vacsi=29, jour='2021-01-22', n_dose1=7, n_cum_dose1=39),\n",
       " Row(dep='01', clage_vacsi=29, jour='2021-01-26', n_dose1=7, n_cum_dose1=46),\n",
       " Row(dep='01', clage_vacsi=29, jour='2021-01-27', n_dose1=3, n_cum_dose1=49),\n",
       " Row(dep='01', clage_vacsi=29, jour='2021-01-28', n_dose1=1, n_cum_dose1=50),\n",
       " Row(dep='01', clage_vacsi=29, jour='2021-01-29', n_dose1=4, n_cum_dose1=54),\n",
       " Row(dep='01', clage_vacsi=29, jour='2021-02-01', n_dose1=0, n_cum_dose1=54),\n",
       " Row(dep='01', clage_vacsi=29, jour='2021-02-02', n_dose1=2, n_cum_dose1=56),\n",
       " Row(dep='01', clage_vacsi=39, jour='2021-01-08', n_dose1=1, n_cum_dose1=1),\n",
       " Row(dep='01', clage_vacsi=39, jour='2021-01-11', n_dose1=9, n_cum_dose1=10),\n",
       " Row(dep='01', clage_vacsi=39, jour='2021-01-12', n_dose1=14, n_cum_dose1=24),\n",
       " Row(dep='01', clage_vacsi=39, jour='2021-01-13', n_dose1=17, n_cum_dose1=41),\n",
       " Row(dep='01', clage_vacsi=39, jour='2021-01-14', n_dose1=15, n_cum_dose1=56),\n",
       " Row(dep='01', clage_vacsi=39, jour='2021-01-15', n_dose1=24, n_cum_dose1=80),\n",
       " Row(dep='01', clage_vacsi=39, jour='2021-01-16', n_dose1=8, n_cum_dose1=88),\n",
       " Row(dep='01', clage_vacsi=39, jour='2021-01-17', n_dose1=2, n_cum_dose1=90),\n",
       " Row(dep='01', clage_vacsi=39, jour='2021-01-18', n_dose1=4, n_cum_dose1=94),\n",
       " Row(dep='01', clage_vacsi=39, jour='2021-01-19', n_dose1=10, n_cum_dose1=104),\n",
       " Row(dep='01', clage_vacsi=39, jour='2021-01-20', n_dose1=20, n_cum_dose1=124),\n",
       " Row(dep='01', clage_vacsi=39, jour='2021-01-21', n_dose1=20, n_cum_dose1=144),\n",
       " Row(dep='01', clage_vacsi=39, jour='2021-01-22', n_dose1=21, n_cum_dose1=165),\n",
       " Row(dep='01', clage_vacsi=39, jour='2021-01-23', n_dose1=1, n_cum_dose1=166),\n",
       " Row(dep='01', clage_vacsi=39, jour='2021-01-26', n_dose1=10, n_cum_dose1=176),\n",
       " Row(dep='01', clage_vacsi=39, jour='2021-01-27', n_dose1=11, n_cum_dose1=187),\n",
       " Row(dep='01', clage_vacsi=39, jour='2021-01-28', n_dose1=10, n_cum_dose1=197),\n",
       " Row(dep='01', clage_vacsi=39, jour='2021-01-29', n_dose1=6, n_cum_dose1=203),\n",
       " Row(dep='01', clage_vacsi=39, jour='2021-01-30', n_dose1=1, n_cum_dose1=204),\n",
       " Row(dep='01', clage_vacsi=39, jour='2021-01-31', n_dose1=1, n_cum_dose1=205),\n",
       " Row(dep='01', clage_vacsi=39, jour='2021-02-01', n_dose1=2, n_cum_dose1=207),\n",
       " Row(dep='01', clage_vacsi=39, jour='2021-02-02', n_dose1=2, n_cum_dose1=209),\n",
       " Row(dep='01', clage_vacsi=49, jour='2021-01-07', n_dose1=1, n_cum_dose1=1),\n",
       " Row(dep='01', clage_vacsi=49, jour='2021-01-08', n_dose1=5, n_cum_dose1=6),\n",
       " Row(dep='01', clage_vacsi=49, jour='2021-01-11', n_dose1=18, n_cum_dose1=24),\n",
       " Row(dep='01', clage_vacsi=49, jour='2021-01-12', n_dose1=31, n_cum_dose1=55),\n",
       " Row(dep='01', clage_vacsi=49, jour='2021-01-13', n_dose1=31, n_cum_dose1=86),\n",
       " Row(dep='01', clage_vacsi=49, jour='2021-01-14', n_dose1=32, n_cum_dose1=118),\n",
       " Row(dep='01', clage_vacsi=49, jour='2021-01-15', n_dose1=40, n_cum_dose1=158),\n",
       " Row(dep='01', clage_vacsi=49, jour='2021-01-16', n_dose1=11, n_cum_dose1=169),\n",
       " Row(dep='01', clage_vacsi=49, jour='2021-01-17', n_dose1=4, n_cum_dose1=173),\n",
       " Row(dep='01', clage_vacsi=49, jour='2021-01-18', n_dose1=8, n_cum_dose1=181),\n",
       " Row(dep='01', clage_vacsi=49, jour='2021-01-19', n_dose1=18, n_cum_dose1=199),\n",
       " Row(dep='01', clage_vacsi=49, jour='2021-01-20', n_dose1=51, n_cum_dose1=250),\n",
       " Row(dep='01', clage_vacsi=49, jour='2021-01-21', n_dose1=36, n_cum_dose1=286),\n",
       " Row(dep='01', clage_vacsi=49, jour='2021-01-22', n_dose1=19, n_cum_dose1=305),\n",
       " Row(dep='01', clage_vacsi=49, jour='2021-01-23', n_dose1=4, n_cum_dose1=309),\n",
       " Row(dep='01', clage_vacsi=49, jour='2021-01-24', n_dose1=3, n_cum_dose1=312),\n",
       " Row(dep='01', clage_vacsi=49, jour='2021-01-25', n_dose1=10, n_cum_dose1=322),\n",
       " Row(dep='01', clage_vacsi=49, jour='2021-01-26', n_dose1=24, n_cum_dose1=346),\n",
       " Row(dep='01', clage_vacsi=49, jour='2021-01-27', n_dose1=20, n_cum_dose1=366),\n",
       " Row(dep='01', clage_vacsi=49, jour='2021-01-28', n_dose1=17, n_cum_dose1=383),\n",
       " Row(dep='01', clage_vacsi=49, jour='2021-01-29', n_dose1=21, n_cum_dose1=404),\n",
       " Row(dep='01', clage_vacsi=49, jour='2021-01-30', n_dose1=5, n_cum_dose1=409),\n",
       " Row(dep='01', clage_vacsi=49, jour='2021-02-01', n_dose1=5, n_cum_dose1=414),\n",
       " Row(dep='01', clage_vacsi=49, jour='2021-02-02', n_dose1=13, n_cum_dose1=427),\n",
       " Row(dep='01', clage_vacsi=59, jour='2021-01-06', n_dose1=1, n_cum_dose1=1),\n",
       " Row(dep='01', clage_vacsi=59, jour='2021-01-07', n_dose1=15, n_cum_dose1=16),\n",
       " Row(dep='01', clage_vacsi=59, jour='2021-01-08', n_dose1=27, n_cum_dose1=43),\n",
       " Row(dep='01', clage_vacsi=59, jour='2021-01-11', n_dose1=46, n_cum_dose1=89),\n",
       " Row(dep='01', clage_vacsi=59, jour='2021-01-12', n_dose1=112, n_cum_dose1=201),\n",
       " Row(dep='01', clage_vacsi=59, jour='2021-01-13', n_dose1=138, n_cum_dose1=339),\n",
       " Row(dep='01', clage_vacsi=59, jour='2021-01-14', n_dose1=186, n_cum_dose1=525),\n",
       " Row(dep='01', clage_vacsi=59, jour='2021-01-15', n_dose1=121, n_cum_dose1=646),\n",
       " Row(dep='01', clage_vacsi=59, jour='2021-01-16', n_dose1=30, n_cum_dose1=676),\n",
       " Row(dep='01', clage_vacsi=59, jour='2021-01-17', n_dose1=58, n_cum_dose1=734),\n",
       " Row(dep='01', clage_vacsi=59, jour='2021-01-18', n_dose1=49, n_cum_dose1=783),\n",
       " Row(dep='01', clage_vacsi=59, jour='2021-01-19', n_dose1=126, n_cum_dose1=909),\n",
       " Row(dep='01', clage_vacsi=59, jour='2021-01-20', n_dose1=191, n_cum_dose1=1100),\n",
       " Row(dep='01', clage_vacsi=59, jour='2021-01-21', n_dose1=79, n_cum_dose1=1179),\n",
       " Row(dep='01', clage_vacsi=59, jour='2021-01-22', n_dose1=81, n_cum_dose1=1260),\n",
       " Row(dep='01', clage_vacsi=59, jour='2021-01-23', n_dose1=5, n_cum_dose1=1265),\n",
       " Row(dep='01', clage_vacsi=59, jour='2021-01-24', n_dose1=6, n_cum_dose1=1271),\n",
       " Row(dep='01', clage_vacsi=59, jour='2021-01-25', n_dose1=31, n_cum_dose1=1302),\n",
       " Row(dep='01', clage_vacsi=59, jour='2021-01-26', n_dose1=38, n_cum_dose1=1340),\n",
       " Row(dep='01', clage_vacsi=59, jour='2021-01-27', n_dose1=45, n_cum_dose1=1385),\n",
       " Row(dep='01', clage_vacsi=59, jour='2021-01-28', n_dose1=47, n_cum_dose1=1432),\n",
       " Row(dep='01', clage_vacsi=59, jour='2021-01-29', n_dose1=35, n_cum_dose1=1467),\n",
       " Row(dep='01', clage_vacsi=59, jour='2021-01-30', n_dose1=9, n_cum_dose1=1476),\n",
       " Row(dep='01', clage_vacsi=59, jour='2021-01-31', n_dose1=2, n_cum_dose1=1478),\n",
       " Row(dep='01', clage_vacsi=59, jour='2021-02-01', n_dose1=28, n_cum_dose1=1506),\n",
       " Row(dep='01', clage_vacsi=59, jour='2021-02-02', n_dose1=33, n_cum_dose1=1539),\n",
       " Row(dep='01', clage_vacsi=64, jour='2021-01-07', n_dose1=8, n_cum_dose1=8),\n",
       " Row(dep='01', clage_vacsi=64, jour='2021-01-08', n_dose1=9, n_cum_dose1=17),\n",
       " Row(dep='01', clage_vacsi=64, jour='2021-01-11', n_dose1=15, n_cum_dose1=32),\n",
       " Row(dep='01', clage_vacsi=64, jour='2021-01-12', n_dose1=36, n_cum_dose1=68),\n",
       " Row(dep='01', clage_vacsi=64, jour='2021-01-13', n_dose1=47, n_cum_dose1=115),\n",
       " Row(dep='01', clage_vacsi=64, jour='2021-01-14', n_dose1=62, n_cum_dose1=177),\n",
       " Row(dep='01', clage_vacsi=64, jour='2021-01-15', n_dose1=45, n_cum_dose1=222),\n",
       " Row(dep='01', clage_vacsi=64, jour='2021-01-16', n_dose1=12, n_cum_dose1=234),\n",
       " Row(dep='01', clage_vacsi=64, jour='2021-01-17', n_dose1=23, n_cum_dose1=257),\n",
       " Row(dep='01', clage_vacsi=64, jour='2021-01-18', n_dose1=27, n_cum_dose1=284),\n",
       " Row(dep='01', clage_vacsi=64, jour='2021-01-19', n_dose1=54, n_cum_dose1=338),\n",
       " Row(dep='01', clage_vacsi=64, jour='2021-01-20', n_dose1=49, n_cum_dose1=387),\n",
       " Row(dep='01', clage_vacsi=64, jour='2021-01-21', n_dose1=42, n_cum_dose1=429),\n",
       " Row(dep='01', clage_vacsi=64, jour='2021-01-22', n_dose1=43, n_cum_dose1=472),\n",
       " Row(dep='01', clage_vacsi=64, jour='2021-01-23', n_dose1=2, n_cum_dose1=474),\n",
       " Row(dep='01', clage_vacsi=64, jour='2021-01-24', n_dose1=1, n_cum_dose1=475),\n",
       " Row(dep='01', clage_vacsi=64, jour='2021-01-25', n_dose1=13, n_cum_dose1=488),\n",
       " Row(dep='01', clage_vacsi=64, jour='2021-01-26', n_dose1=38, n_cum_dose1=526),\n",
       " Row(dep='01', clage_vacsi=64, jour='2021-01-27', n_dose1=12, n_cum_dose1=538),\n",
       " Row(dep='01', clage_vacsi=64, jour='2021-01-28', n_dose1=17, n_cum_dose1=555),\n",
       " Row(dep='01', clage_vacsi=64, jour='2021-01-29', n_dose1=22, n_cum_dose1=577),\n",
       " Row(dep='01', clage_vacsi=64, jour='2021-01-30', n_dose1=4, n_cum_dose1=581),\n",
       " Row(dep='01', clage_vacsi=64, jour='2021-01-31', n_dose1=1, n_cum_dose1=582),\n",
       " Row(dep='01', clage_vacsi=64, jour='2021-02-01', n_dose1=10, n_cum_dose1=592),\n",
       " Row(dep='01', clage_vacsi=64, jour='2021-02-02', n_dose1=12, n_cum_dose1=604),\n",
       " Row(dep='01', clage_vacsi=69, jour='2021-01-07', n_dose1=3, n_cum_dose1=3),\n",
       " Row(dep='01', clage_vacsi=69, jour='2021-01-08', n_dose1=6, n_cum_dose1=9),\n",
       " Row(dep='01', clage_vacsi=69, jour='2021-01-11', n_dose1=8, n_cum_dose1=17),\n",
       " Row(dep='01', clage_vacsi=69, jour='2021-01-12', n_dose1=14, n_cum_dose1=31),\n",
       " Row(dep='01', clage_vacsi=69, jour='2021-01-13', n_dose1=29, n_cum_dose1=60),\n",
       " Row(dep='01', clage_vacsi=69, jour='2021-01-14', n_dose1=25, n_cum_dose1=85),\n",
       " Row(dep='01', clage_vacsi=69, jour='2021-01-15', n_dose1=27, n_cum_dose1=112),\n",
       " Row(dep='01', clage_vacsi=69, jour='2021-01-16', n_dose1=6, n_cum_dose1=118),\n",
       " Row(dep='01', clage_vacsi=69, jour='2021-01-17', n_dose1=13, n_cum_dose1=131),\n",
       " Row(dep='01', clage_vacsi=69, jour='2021-01-18', n_dose1=10, n_cum_dose1=141),\n",
       " Row(dep='01', clage_vacsi=69, jour='2021-01-19', n_dose1=28, n_cum_dose1=169),\n",
       " Row(dep='01', clage_vacsi=69, jour='2021-01-20', n_dose1=31, n_cum_dose1=200),\n",
       " Row(dep='01', clage_vacsi=69, jour='2021-01-21', n_dose1=27, n_cum_dose1=227),\n",
       " Row(dep='01', clage_vacsi=69, jour='2021-01-22', n_dose1=24, n_cum_dose1=251),\n",
       " Row(dep='01', clage_vacsi=69, jour='2021-01-24', n_dose1=1, n_cum_dose1=252),\n",
       " Row(dep='01', clage_vacsi=69, jour='2021-01-25', n_dose1=21, n_cum_dose1=273),\n",
       " Row(dep='01', clage_vacsi=69, jour='2021-01-26', n_dose1=26, n_cum_dose1=299),\n",
       " Row(dep='01', clage_vacsi=69, jour='2021-01-27', n_dose1=20, n_cum_dose1=319),\n",
       " Row(dep='01', clage_vacsi=69, jour='2021-01-28', n_dose1=26, n_cum_dose1=345),\n",
       " Row(dep='01', clage_vacsi=69, jour='2021-01-29', n_dose1=25, n_cum_dose1=370),\n",
       " Row(dep='01', clage_vacsi=69, jour='2021-01-30', n_dose1=4, n_cum_dose1=374),\n",
       " Row(dep='01', clage_vacsi=69, jour='2021-02-01', n_dose1=14, n_cum_dose1=388),\n",
       " Row(dep='01', clage_vacsi=69, jour='2021-02-02', n_dose1=16, n_cum_dose1=404),\n",
       " Row(dep='01', clage_vacsi=74, jour='2021-01-07', n_dose1=4, n_cum_dose1=4),\n",
       " Row(dep='01', clage_vacsi=74, jour='2021-01-08', n_dose1=12, n_cum_dose1=16),\n",
       " Row(dep='01', clage_vacsi=74, jour='2021-01-11', n_dose1=4, n_cum_dose1=20),\n",
       " Row(dep='01', clage_vacsi=74, jour='2021-01-12', n_dose1=14, n_cum_dose1=34),\n",
       " Row(dep='01', clage_vacsi=74, jour='2021-01-13', n_dose1=24, n_cum_dose1=58),\n",
       " Row(dep='01', clage_vacsi=74, jour='2021-01-14', n_dose1=28, n_cum_dose1=86),\n",
       " Row(dep='01', clage_vacsi=74, jour='2021-01-15', n_dose1=14, n_cum_dose1=100),\n",
       " Row(dep='01', clage_vacsi=74, jour='2021-01-16', n_dose1=12, n_cum_dose1=112),\n",
       " Row(dep='01', clage_vacsi=74, jour='2021-01-17', n_dose1=12, n_cum_dose1=124),\n",
       " Row(dep='01', clage_vacsi=74, jour='2021-01-18', n_dose1=15, n_cum_dose1=139),\n",
       " Row(dep='01', clage_vacsi=74, jour='2021-01-19', n_dose1=39, n_cum_dose1=178),\n",
       " Row(dep='01', clage_vacsi=74, jour='2021-01-20', n_dose1=38, n_cum_dose1=216),\n",
       " Row(dep='01', clage_vacsi=74, jour='2021-01-21', n_dose1=31, n_cum_dose1=247),\n",
       " Row(dep='01', clage_vacsi=74, jour='2021-01-22', n_dose1=24, n_cum_dose1=271),\n",
       " Row(dep='01', clage_vacsi=74, jour='2021-01-23', n_dose1=3, n_cum_dose1=274),\n",
       " Row(dep='01', clage_vacsi=74, jour='2021-01-24', n_dose1=4, n_cum_dose1=278),\n",
       " Row(dep='01', clage_vacsi=74, jour='2021-01-25', n_dose1=27, n_cum_dose1=305),\n",
       " Row(dep='01', clage_vacsi=74, jour='2021-01-26', n_dose1=29, n_cum_dose1=334),\n",
       " Row(dep='01', clage_vacsi=74, jour='2021-01-27', n_dose1=20, n_cum_dose1=354),\n",
       " Row(dep='01', clage_vacsi=74, jour='2021-01-28', n_dose1=29, n_cum_dose1=383),\n",
       " Row(dep='01', clage_vacsi=74, jour='2021-01-29', n_dose1=32, n_cum_dose1=415),\n",
       " Row(dep='01', clage_vacsi=74, jour='2021-01-30', n_dose1=4, n_cum_dose1=419),\n",
       " Row(dep='01', clage_vacsi=74, jour='2021-02-01', n_dose1=32, n_cum_dose1=451),\n",
       " Row(dep='01', clage_vacsi=74, jour='2021-02-02', n_dose1=14, n_cum_dose1=465),\n",
       " Row(dep='01', clage_vacsi=79, jour='2021-01-08', n_dose1=13, n_cum_dose1=13),\n",
       " Row(dep='01', clage_vacsi=79, jour='2021-01-09', n_dose1=1, n_cum_dose1=14),\n",
       " Row(dep='01', clage_vacsi=79, jour='2021-01-11', n_dose1=2, n_cum_dose1=16),\n",
       " Row(dep='01', clage_vacsi=79, jour='2021-01-12', n_dose1=12, n_cum_dose1=28),\n",
       " Row(dep='01', clage_vacsi=79, jour='2021-01-13', n_dose1=34, n_cum_dose1=62),\n",
       " Row(dep='01', clage_vacsi=79, jour='2021-01-14', n_dose1=28, n_cum_dose1=90),\n",
       " Row(dep='01', clage_vacsi=79, jour='2021-01-15', n_dose1=37, n_cum_dose1=127),\n",
       " Row(dep='01', clage_vacsi=79, jour='2021-01-16', n_dose1=45, n_cum_dose1=172),\n",
       " Row(dep='01', clage_vacsi=79, jour='2021-01-17', n_dose1=8, n_cum_dose1=180),\n",
       " Row(dep='01', clage_vacsi=79, jour='2021-01-18', n_dose1=116, n_cum_dose1=296),\n",
       " Row(dep='01', clage_vacsi=79, jour='2021-01-19', n_dose1=189, n_cum_dose1=485),\n",
       " Row(dep='01', clage_vacsi=79, jour='2021-01-20', n_dose1=186, n_cum_dose1=671),\n",
       " Row(dep='01', clage_vacsi=79, jour='2021-01-21', n_dose1=169, n_cum_dose1=840),\n",
       " Row(dep='01', clage_vacsi=79, jour='2021-01-22', n_dose1=140, n_cum_dose1=980),\n",
       " Row(dep='01', clage_vacsi=79, jour='2021-01-23', n_dose1=96, n_cum_dose1=1076),\n",
       " Row(dep='01', clage_vacsi=79, jour='2021-01-24', n_dose1=21, n_cum_dose1=1097),\n",
       " Row(dep='01', clage_vacsi=79, jour='2021-01-25', n_dose1=143, n_cum_dose1=1240),\n",
       " Row(dep='01', clage_vacsi=79, jour='2021-01-26', n_dose1=172, n_cum_dose1=1412),\n",
       " Row(dep='01', clage_vacsi=79, jour='2021-01-27', n_dose1=126, n_cum_dose1=1538),\n",
       " Row(dep='01', clage_vacsi=79, jour='2021-01-28', n_dose1=150, n_cum_dose1=1688),\n",
       " Row(dep='01', clage_vacsi=79, jour='2021-01-29', n_dose1=165, n_cum_dose1=1853),\n",
       " Row(dep='01', clage_vacsi=79, jour='2021-01-30', n_dose1=93, n_cum_dose1=1946),\n",
       " Row(dep='01', clage_vacsi=79, jour='2021-01-31', n_dose1=22, n_cum_dose1=1968),\n",
       " Row(dep='01', clage_vacsi=79, jour='2021-02-01', n_dose1=120, n_cum_dose1=2088),\n",
       " Row(dep='01', clage_vacsi=79, jour='2021-02-02', n_dose1=130, n_cum_dose1=2218),\n",
       " Row(dep='01', clage_vacsi=80, jour='2021-01-07', n_dose1=35, n_cum_dose1=35),\n",
       " Row(dep='01', clage_vacsi=80, jour='2021-01-08', n_dose1=86, n_cum_dose1=121),\n",
       " Row(dep='01', clage_vacsi=80, jour='2021-01-09', n_dose1=1, n_cum_dose1=122),\n",
       " Row(dep='01', clage_vacsi=80, jour='2021-01-11', n_dose1=32, n_cum_dose1=154),\n",
       " Row(dep='01', clage_vacsi=80, jour='2021-01-12', n_dose1=41, n_cum_dose1=195),\n",
       " Row(dep='01', clage_vacsi=80, jour='2021-01-13', n_dose1=94, n_cum_dose1=289),\n",
       " Row(dep='01', clage_vacsi=80, jour='2021-01-14', n_dose1=86, n_cum_dose1=375),\n",
       " Row(dep='01', clage_vacsi=80, jour='2021-01-15', n_dose1=77, n_cum_dose1=452),\n",
       " Row(dep='01', clage_vacsi=80, jour='2021-01-16', n_dose1=68, n_cum_dose1=520),\n",
       " Row(dep='01', clage_vacsi=80, jour='2021-01-17', n_dose1=4, n_cum_dose1=524),\n",
       " Row(dep='01', clage_vacsi=80, jour='2021-01-18', n_dose1=107, n_cum_dose1=631),\n",
       " Row(dep='01', clage_vacsi=80, jour='2021-01-19', n_dose1=542, n_cum_dose1=1173),\n",
       " Row(dep='01', clage_vacsi=80, jour='2021-01-20', n_dose1=590, n_cum_dose1=1763),\n",
       " Row(dep='01', clage_vacsi=80, jour='2021-01-21', n_dose1=581, n_cum_dose1=2344),\n",
       " Row(dep='01', clage_vacsi=80, jour='2021-01-22', n_dose1=272, n_cum_dose1=2616),\n",
       " Row(dep='01', clage_vacsi=80, jour='2021-01-23', n_dose1=107, n_cum_dose1=2723),\n",
       " Row(dep='01', clage_vacsi=80, jour='2021-01-24', n_dose1=32, n_cum_dose1=2755),\n",
       " Row(dep='01', clage_vacsi=80, jour='2021-01-25', n_dose1=214, n_cum_dose1=2969),\n",
       " Row(dep='01', clage_vacsi=80, jour='2021-01-26', n_dose1=360, n_cum_dose1=3329),\n",
       " Row(dep='01', clage_vacsi=80, jour='2021-01-27', n_dose1=237, n_cum_dose1=3566),\n",
       " Row(dep='01', clage_vacsi=80, jour='2021-01-28', n_dose1=315, n_cum_dose1=3881),\n",
       " Row(dep='01', clage_vacsi=80, jour='2021-01-29', n_dose1=303, n_cum_dose1=4184),\n",
       " Row(dep='01', clage_vacsi=80, jour='2021-01-30', n_dose1=111, n_cum_dose1=4295),\n",
       " Row(dep='01', clage_vacsi=80, jour='2021-01-31', n_dose1=32, n_cum_dose1=4327),\n",
       " Row(dep='01', clage_vacsi=80, jour='2021-02-01', n_dose1=206, n_cum_dose1=4533),\n",
       " Row(dep='01', clage_vacsi=80, jour='2021-02-02', n_dose1=252, n_cum_dose1=4785)]"
      ]
     },
     "execution_count": 157,
     "metadata": {},
     "output_type": "execute_result"
    }
   ],
   "source": [
    "#villesF = villes.filter(villes['sexe']==\"F\")\n",
    "\n",
    "\n",
    "vacc01 = vacc.filter(vacc[\"dep\"] == \"01\")\n",
    "\n",
    "vacc01.collect()"
   ]
  },
  {
   "cell_type": "code",
   "execution_count": null,
   "metadata": {},
   "outputs": [],
   "source": [
    "vacc.select(\"dep\").distinct().collect()"
   ]
  },
  {
   "cell_type": "code",
   "execution_count": null,
   "metadata": {},
   "outputs": [],
   "source": [
    "\n"
   ]
  },
  {
   "cell_type": "markdown",
   "metadata": {},
   "source": [
    "## 4.3) summary\n",
    "\n",
    "La méthode summary() permet des faire des calculs statistiques de base sur toutes les colonnes du df.\n",
    "\n",
    "Appliquez un count et un max sur toutes les colonnes du df et afficher les résultats."
   ]
  },
  {
   "cell_type": "code",
   "execution_count": 92,
   "metadata": {},
   "outputs": [
    {
     "data": {
      "text/plain": [
       "[Row(summary='count', id='1083', vitesse_a_pied='1083', vitesse_a_velo='1083', home='1083', travail='1083', statut='1083', salaire='1083', sexe='1083', age='1083', sportivite='1083', velo_perf_minimale='1083'),\n",
       " Row(summary='max', id='6333', vitesse_a_pied='3.7766588011416977', vitesse_a_velo='10.07109013637786', home='(lon:9.99 lat:17.81)', travail='(lon:9.90 lat:0.36)', statut='éboueur', salaire='80017.45851327667', sexe='H', age='84', sportivite='8.683572706695392', velo_perf_minimale='4.596287556824109')]"
      ]
     },
     "execution_count": 92,
     "metadata": {},
     "output_type": "execute_result"
    }
   ],
   "source": [
    "villes.summary(\"count\", \"max\").collect()"
   ]
  },
  {
   "cell_type": "code",
   "execution_count": 1,
   "metadata": {},
   "outputs": [
    {
     "ename": "NameError",
     "evalue": "name 'villes' is not defined",
     "output_type": "error",
     "traceback": [
      "\u001b[0;31m---------------------------------------------------------------------------\u001b[0m",
      "\u001b[0;31mNameError\u001b[0m                                 Traceback (most recent call last)",
      "\u001b[0;32m<ipython-input-1-46633af05ed1>\u001b[0m in \u001b[0;36m<module>\u001b[0;34m\u001b[0m\n\u001b[0;32m----> 1\u001b[0;31m \u001b[0mvilles\u001b[0m\u001b[0;34m.\u001b[0m\u001b[0msummary\u001b[0m\u001b[0;34m(\u001b[0m\u001b[0;34m\"count\"\u001b[0m\u001b[0;34m,\u001b[0m \u001b[0;34m\"max\"\u001b[0m\u001b[0;34m)\u001b[0m\u001b[0;34m.\u001b[0m\u001b[0mcollect\u001b[0m\u001b[0;34m(\u001b[0m\u001b[0;34m)\u001b[0m\u001b[0;34m\u001b[0m\u001b[0;34m\u001b[0m\u001b[0m\n\u001b[0m",
      "\u001b[0;31mNameError\u001b[0m: name 'villes' is not defined"
     ]
    }
   ],
   "source": [
    "villes.summary(\"count\", \"max\").collect()"
   ]
  },
  {
   "cell_type": "code",
   "execution_count": 9,
   "metadata": {},
   "outputs": [
    {
     "name": "stdout",
     "output_type": "stream",
     "text": [
      "root\n",
      " |-- dep: string (nullable = true)\n",
      " |-- clage_vacsi: integer (nullable = true)\n",
      " |-- jour: string (nullable = true)\n",
      " |-- n_dose1: integer (nullable = true)\n",
      " |-- n_cum_dose1: integer (nullable = true)\n",
      "\n"
     ]
    }
   ],
   "source": [
    "vacc = spark.read.load(\"./data/Covid/vacsi-a-dep-2021-02-03-20h15.csv\", format=\"csv\", header=True, inferSchema=\"True\")\n",
    "\n",
    "vacc.printSchema()"
   ]
  },
  {
   "cell_type": "code",
   "execution_count": 19,
   "metadata": {},
   "outputs": [
    {
     "data": {
      "text/plain": [
       "[Row(clage_vacsi=0, n_cum_dose1=1),\n",
       " Row(clage_vacsi=0, n_cum_dose1=67),\n",
       " Row(clage_vacsi=0, n_cum_dose1=226),\n",
       " Row(clage_vacsi=0, n_cum_dose1=228),\n",
       " Row(clage_vacsi=0, n_cum_dose1=364),\n",
       " Row(clage_vacsi=0, n_cum_dose1=642),\n",
       " Row(clage_vacsi=0, n_cum_dose1=1058),\n",
       " Row(clage_vacsi=0, n_cum_dose1=1524),\n",
       " Row(clage_vacsi=0, n_cum_dose1=1912),\n",
       " Row(clage_vacsi=0, n_cum_dose1=2109),\n",
       " Row(clage_vacsi=0, n_cum_dose1=2234),\n",
       " Row(clage_vacsi=0, n_cum_dose1=2571),\n",
       " Row(clage_vacsi=0, n_cum_dose1=3580),\n",
       " Row(clage_vacsi=0, n_cum_dose1=4745),\n",
       " Row(clage_vacsi=0, n_cum_dose1=5736),\n",
       " Row(clage_vacsi=0, n_cum_dose1=6370),\n",
       " Row(clage_vacsi=0, n_cum_dose1=6588),\n",
       " Row(clage_vacsi=0, n_cum_dose1=6656),\n",
       " Row(clage_vacsi=0, n_cum_dose1=7115),\n",
       " Row(clage_vacsi=0, n_cum_dose1=7820),\n",
       " Row(clage_vacsi=0, n_cum_dose1=8319),\n",
       " Row(clage_vacsi=0, n_cum_dose1=8931),\n",
       " Row(clage_vacsi=0, n_cum_dose1=9546),\n",
       " Row(clage_vacsi=0, n_cum_dose1=9777),\n",
       " Row(clage_vacsi=0, n_cum_dose1=9836),\n",
       " Row(clage_vacsi=0, n_cum_dose1=10253),\n",
       " Row(clage_vacsi=0, n_cum_dose1=10727),\n",
       " Row(clage_vacsi=24, n_cum_dose1=1),\n",
       " Row(clage_vacsi=24, n_cum_dose1=4),\n",
       " Row(clage_vacsi=24, n_cum_dose1=7),\n",
       " Row(clage_vacsi=24, n_cum_dose1=8),\n",
       " Row(clage_vacsi=24, n_cum_dose1=11),\n",
       " Row(clage_vacsi=24, n_cum_dose1=12),\n",
       " Row(clage_vacsi=24, n_cum_dose1=16),\n",
       " Row(clage_vacsi=24, n_cum_dose1=18),\n",
       " Row(clage_vacsi=24, n_cum_dose1=19),\n",
       " Row(clage_vacsi=29, n_cum_dose1=2),\n",
       " Row(clage_vacsi=29, n_cum_dose1=6),\n",
       " Row(clage_vacsi=29, n_cum_dose1=8),\n",
       " Row(clage_vacsi=29, n_cum_dose1=12),\n",
       " Row(clage_vacsi=29, n_cum_dose1=14),\n",
       " Row(clage_vacsi=29, n_cum_dose1=16),\n",
       " Row(clage_vacsi=29, n_cum_dose1=17),\n",
       " Row(clage_vacsi=29, n_cum_dose1=18),\n",
       " Row(clage_vacsi=29, n_cum_dose1=21),\n",
       " Row(clage_vacsi=29, n_cum_dose1=27),\n",
       " Row(clage_vacsi=29, n_cum_dose1=32),\n",
       " Row(clage_vacsi=29, n_cum_dose1=39),\n",
       " Row(clage_vacsi=29, n_cum_dose1=46),\n",
       " Row(clage_vacsi=29, n_cum_dose1=49),\n",
       " Row(clage_vacsi=29, n_cum_dose1=50),\n",
       " Row(clage_vacsi=29, n_cum_dose1=54),\n",
       " Row(clage_vacsi=29, n_cum_dose1=54),\n",
       " Row(clage_vacsi=29, n_cum_dose1=56),\n",
       " Row(clage_vacsi=39, n_cum_dose1=1),\n",
       " Row(clage_vacsi=39, n_cum_dose1=10),\n",
       " Row(clage_vacsi=39, n_cum_dose1=24),\n",
       " Row(clage_vacsi=39, n_cum_dose1=41),\n",
       " Row(clage_vacsi=39, n_cum_dose1=56),\n",
       " Row(clage_vacsi=39, n_cum_dose1=80),\n",
       " Row(clage_vacsi=39, n_cum_dose1=88),\n",
       " Row(clage_vacsi=39, n_cum_dose1=90),\n",
       " Row(clage_vacsi=39, n_cum_dose1=94),\n",
       " Row(clage_vacsi=39, n_cum_dose1=104),\n",
       " Row(clage_vacsi=39, n_cum_dose1=124),\n",
       " Row(clage_vacsi=39, n_cum_dose1=144),\n",
       " Row(clage_vacsi=39, n_cum_dose1=165),\n",
       " Row(clage_vacsi=39, n_cum_dose1=166),\n",
       " Row(clage_vacsi=39, n_cum_dose1=176),\n",
       " Row(clage_vacsi=39, n_cum_dose1=187),\n",
       " Row(clage_vacsi=39, n_cum_dose1=197),\n",
       " Row(clage_vacsi=39, n_cum_dose1=203),\n",
       " Row(clage_vacsi=39, n_cum_dose1=204),\n",
       " Row(clage_vacsi=39, n_cum_dose1=205),\n",
       " Row(clage_vacsi=39, n_cum_dose1=207),\n",
       " Row(clage_vacsi=39, n_cum_dose1=209),\n",
       " Row(clage_vacsi=49, n_cum_dose1=1),\n",
       " Row(clage_vacsi=49, n_cum_dose1=6),\n",
       " Row(clage_vacsi=49, n_cum_dose1=24),\n",
       " Row(clage_vacsi=49, n_cum_dose1=55),\n",
       " Row(clage_vacsi=49, n_cum_dose1=86),\n",
       " Row(clage_vacsi=49, n_cum_dose1=118),\n",
       " Row(clage_vacsi=49, n_cum_dose1=158),\n",
       " Row(clage_vacsi=49, n_cum_dose1=169),\n",
       " Row(clage_vacsi=49, n_cum_dose1=173),\n",
       " Row(clage_vacsi=49, n_cum_dose1=181),\n",
       " Row(clage_vacsi=49, n_cum_dose1=199),\n",
       " Row(clage_vacsi=49, n_cum_dose1=250),\n",
       " Row(clage_vacsi=49, n_cum_dose1=286),\n",
       " Row(clage_vacsi=49, n_cum_dose1=305),\n",
       " Row(clage_vacsi=49, n_cum_dose1=309),\n",
       " Row(clage_vacsi=49, n_cum_dose1=312),\n",
       " Row(clage_vacsi=49, n_cum_dose1=322),\n",
       " Row(clage_vacsi=49, n_cum_dose1=346),\n",
       " Row(clage_vacsi=49, n_cum_dose1=366),\n",
       " Row(clage_vacsi=49, n_cum_dose1=383),\n",
       " Row(clage_vacsi=49, n_cum_dose1=404),\n",
       " Row(clage_vacsi=49, n_cum_dose1=409),\n",
       " Row(clage_vacsi=49, n_cum_dose1=414),\n",
       " Row(clage_vacsi=49, n_cum_dose1=427),\n",
       " Row(clage_vacsi=59, n_cum_dose1=1),\n",
       " Row(clage_vacsi=59, n_cum_dose1=16),\n",
       " Row(clage_vacsi=59, n_cum_dose1=43),\n",
       " Row(clage_vacsi=59, n_cum_dose1=89),\n",
       " Row(clage_vacsi=59, n_cum_dose1=201),\n",
       " Row(clage_vacsi=59, n_cum_dose1=339),\n",
       " Row(clage_vacsi=59, n_cum_dose1=525),\n",
       " Row(clage_vacsi=59, n_cum_dose1=646),\n",
       " Row(clage_vacsi=59, n_cum_dose1=676),\n",
       " Row(clage_vacsi=59, n_cum_dose1=734),\n",
       " Row(clage_vacsi=59, n_cum_dose1=783),\n",
       " Row(clage_vacsi=59, n_cum_dose1=909),\n",
       " Row(clage_vacsi=59, n_cum_dose1=1100),\n",
       " Row(clage_vacsi=59, n_cum_dose1=1179),\n",
       " Row(clage_vacsi=59, n_cum_dose1=1260),\n",
       " Row(clage_vacsi=59, n_cum_dose1=1265),\n",
       " Row(clage_vacsi=59, n_cum_dose1=1271),\n",
       " Row(clage_vacsi=59, n_cum_dose1=1302),\n",
       " Row(clage_vacsi=59, n_cum_dose1=1340),\n",
       " Row(clage_vacsi=59, n_cum_dose1=1385),\n",
       " Row(clage_vacsi=59, n_cum_dose1=1432),\n",
       " Row(clage_vacsi=59, n_cum_dose1=1467),\n",
       " Row(clage_vacsi=59, n_cum_dose1=1476),\n",
       " Row(clage_vacsi=59, n_cum_dose1=1478),\n",
       " Row(clage_vacsi=59, n_cum_dose1=1506),\n",
       " Row(clage_vacsi=59, n_cum_dose1=1539),\n",
       " Row(clage_vacsi=64, n_cum_dose1=8),\n",
       " Row(clage_vacsi=64, n_cum_dose1=17),\n",
       " Row(clage_vacsi=64, n_cum_dose1=32),\n",
       " Row(clage_vacsi=64, n_cum_dose1=68),\n",
       " Row(clage_vacsi=64, n_cum_dose1=115),\n",
       " Row(clage_vacsi=64, n_cum_dose1=177),\n",
       " Row(clage_vacsi=64, n_cum_dose1=222),\n",
       " Row(clage_vacsi=64, n_cum_dose1=234),\n",
       " Row(clage_vacsi=64, n_cum_dose1=257),\n",
       " Row(clage_vacsi=64, n_cum_dose1=284),\n",
       " Row(clage_vacsi=64, n_cum_dose1=338),\n",
       " Row(clage_vacsi=64, n_cum_dose1=387),\n",
       " Row(clage_vacsi=64, n_cum_dose1=429),\n",
       " Row(clage_vacsi=64, n_cum_dose1=472),\n",
       " Row(clage_vacsi=64, n_cum_dose1=474),\n",
       " Row(clage_vacsi=64, n_cum_dose1=475),\n",
       " Row(clage_vacsi=64, n_cum_dose1=488),\n",
       " Row(clage_vacsi=64, n_cum_dose1=526),\n",
       " Row(clage_vacsi=64, n_cum_dose1=538),\n",
       " Row(clage_vacsi=64, n_cum_dose1=555),\n",
       " Row(clage_vacsi=64, n_cum_dose1=577),\n",
       " Row(clage_vacsi=64, n_cum_dose1=581),\n",
       " Row(clage_vacsi=64, n_cum_dose1=582),\n",
       " Row(clage_vacsi=64, n_cum_dose1=592),\n",
       " Row(clage_vacsi=64, n_cum_dose1=604),\n",
       " Row(clage_vacsi=69, n_cum_dose1=3),\n",
       " Row(clage_vacsi=69, n_cum_dose1=9),\n",
       " Row(clage_vacsi=69, n_cum_dose1=17),\n",
       " Row(clage_vacsi=69, n_cum_dose1=31),\n",
       " Row(clage_vacsi=69, n_cum_dose1=60),\n",
       " Row(clage_vacsi=69, n_cum_dose1=85),\n",
       " Row(clage_vacsi=69, n_cum_dose1=112),\n",
       " Row(clage_vacsi=69, n_cum_dose1=118),\n",
       " Row(clage_vacsi=69, n_cum_dose1=131),\n",
       " Row(clage_vacsi=69, n_cum_dose1=141),\n",
       " Row(clage_vacsi=69, n_cum_dose1=169),\n",
       " Row(clage_vacsi=69, n_cum_dose1=200),\n",
       " Row(clage_vacsi=69, n_cum_dose1=227),\n",
       " Row(clage_vacsi=69, n_cum_dose1=251),\n",
       " Row(clage_vacsi=69, n_cum_dose1=252),\n",
       " Row(clage_vacsi=69, n_cum_dose1=273),\n",
       " Row(clage_vacsi=69, n_cum_dose1=299),\n",
       " Row(clage_vacsi=69, n_cum_dose1=319),\n",
       " Row(clage_vacsi=69, n_cum_dose1=345),\n",
       " Row(clage_vacsi=69, n_cum_dose1=370),\n",
       " Row(clage_vacsi=69, n_cum_dose1=374),\n",
       " Row(clage_vacsi=69, n_cum_dose1=388),\n",
       " Row(clage_vacsi=69, n_cum_dose1=404),\n",
       " Row(clage_vacsi=74, n_cum_dose1=4),\n",
       " Row(clage_vacsi=74, n_cum_dose1=16),\n",
       " Row(clage_vacsi=74, n_cum_dose1=20),\n",
       " Row(clage_vacsi=74, n_cum_dose1=34),\n",
       " Row(clage_vacsi=74, n_cum_dose1=58),\n",
       " Row(clage_vacsi=74, n_cum_dose1=86),\n",
       " Row(clage_vacsi=74, n_cum_dose1=100),\n",
       " Row(clage_vacsi=74, n_cum_dose1=112),\n",
       " Row(clage_vacsi=74, n_cum_dose1=124),\n",
       " Row(clage_vacsi=74, n_cum_dose1=139),\n",
       " Row(clage_vacsi=74, n_cum_dose1=178),\n",
       " Row(clage_vacsi=74, n_cum_dose1=216),\n",
       " Row(clage_vacsi=74, n_cum_dose1=247),\n",
       " Row(clage_vacsi=74, n_cum_dose1=271),\n",
       " Row(clage_vacsi=74, n_cum_dose1=274),\n",
       " Row(clage_vacsi=74, n_cum_dose1=278),\n",
       " Row(clage_vacsi=74, n_cum_dose1=305),\n",
       " Row(clage_vacsi=74, n_cum_dose1=334),\n",
       " Row(clage_vacsi=74, n_cum_dose1=354),\n",
       " Row(clage_vacsi=74, n_cum_dose1=383),\n",
       " Row(clage_vacsi=74, n_cum_dose1=415),\n",
       " Row(clage_vacsi=74, n_cum_dose1=419),\n",
       " Row(clage_vacsi=74, n_cum_dose1=451),\n",
       " Row(clage_vacsi=74, n_cum_dose1=465),\n",
       " Row(clage_vacsi=79, n_cum_dose1=13),\n",
       " Row(clage_vacsi=79, n_cum_dose1=14),\n",
       " Row(clage_vacsi=79, n_cum_dose1=16),\n",
       " Row(clage_vacsi=79, n_cum_dose1=28),\n",
       " Row(clage_vacsi=79, n_cum_dose1=62),\n",
       " Row(clage_vacsi=79, n_cum_dose1=90),\n",
       " Row(clage_vacsi=79, n_cum_dose1=127),\n",
       " Row(clage_vacsi=79, n_cum_dose1=172),\n",
       " Row(clage_vacsi=79, n_cum_dose1=180),\n",
       " Row(clage_vacsi=79, n_cum_dose1=296),\n",
       " Row(clage_vacsi=79, n_cum_dose1=485),\n",
       " Row(clage_vacsi=79, n_cum_dose1=671),\n",
       " Row(clage_vacsi=79, n_cum_dose1=840),\n",
       " Row(clage_vacsi=79, n_cum_dose1=980),\n",
       " Row(clage_vacsi=79, n_cum_dose1=1076),\n",
       " Row(clage_vacsi=79, n_cum_dose1=1097),\n",
       " Row(clage_vacsi=79, n_cum_dose1=1240),\n",
       " Row(clage_vacsi=79, n_cum_dose1=1412),\n",
       " Row(clage_vacsi=79, n_cum_dose1=1538),\n",
       " Row(clage_vacsi=79, n_cum_dose1=1688),\n",
       " Row(clage_vacsi=79, n_cum_dose1=1853),\n",
       " Row(clage_vacsi=79, n_cum_dose1=1946),\n",
       " Row(clage_vacsi=79, n_cum_dose1=1968),\n",
       " Row(clage_vacsi=79, n_cum_dose1=2088),\n",
       " Row(clage_vacsi=79, n_cum_dose1=2218),\n",
       " Row(clage_vacsi=80, n_cum_dose1=35),\n",
       " Row(clage_vacsi=80, n_cum_dose1=121),\n",
       " Row(clage_vacsi=80, n_cum_dose1=122),\n",
       " Row(clage_vacsi=80, n_cum_dose1=154),\n",
       " Row(clage_vacsi=80, n_cum_dose1=195),\n",
       " Row(clage_vacsi=80, n_cum_dose1=289),\n",
       " Row(clage_vacsi=80, n_cum_dose1=375),\n",
       " Row(clage_vacsi=80, n_cum_dose1=452),\n",
       " Row(clage_vacsi=80, n_cum_dose1=520),\n",
       " Row(clage_vacsi=80, n_cum_dose1=524),\n",
       " Row(clage_vacsi=80, n_cum_dose1=631),\n",
       " Row(clage_vacsi=80, n_cum_dose1=1173),\n",
       " Row(clage_vacsi=80, n_cum_dose1=1763),\n",
       " Row(clage_vacsi=80, n_cum_dose1=2344),\n",
       " Row(clage_vacsi=80, n_cum_dose1=2616),\n",
       " Row(clage_vacsi=80, n_cum_dose1=2723),\n",
       " Row(clage_vacsi=80, n_cum_dose1=2755),\n",
       " Row(clage_vacsi=80, n_cum_dose1=2969),\n",
       " Row(clage_vacsi=80, n_cum_dose1=3329),\n",
       " Row(clage_vacsi=80, n_cum_dose1=3566),\n",
       " Row(clage_vacsi=80, n_cum_dose1=3881),\n",
       " Row(clage_vacsi=80, n_cum_dose1=4184),\n",
       " Row(clage_vacsi=80, n_cum_dose1=4295),\n",
       " Row(clage_vacsi=80, n_cum_dose1=4327),\n",
       " Row(clage_vacsi=80, n_cum_dose1=4533),\n",
       " Row(clage_vacsi=80, n_cum_dose1=4785),\n",
       " Row(clage_vacsi=0, n_cum_dose1=22),\n",
       " Row(clage_vacsi=0, n_cum_dose1=282),\n",
       " Row(clage_vacsi=0, n_cum_dose1=750),\n",
       " Row(clage_vacsi=0, n_cum_dose1=822),\n",
       " Row(clage_vacsi=0, n_cum_dose1=871),\n",
       " Row(clage_vacsi=0, n_cum_dose1=1135),\n",
       " Row(clage_vacsi=0, n_cum_dose1=1481),\n",
       " Row(clage_vacsi=0, n_cum_dose1=1918),\n",
       " Row(clage_vacsi=0, n_cum_dose1=2512),\n",
       " Row(clage_vacsi=0, n_cum_dose1=3131),\n",
       " Row(clage_vacsi=0, n_cum_dose1=3457),\n",
       " Row(clage_vacsi=0, n_cum_dose1=3517),\n",
       " Row(clage_vacsi=0, n_cum_dose1=4320),\n",
       " Row(clage_vacsi=0, n_cum_dose1=5256),\n",
       " Row(clage_vacsi=0, n_cum_dose1=6678),\n",
       " Row(clage_vacsi=0, n_cum_dose1=9216),\n",
       " Row(clage_vacsi=0, n_cum_dose1=10627),\n",
       " Row(clage_vacsi=0, n_cum_dose1=10871),\n",
       " Row(clage_vacsi=0, n_cum_dose1=10936),\n",
       " Row(clage_vacsi=0, n_cum_dose1=11366),\n",
       " Row(clage_vacsi=0, n_cum_dose1=12058),\n",
       " Row(clage_vacsi=0, n_cum_dose1=12217),\n",
       " Row(clage_vacsi=0, n_cum_dose1=12275),\n",
       " Row(clage_vacsi=0, n_cum_dose1=12383),\n",
       " Row(clage_vacsi=0, n_cum_dose1=12387),\n",
       " Row(clage_vacsi=0, n_cum_dose1=12387),\n",
       " Row(clage_vacsi=0, n_cum_dose1=12399),\n",
       " Row(clage_vacsi=0, n_cum_dose1=12438),\n",
       " Row(clage_vacsi=24, n_cum_dose1=1),\n",
       " Row(clage_vacsi=24, n_cum_dose1=2),\n",
       " Row(clage_vacsi=24, n_cum_dose1=3),\n",
       " Row(clage_vacsi=24, n_cum_dose1=6),\n",
       " Row(clage_vacsi=24, n_cum_dose1=11),\n",
       " Row(clage_vacsi=24, n_cum_dose1=16),\n",
       " Row(clage_vacsi=24, n_cum_dose1=19),\n",
       " Row(clage_vacsi=24, n_cum_dose1=22),\n",
       " Row(clage_vacsi=24, n_cum_dose1=24),\n",
       " Row(clage_vacsi=24, n_cum_dose1=28),\n",
       " Row(clage_vacsi=24, n_cum_dose1=40),\n",
       " Row(clage_vacsi=24, n_cum_dose1=45),\n",
       " Row(clage_vacsi=24, n_cum_dose1=46),\n",
       " Row(clage_vacsi=24, n_cum_dose1=46),\n",
       " Row(clage_vacsi=24, n_cum_dose1=48),\n",
       " Row(clage_vacsi=24, n_cum_dose1=48),\n",
       " Row(clage_vacsi=29, n_cum_dose1=4),\n",
       " Row(clage_vacsi=29, n_cum_dose1=7),\n",
       " Row(clage_vacsi=29, n_cum_dose1=9),\n",
       " Row(clage_vacsi=29, n_cum_dose1=24),\n",
       " Row(clage_vacsi=29, n_cum_dose1=32),\n",
       " Row(clage_vacsi=29, n_cum_dose1=42),\n",
       " Row(clage_vacsi=29, n_cum_dose1=47),\n",
       " Row(clage_vacsi=29, n_cum_dose1=50),\n",
       " Row(clage_vacsi=29, n_cum_dose1=56),\n",
       " Row(clage_vacsi=29, n_cum_dose1=65),\n",
       " Row(clage_vacsi=29, n_cum_dose1=91),\n",
       " Row(clage_vacsi=29, n_cum_dose1=105),\n",
       " Row(clage_vacsi=29, n_cum_dose1=106),\n",
       " Row(clage_vacsi=29, n_cum_dose1=108),\n",
       " Row(clage_vacsi=29, n_cum_dose1=110),\n",
       " Row(clage_vacsi=29, n_cum_dose1=110),\n",
       " Row(clage_vacsi=29, n_cum_dose1=110),\n",
       " Row(clage_vacsi=39, n_cum_dose1=5),\n",
       " Row(clage_vacsi=39, n_cum_dose1=14),\n",
       " Row(clage_vacsi=39, n_cum_dose1=20),\n",
       " Row(clage_vacsi=39, n_cum_dose1=29),\n",
       " Row(clage_vacsi=39, n_cum_dose1=42),\n",
       " Row(clage_vacsi=39, n_cum_dose1=80),\n",
       " Row(clage_vacsi=39, n_cum_dose1=116),\n",
       " Row(clage_vacsi=39, n_cum_dose1=167),\n",
       " Row(clage_vacsi=39, n_cum_dose1=181),\n",
       " Row(clage_vacsi=39, n_cum_dose1=183),\n",
       " Row(clage_vacsi=39, n_cum_dose1=207),\n",
       " Row(clage_vacsi=39, n_cum_dose1=228),\n",
       " Row(clage_vacsi=39, n_cum_dose1=256),\n",
       " Row(clage_vacsi=39, n_cum_dose1=327),\n",
       " Row(clage_vacsi=39, n_cum_dose1=363),\n",
       " Row(clage_vacsi=39, n_cum_dose1=368),\n",
       " Row(clage_vacsi=39, n_cum_dose1=371),\n",
       " Row(clage_vacsi=39, n_cum_dose1=377),\n",
       " Row(clage_vacsi=39, n_cum_dose1=390),\n",
       " Row(clage_vacsi=39, n_cum_dose1=391),\n",
       " Row(clage_vacsi=39, n_cum_dose1=395),\n",
       " Row(clage_vacsi=39, n_cum_dose1=412),\n",
       " Row(clage_vacsi=39, n_cum_dose1=412),\n",
       " Row(clage_vacsi=39, n_cum_dose1=413),\n",
       " Row(clage_vacsi=39, n_cum_dose1=414),\n",
       " Row(clage_vacsi=49, n_cum_dose1=1),\n",
       " Row(clage_vacsi=49, n_cum_dose1=23),\n",
       " Row(clage_vacsi=49, n_cum_dose1=48),\n",
       " Row(clage_vacsi=49, n_cum_dose1=51),\n",
       " Row(clage_vacsi=49, n_cum_dose1=53),\n",
       " Row(clage_vacsi=49, n_cum_dose1=84),\n",
       " Row(clage_vacsi=49, n_cum_dose1=118),\n",
       " Row(clage_vacsi=49, n_cum_dose1=183),\n",
       " Row(clage_vacsi=49, n_cum_dose1=263),\n",
       " Row(clage_vacsi=49, n_cum_dose1=336),\n",
       " Row(clage_vacsi=49, n_cum_dose1=366),\n",
       " Row(clage_vacsi=49, n_cum_dose1=373),\n",
       " Row(clage_vacsi=49, n_cum_dose1=408),\n",
       " Row(clage_vacsi=49, n_cum_dose1=461),\n",
       " Row(clage_vacsi=49, n_cum_dose1=517),\n",
       " Row(clage_vacsi=49, n_cum_dose1=636),\n",
       " Row(clage_vacsi=49, n_cum_dose1=705),\n",
       " Row(clage_vacsi=49, n_cum_dose1=710),\n",
       " Row(clage_vacsi=49, n_cum_dose1=714),\n",
       " Row(clage_vacsi=49, n_cum_dose1=729),\n",
       " Row(clage_vacsi=49, n_cum_dose1=747),\n",
       " Row(clage_vacsi=49, n_cum_dose1=749),\n",
       " Row(clage_vacsi=49, n_cum_dose1=755),\n",
       " Row(clage_vacsi=49, n_cum_dose1=775),\n",
       " Row(clage_vacsi=49, n_cum_dose1=776),\n",
       " Row(clage_vacsi=49, n_cum_dose1=778),\n",
       " Row(clage_vacsi=49, n_cum_dose1=778),\n",
       " Row(clage_vacsi=59, n_cum_dose1=15),\n",
       " Row(clage_vacsi=59, n_cum_dose1=96),\n",
       " Row(clage_vacsi=59, n_cum_dose1=248),\n",
       " Row(clage_vacsi=59, n_cum_dose1=275),\n",
       " Row(clage_vacsi=59, n_cum_dose1=293),\n",
       " Row(clage_vacsi=59, n_cum_dose1=400),\n",
       " Row(clage_vacsi=59, n_cum_dose1=532),\n",
       " Row(clage_vacsi=59, n_cum_dose1=698),\n",
       " Row(clage_vacsi=59, n_cum_dose1=886),\n",
       " Row(clage_vacsi=59, n_cum_dose1=1046),\n",
       " Row(clage_vacsi=59, n_cum_dose1=1131),\n",
       " Row(clage_vacsi=59, n_cum_dose1=1151),\n",
       " Row(clage_vacsi=59, n_cum_dose1=1252),\n",
       " Row(clage_vacsi=59, n_cum_dose1=1348),\n",
       " Row(clage_vacsi=59, n_cum_dose1=1463),\n",
       " Row(clage_vacsi=59, n_cum_dose1=1733),\n",
       " Row(clage_vacsi=59, n_cum_dose1=1868),\n",
       " Row(clage_vacsi=59, n_cum_dose1=1882),\n",
       " Row(clage_vacsi=59, n_cum_dose1=1890),\n",
       " Row(clage_vacsi=59, n_cum_dose1=1920),\n",
       " Row(clage_vacsi=59, n_cum_dose1=1987),\n",
       " Row(clage_vacsi=59, n_cum_dose1=1998),\n",
       " Row(clage_vacsi=59, n_cum_dose1=2009),\n",
       " Row(clage_vacsi=59, n_cum_dose1=2022),\n",
       " Row(clage_vacsi=59, n_cum_dose1=2022),\n",
       " Row(clage_vacsi=59, n_cum_dose1=2022),\n",
       " Row(clage_vacsi=59, n_cum_dose1=2024),\n",
       " Row(clage_vacsi=64, n_cum_dose1=2),\n",
       " Row(clage_vacsi=64, n_cum_dose1=45),\n",
       " Row(clage_vacsi=64, n_cum_dose1=104),\n",
       " Row(clage_vacsi=64, n_cum_dose1=125),\n",
       " Row(clage_vacsi=64, n_cum_dose1=134),\n",
       " Row(clage_vacsi=64, n_cum_dose1=184),\n",
       " Row(clage_vacsi=64, n_cum_dose1=231),\n",
       " Row(clage_vacsi=64, n_cum_dose1=284),\n",
       " Row(clage_vacsi=64, n_cum_dose1=344),\n",
       " Row(clage_vacsi=64, n_cum_dose1=395),\n",
       " Row(clage_vacsi=64, n_cum_dose1=437),\n",
       " Row(clage_vacsi=64, n_cum_dose1=444),\n",
       " Row(clage_vacsi=64, n_cum_dose1=479),\n",
       " Row(clage_vacsi=64, n_cum_dose1=520),\n",
       " Row(clage_vacsi=64, n_cum_dose1=580),\n",
       " Row(clage_vacsi=64, n_cum_dose1=710),\n",
       " Row(clage_vacsi=64, n_cum_dose1=767),\n",
       " Row(clage_vacsi=64, n_cum_dose1=778),\n",
       " Row(clage_vacsi=64, n_cum_dose1=782),\n",
       " Row(clage_vacsi=64, n_cum_dose1=805),\n",
       " Row(clage_vacsi=64, n_cum_dose1=832),\n",
       " Row(clage_vacsi=64, n_cum_dose1=836),\n",
       " Row(clage_vacsi=64, n_cum_dose1=840),\n",
       " Row(clage_vacsi=64, n_cum_dose1=844),\n",
       " Row(clage_vacsi=64, n_cum_dose1=845),\n",
       " Row(clage_vacsi=64, n_cum_dose1=846),\n",
       " Row(clage_vacsi=64, n_cum_dose1=848),\n",
       " Row(clage_vacsi=69, n_cum_dose1=3),\n",
       " Row(clage_vacsi=69, n_cum_dose1=22),\n",
       " Row(clage_vacsi=69, n_cum_dose1=65),\n",
       " Row(clage_vacsi=69, n_cum_dose1=75),\n",
       " Row(clage_vacsi=69, n_cum_dose1=81),\n",
       " Row(clage_vacsi=69, n_cum_dose1=105),\n",
       " Row(clage_vacsi=69, n_cum_dose1=129),\n",
       " Row(clage_vacsi=69, n_cum_dose1=152),\n",
       " Row(clage_vacsi=69, n_cum_dose1=190),\n",
       " Row(clage_vacsi=69, n_cum_dose1=232),\n",
       " Row(clage_vacsi=69, n_cum_dose1=262),\n",
       " Row(clage_vacsi=69, n_cum_dose1=263),\n",
       " Row(clage_vacsi=69, n_cum_dose1=285),\n",
       " Row(clage_vacsi=69, n_cum_dose1=315),\n",
       " Row(clage_vacsi=69, n_cum_dose1=364),\n",
       " Row(clage_vacsi=69, n_cum_dose1=489),\n",
       " Row(clage_vacsi=69, n_cum_dose1=571),\n",
       " Row(clage_vacsi=69, n_cum_dose1=584),\n",
       " Row(clage_vacsi=69, n_cum_dose1=591),\n",
       " Row(clage_vacsi=69, n_cum_dose1=601),\n",
       " Row(clage_vacsi=69, n_cum_dose1=620),\n",
       " Row(clage_vacsi=69, n_cum_dose1=622),\n",
       " Row(clage_vacsi=69, n_cum_dose1=624),\n",
       " Row(clage_vacsi=69, n_cum_dose1=626),\n",
       " Row(clage_vacsi=69, n_cum_dose1=626),\n",
       " Row(clage_vacsi=69, n_cum_dose1=627),\n",
       " Row(clage_vacsi=69, n_cum_dose1=627),\n",
       " Row(clage_vacsi=74, n_cum_dose1=17),\n",
       " Row(clage_vacsi=74, n_cum_dose1=48),\n",
       " Row(clage_vacsi=74, n_cum_dose1=52),\n",
       " Row(clage_vacsi=74, n_cum_dose1=58),\n",
       " Row(clage_vacsi=74, n_cum_dose1=71),\n",
       " Row(clage_vacsi=74, n_cum_dose1=93),\n",
       " Row(clage_vacsi=74, n_cum_dose1=116),\n",
       " Row(clage_vacsi=74, n_cum_dose1=154),\n",
       " Row(clage_vacsi=74, n_cum_dose1=197),\n",
       " Row(clage_vacsi=74, n_cum_dose1=223),\n",
       " Row(clage_vacsi=74, n_cum_dose1=227),\n",
       " Row(clage_vacsi=74, n_cum_dose1=271),\n",
       " Row(clage_vacsi=74, n_cum_dose1=317),\n",
       " Row(clage_vacsi=74, n_cum_dose1=404),\n",
       " Row(clage_vacsi=74, n_cum_dose1=553),\n",
       " Row(clage_vacsi=74, n_cum_dose1=664),\n",
       " Row(clage_vacsi=74, n_cum_dose1=677),\n",
       " Row(clage_vacsi=74, n_cum_dose1=680),\n",
       " Row(clage_vacsi=74, n_cum_dose1=703),\n",
       " Row(clage_vacsi=74, n_cum_dose1=733),\n",
       " Row(clage_vacsi=74, n_cum_dose1=743),\n",
       " Row(clage_vacsi=74, n_cum_dose1=743),\n",
       " Row(clage_vacsi=74, n_cum_dose1=748),\n",
       " Row(clage_vacsi=74, n_cum_dose1=749),\n",
       " Row(clage_vacsi=74, n_cum_dose1=751),\n",
       " Row(clage_vacsi=74, n_cum_dose1=754),\n",
       " Row(clage_vacsi=79, n_cum_dose1=9),\n",
       " Row(clage_vacsi=79, n_cum_dose1=30),\n",
       " Row(clage_vacsi=79, n_cum_dose1=31),\n",
       " Row(clage_vacsi=79, n_cum_dose1=33),\n",
       " Row(clage_vacsi=79, n_cum_dose1=37),\n",
       " Row(clage_vacsi=79, n_cum_dose1=52),\n",
       " Row(clage_vacsi=79, n_cum_dose1=70),\n",
       " Row(clage_vacsi=79, n_cum_dose1=126),\n",
       " Row(clage_vacsi=79, n_cum_dose1=205),\n",
       " Row(clage_vacsi=79, n_cum_dose1=245),\n",
       " Row(clage_vacsi=79, n_cum_dose1=258),\n",
       " Row(clage_vacsi=79, n_cum_dose1=451),\n",
       " Row(clage_vacsi=79, n_cum_dose1=667),\n",
       " Row(clage_vacsi=79, n_cum_dose1=947),\n",
       " Row(clage_vacsi=79, n_cum_dose1=1274),\n",
       " Row(clage_vacsi=79, n_cum_dose1=1543),\n",
       " Row(clage_vacsi=79, n_cum_dose1=1608),\n",
       " Row(clage_vacsi=79, n_cum_dose1=1613),\n",
       " Row(clage_vacsi=79, n_cum_dose1=1727),\n",
       " Row(clage_vacsi=79, n_cum_dose1=1902),\n",
       " Row(clage_vacsi=79, n_cum_dose1=1944),\n",
       " Row(clage_vacsi=79, n_cum_dose1=1947),\n",
       " Row(clage_vacsi=79, n_cum_dose1=1952),\n",
       " Row(clage_vacsi=79, n_cum_dose1=1953),\n",
       " Row(clage_vacsi=79, n_cum_dose1=1954),\n",
       " Row(clage_vacsi=79, n_cum_dose1=1963),\n",
       " Row(clage_vacsi=80, n_cum_dose1=1),\n",
       " Row(clage_vacsi=80, n_cum_dose1=64),\n",
       " Row(clage_vacsi=80, n_cum_dose1=187),\n",
       " Row(clage_vacsi=80, n_cum_dose1=193),\n",
       " Row(clage_vacsi=80, n_cum_dose1=216),\n",
       " Row(clage_vacsi=80, n_cum_dose1=272),\n",
       " Row(clage_vacsi=80, n_cum_dose1=305),\n",
       " Row(clage_vacsi=80, n_cum_dose1=390),\n",
       " Row(clage_vacsi=80, n_cum_dose1=495),\n",
       " Row(clage_vacsi=80, n_cum_dose1=546),\n",
       " Row(clage_vacsi=80, n_cum_dose1=552),\n",
       " Row(clage_vacsi=80, n_cum_dose1=895),\n",
       " Row(clage_vacsi=80, n_cum_dose1=1320),\n",
       " Row(clage_vacsi=80, n_cum_dose1=2054),\n",
       " Row(clage_vacsi=80, n_cum_dose1=3362),\n",
       " Row(clage_vacsi=80, n_cum_dose1=3995),\n",
       " Row(clage_vacsi=80, n_cum_dose1=4113),\n",
       " Row(clage_vacsi=80, n_cum_dose1=4143),\n",
       " Row(clage_vacsi=80, n_cum_dose1=4352),\n",
       " Row(clage_vacsi=80, n_cum_dose1=4692),\n",
       " Row(clage_vacsi=80, n_cum_dose1=4779),\n",
       " Row(clage_vacsi=80, n_cum_dose1=4807),\n",
       " Row(clage_vacsi=80, n_cum_dose1=4845),\n",
       " Row(clage_vacsi=80, n_cum_dose1=4845),\n",
       " Row(clage_vacsi=80, n_cum_dose1=4849),\n",
       " Row(clage_vacsi=80, n_cum_dose1=4871),\n",
       " Row(clage_vacsi=0, n_cum_dose1=10),\n",
       " Row(clage_vacsi=0, n_cum_dose1=70),\n",
       " Row(clage_vacsi=0, n_cum_dose1=216),\n",
       " Row(clage_vacsi=0, n_cum_dose1=328),\n",
       " Row(clage_vacsi=0, n_cum_dose1=730),\n",
       " Row(clage_vacsi=0, n_cum_dose1=1358),\n",
       " Row(clage_vacsi=0, n_cum_dose1=2025),\n",
       " Row(clage_vacsi=0, n_cum_dose1=2877),\n",
       " Row(clage_vacsi=0, n_cum_dose1=3170),\n",
       " Row(clage_vacsi=0, n_cum_dose1=3447),\n",
       " Row(clage_vacsi=0, n_cum_dose1=3489),\n",
       " Row(clage_vacsi=0, n_cum_dose1=4350),\n",
       " Row(clage_vacsi=0, n_cum_dose1=5490),\n",
       " Row(clage_vacsi=0, n_cum_dose1=6744),\n",
       " Row(clage_vacsi=0, n_cum_dose1=7931),\n",
       " Row(clage_vacsi=0, n_cum_dose1=9009),\n",
       " Row(clage_vacsi=0, n_cum_dose1=9473),\n",
       " Row(clage_vacsi=0, n_cum_dose1=9658),\n",
       " Row(clage_vacsi=0, n_cum_dose1=10337),\n",
       " Row(clage_vacsi=0, n_cum_dose1=11014),\n",
       " Row(clage_vacsi=0, n_cum_dose1=12021),\n",
       " Row(clage_vacsi=0, n_cum_dose1=12836),\n",
       " Row(clage_vacsi=0, n_cum_dose1=13403),\n",
       " Row(clage_vacsi=0, n_cum_dose1=13557),\n",
       " Row(clage_vacsi=0, n_cum_dose1=14294),\n",
       " Row(clage_vacsi=24, n_cum_dose1=1),\n",
       " Row(clage_vacsi=24, n_cum_dose1=3),\n",
       " Row(clage_vacsi=24, n_cum_dose1=7),\n",
       " Row(clage_vacsi=24, n_cum_dose1=8),\n",
       " Row(clage_vacsi=24, n_cum_dose1=12),\n",
       " Row(clage_vacsi=24, n_cum_dose1=13),\n",
       " Row(clage_vacsi=24, n_cum_dose1=14),\n",
       " Row(clage_vacsi=24, n_cum_dose1=17),\n",
       " Row(clage_vacsi=24, n_cum_dose1=29),\n",
       " Row(clage_vacsi=24, n_cum_dose1=31),\n",
       " Row(clage_vacsi=24, n_cum_dose1=34),\n",
       " Row(clage_vacsi=24, n_cum_dose1=37),\n",
       " Row(clage_vacsi=24, n_cum_dose1=38),\n",
       " Row(clage_vacsi=24, n_cum_dose1=39),\n",
       " Row(clage_vacsi=24, n_cum_dose1=43),\n",
       " Row(clage_vacsi=24, n_cum_dose1=44),\n",
       " Row(clage_vacsi=24, n_cum_dose1=45),\n",
       " Row(clage_vacsi=24, n_cum_dose1=45),\n",
       " Row(clage_vacsi=29, n_cum_dose1=1),\n",
       " Row(clage_vacsi=29, n_cum_dose1=8),\n",
       " Row(clage_vacsi=29, n_cum_dose1=16),\n",
       " Row(clage_vacsi=29, n_cum_dose1=31),\n",
       " Row(clage_vacsi=29, n_cum_dose1=35),\n",
       " Row(clage_vacsi=29, n_cum_dose1=36),\n",
       " Row(clage_vacsi=29, n_cum_dose1=43),\n",
       " Row(clage_vacsi=29, n_cum_dose1=52),\n",
       " Row(clage_vacsi=29, n_cum_dose1=65),\n",
       " Row(clage_vacsi=29, n_cum_dose1=74),\n",
       " Row(clage_vacsi=29, n_cum_dose1=80),\n",
       " Row(clage_vacsi=29, n_cum_dose1=81),\n",
       " Row(clage_vacsi=29, n_cum_dose1=83),\n",
       " Row(clage_vacsi=29, n_cum_dose1=84),\n",
       " Row(clage_vacsi=29, n_cum_dose1=86),\n",
       " Row(clage_vacsi=29, n_cum_dose1=90),\n",
       " Row(clage_vacsi=29, n_cum_dose1=91),\n",
       " Row(clage_vacsi=29, n_cum_dose1=91),\n",
       " Row(clage_vacsi=39, n_cum_dose1=1),\n",
       " Row(clage_vacsi=39, n_cum_dose1=2),\n",
       " Row(clage_vacsi=39, n_cum_dose1=24),\n",
       " Row(clage_vacsi=39, n_cum_dose1=63),\n",
       " Row(clage_vacsi=39, n_cum_dose1=108),\n",
       " Row(clage_vacsi=39, n_cum_dose1=176),\n",
       " Row(clage_vacsi=39, n_cum_dose1=189),\n",
       " Row(clage_vacsi=39, n_cum_dose1=196),\n",
       " Row(clage_vacsi=39, n_cum_dose1=201),\n",
       " Row(clage_vacsi=39, n_cum_dose1=229),\n",
       " Row(clage_vacsi=39, n_cum_dose1=254),\n",
       " Row(clage_vacsi=39, n_cum_dose1=308),\n",
       " Row(clage_vacsi=39, n_cum_dose1=353),\n",
       " Row(clage_vacsi=39, n_cum_dose1=376),\n",
       " Row(clage_vacsi=39, n_cum_dose1=379),\n",
       " Row(clage_vacsi=39, n_cum_dose1=381),\n",
       " Row(clage_vacsi=39, n_cum_dose1=396),\n",
       " Row(clage_vacsi=39, n_cum_dose1=404),\n",
       " Row(clage_vacsi=39, n_cum_dose1=417),\n",
       " Row(clage_vacsi=39, n_cum_dose1=428),\n",
       " Row(clage_vacsi=39, n_cum_dose1=432),\n",
       " Row(clage_vacsi=39, n_cum_dose1=432),\n",
       " Row(clage_vacsi=39, n_cum_dose1=434),\n",
       " Row(clage_vacsi=49, n_cum_dose1=1),\n",
       " Row(clage_vacsi=49, n_cum_dose1=6),\n",
       " Row(clage_vacsi=49, n_cum_dose1=49),\n",
       " Row(clage_vacsi=49, n_cum_dose1=124),\n",
       " Row(clage_vacsi=49, n_cum_dose1=207),\n",
       " Row(clage_vacsi=49, n_cum_dose1=326),\n",
       " Row(clage_vacsi=49, n_cum_dose1=345),\n",
       " Row(clage_vacsi=49, n_cum_dose1=367),\n",
       " Row(clage_vacsi=49, n_cum_dose1=374),\n",
       " Row(clage_vacsi=49, n_cum_dose1=446),\n",
       " Row(clage_vacsi=49, n_cum_dose1=497),\n",
       " Row(clage_vacsi=49, n_cum_dose1=573),\n",
       " Row(clage_vacsi=49, n_cum_dose1=626),\n",
       " Row(clage_vacsi=49, n_cum_dose1=682),\n",
       " Row(clage_vacsi=49, n_cum_dose1=687),\n",
       " Row(clage_vacsi=49, n_cum_dose1=691),\n",
       " Row(clage_vacsi=49, n_cum_dose1=715),\n",
       " Row(clage_vacsi=49, n_cum_dose1=721),\n",
       " Row(clage_vacsi=49, n_cum_dose1=732),\n",
       " Row(clage_vacsi=49, n_cum_dose1=774),\n",
       " Row(clage_vacsi=49, n_cum_dose1=782),\n",
       " Row(clage_vacsi=49, n_cum_dose1=785),\n",
       " Row(clage_vacsi=49, n_cum_dose1=793),\n",
       " Row(clage_vacsi=59, n_cum_dose1=2),\n",
       " Row(clage_vacsi=59, n_cum_dose1=30),\n",
       " Row(clage_vacsi=59, n_cum_dose1=73),\n",
       " Row(clage_vacsi=59, n_cum_dose1=236),\n",
       " Row(clage_vacsi=59, n_cum_dose1=438),\n",
       " Row(clage_vacsi=59, n_cum_dose1=679),\n",
       " Row(clage_vacsi=59, n_cum_dose1=950),\n",
       " Row(clage_vacsi=59, n_cum_dose1=1066),\n",
       " Row(clage_vacsi=59, n_cum_dose1=1175),\n",
       " Row(clage_vacsi=59, n_cum_dose1=1179),\n",
       " Row(clage_vacsi=59, n_cum_dose1=1277),\n",
       " Row(clage_vacsi=59, n_cum_dose1=1359),\n",
       " Row(clage_vacsi=59, n_cum_dose1=1460),\n",
       " Row(clage_vacsi=59, n_cum_dose1=1551),\n",
       " Row(clage_vacsi=59, n_cum_dose1=1621),\n",
       " Row(clage_vacsi=59, n_cum_dose1=1638),\n",
       " Row(clage_vacsi=59, n_cum_dose1=1649),\n",
       " Row(clage_vacsi=59, n_cum_dose1=1678),\n",
       " Row(clage_vacsi=59, n_cum_dose1=1700),\n",
       " Row(clage_vacsi=59, n_cum_dose1=1743),\n",
       " Row(clage_vacsi=59, n_cum_dose1=1809),\n",
       " Row(clage_vacsi=59, n_cum_dose1=1840),\n",
       " Row(clage_vacsi=59, n_cum_dose1=1846),\n",
       " Row(clage_vacsi=59, n_cum_dose1=1868),\n",
       " Row(clage_vacsi=64, n_cum_dose1=2),\n",
       " Row(clage_vacsi=64, n_cum_dose1=15),\n",
       " Row(clage_vacsi=64, n_cum_dose1=37),\n",
       " Row(clage_vacsi=64, n_cum_dose1=41),\n",
       " Row(clage_vacsi=64, n_cum_dose1=116),\n",
       " Row(clage_vacsi=64, n_cum_dose1=209),\n",
       " Row(clage_vacsi=64, n_cum_dose1=312),\n",
       " Row(clage_vacsi=64, n_cum_dose1=418),\n",
       " Row(clage_vacsi=64, n_cum_dose1=437),\n",
       " Row(clage_vacsi=64, n_cum_dose1=469),\n",
       " Row(clage_vacsi=64, n_cum_dose1=473),\n",
       " Row(clage_vacsi=64, n_cum_dose1=507),\n",
       " Row(clage_vacsi=64, n_cum_dose1=542),\n",
       " Row(clage_vacsi=64, n_cum_dose1=587),\n",
       " Row(clage_vacsi=64, n_cum_dose1=621),\n",
       " Row(clage_vacsi=64, n_cum_dose1=658),\n",
       " Row(clage_vacsi=64, n_cum_dose1=676),\n",
       " Row(clage_vacsi=64, n_cum_dose1=683),\n",
       " Row(clage_vacsi=64, n_cum_dose1=701),\n",
       " Row(clage_vacsi=64, n_cum_dose1=711),\n",
       " Row(clage_vacsi=64, n_cum_dose1=727),\n",
       " Row(clage_vacsi=64, n_cum_dose1=759),\n",
       " Row(clage_vacsi=64, n_cum_dose1=786),\n",
       " Row(clage_vacsi=64, n_cum_dose1=790),\n",
       " Row(clage_vacsi=64, n_cum_dose1=798),\n",
       " Row(clage_vacsi=69, n_cum_dose1=1),\n",
       " Row(clage_vacsi=69, n_cum_dose1=6),\n",
       " Row(clage_vacsi=69, n_cum_dose1=16),\n",
       " Row(clage_vacsi=69, n_cum_dose1=19),\n",
       " Row(clage_vacsi=69, n_cum_dose1=68),\n",
       " Row(clage_vacsi=69, n_cum_dose1=120),\n",
       " Row(clage_vacsi=69, n_cum_dose1=163),\n",
       " Row(clage_vacsi=69, n_cum_dose1=217),\n",
       " Row(clage_vacsi=69, n_cum_dose1=226),\n",
       " Row(clage_vacsi=69, n_cum_dose1=236),\n",
       " Row(clage_vacsi=69, n_cum_dose1=238),\n",
       " Row(clage_vacsi=69, n_cum_dose1=259),\n",
       " Row(clage_vacsi=69, n_cum_dose1=286),\n",
       " Row(clage_vacsi=69, n_cum_dose1=313),\n",
       " Row(clage_vacsi=69, n_cum_dose1=341),\n",
       " Row(clage_vacsi=69, n_cum_dose1=369),\n",
       " Row(clage_vacsi=69, n_cum_dose1=385),\n",
       " Row(clage_vacsi=69, n_cum_dose1=392),\n",
       " Row(clage_vacsi=69, n_cum_dose1=426),\n",
       " Row(clage_vacsi=69, n_cum_dose1=438),\n",
       " Row(clage_vacsi=69, n_cum_dose1=462),\n",
       " Row(clage_vacsi=69, n_cum_dose1=496),\n",
       " Row(clage_vacsi=69, n_cum_dose1=524),\n",
       " Row(clage_vacsi=69, n_cum_dose1=529),\n",
       " Row(clage_vacsi=69, n_cum_dose1=548),\n",
       " Row(clage_vacsi=74, n_cum_dose1=3),\n",
       " Row(clage_vacsi=74, n_cum_dose1=7),\n",
       " Row(clage_vacsi=74, n_cum_dose1=14),\n",
       " Row(clage_vacsi=74, n_cum_dose1=37),\n",
       " Row(clage_vacsi=74, n_cum_dose1=71),\n",
       " Row(clage_vacsi=74, n_cum_dose1=115),\n",
       " Row(clage_vacsi=74, n_cum_dose1=151),\n",
       " Row(clage_vacsi=74, n_cum_dose1=156),\n",
       " Row(clage_vacsi=74, n_cum_dose1=168),\n",
       " Row(clage_vacsi=74, n_cum_dose1=169),\n",
       " Row(clage_vacsi=74, n_cum_dose1=205),\n",
       " Row(clage_vacsi=74, n_cum_dose1=248),\n",
       " Row(clage_vacsi=74, n_cum_dose1=304),\n",
       " Row(clage_vacsi=74, n_cum_dose1=363),\n",
       " Row(clage_vacsi=74, n_cum_dose1=421),\n",
       " Row(clage_vacsi=74, n_cum_dose1=442),\n",
       " Row(clage_vacsi=74, n_cum_dose1=449),\n",
       " Row(clage_vacsi=74, n_cum_dose1=486),\n",
       " Row(clage_vacsi=74, n_cum_dose1=529),\n",
       " Row(clage_vacsi=74, n_cum_dose1=586),\n",
       " Row(clage_vacsi=74, n_cum_dose1=643),\n",
       " Row(clage_vacsi=74, n_cum_dose1=666),\n",
       " Row(clage_vacsi=74, n_cum_dose1=673),\n",
       " Row(clage_vacsi=74, n_cum_dose1=718),\n",
       " Row(clage_vacsi=79, n_cum_dose1=9),\n",
       " Row(clage_vacsi=79, n_cum_dose1=20),\n",
       " Row(clage_vacsi=79, n_cum_dose1=34),\n",
       " Row(clage_vacsi=79, n_cum_dose1=66),\n",
       " Row(clage_vacsi=79, n_cum_dose1=98),\n",
       " Row(clage_vacsi=79, n_cum_dose1=140),\n",
       " Row(clage_vacsi=79, n_cum_dose1=173),\n",
       " Row(clage_vacsi=79, n_cum_dose1=186),\n",
       " Row(clage_vacsi=79, n_cum_dose1=189),\n",
       " Row(clage_vacsi=79, n_cum_dose1=408),\n",
       " Row(clage_vacsi=79, n_cum_dose1=717),\n",
       " Row(clage_vacsi=79, n_cum_dose1=1019),\n",
       " Row(clage_vacsi=79, n_cum_dose1=1308),\n",
       " Row(clage_vacsi=79, n_cum_dose1=1598),\n",
       " Row(clage_vacsi=79, n_cum_dose1=1726),\n",
       " Row(clage_vacsi=79, n_cum_dose1=1784),\n",
       " Row(clage_vacsi=79, n_cum_dose1=1964),\n",
       " Row(clage_vacsi=79, n_cum_dose1=2181),\n",
       " Row(clage_vacsi=79, n_cum_dose1=2436),\n",
       " Row(clage_vacsi=79, n_cum_dose1=2612),\n",
       " Row(clage_vacsi=79, n_cum_dose1=2763),\n",
       " Row(clage_vacsi=79, n_cum_dose1=2810),\n",
       " Row(clage_vacsi=79, n_cum_dose1=2964),\n",
       " Row(clage_vacsi=80, n_cum_dose1=5),\n",
       " Row(clage_vacsi=80, n_cum_dose1=14),\n",
       " Row(clage_vacsi=80, n_cum_dose1=65),\n",
       " Row(clage_vacsi=80, n_cum_dose1=152),\n",
       " Row(clage_vacsi=80, n_cum_dose1=162),\n",
       " Row(clage_vacsi=80, n_cum_dose1=252),\n",
       " Row(clage_vacsi=80, n_cum_dose1=319),\n",
       " Row(clage_vacsi=80, n_cum_dose1=455),\n",
       " Row(clage_vacsi=80, n_cum_dose1=530),\n",
       " Row(clage_vacsi=80, n_cum_dose1=601),\n",
       " Row(clage_vacsi=80, n_cum_dose1=615),\n",
       " Row(clage_vacsi=80, n_cum_dose1=958),\n",
       " Row(clage_vacsi=80, n_cum_dose1=1505),\n",
       " Row(clage_vacsi=80, n_cum_dose1=2083),\n",
       " Row(clage_vacsi=80, n_cum_dose1=2659),\n",
       " Row(clage_vacsi=80, n_cum_dose1=3166),\n",
       " Row(clage_vacsi=80, n_cum_dose1=3421),\n",
       " Row(clage_vacsi=80, n_cum_dose1=3510),\n",
       " Row(clage_vacsi=80, n_cum_dose1=3849),\n",
       " Row(clage_vacsi=80, n_cum_dose1=4206),\n",
       " Row(clage_vacsi=80, n_cum_dose1=4788),\n",
       " Row(clage_vacsi=80, n_cum_dose1=5179),\n",
       " Row(clage_vacsi=80, n_cum_dose1=5472),\n",
       " Row(clage_vacsi=80, n_cum_dose1=5554),\n",
       " Row(clage_vacsi=80, n_cum_dose1=6033),\n",
       " Row(clage_vacsi=0, n_cum_dose1=4),\n",
       " Row(clage_vacsi=0, n_cum_dose1=64),\n",
       " Row(clage_vacsi=0, n_cum_dose1=152),\n",
       " Row(clage_vacsi=0, n_cum_dose1=208),\n",
       " Row(clage_vacsi=0, n_cum_dose1=284),\n",
       " Row(clage_vacsi=0, n_cum_dose1=693),\n",
       " Row(clage_vacsi=0, n_cum_dose1=930),\n",
       " Row(clage_vacsi=0, n_cum_dose1=1016),\n",
       " Row(clage_vacsi=0, n_cum_dose1=1173),\n",
       " Row(clage_vacsi=0, n_cum_dose1=1276),\n",
       " Row(clage_vacsi=0, n_cum_dose1=1284),\n",
       " Row(clage_vacsi=0, n_cum_dose1=1515),\n",
       " Row(clage_vacsi=0, n_cum_dose1=1980),\n",
       " Row(clage_vacsi=0, n_cum_dose1=2543),\n",
       " Row(clage_vacsi=0, n_cum_dose1=3144),\n",
       " Row(clage_vacsi=0, n_cum_dose1=3771),\n",
       " Row(clage_vacsi=0, n_cum_dose1=3880),\n",
       " Row(clage_vacsi=0, n_cum_dose1=4118),\n",
       " Row(clage_vacsi=0, n_cum_dose1=4760),\n",
       " Row(clage_vacsi=0, n_cum_dose1=5237),\n",
       " Row(clage_vacsi=0, n_cum_dose1=5871),\n",
       " Row(clage_vacsi=0, n_cum_dose1=6235),\n",
       " Row(clage_vacsi=0, n_cum_dose1=6300),\n",
       " Row(clage_vacsi=0, n_cum_dose1=6301),\n",
       " Row(clage_vacsi=0, n_cum_dose1=6530),\n",
       " Row(clage_vacsi=0, n_cum_dose1=7020),\n",
       " Row(clage_vacsi=24, n_cum_dose1=1),\n",
       " Row(clage_vacsi=24, n_cum_dose1=2),\n",
       " Row(clage_vacsi=24, n_cum_dose1=3),\n",
       " Row(clage_vacsi=24, n_cum_dose1=4),\n",
       " Row(clage_vacsi=24, n_cum_dose1=5),\n",
       " Row(clage_vacsi=24, n_cum_dose1=6),\n",
       " Row(clage_vacsi=29, n_cum_dose1=2),\n",
       " Row(clage_vacsi=29, n_cum_dose1=3),\n",
       " Row(clage_vacsi=29, n_cum_dose1=4),\n",
       " Row(clage_vacsi=29, n_cum_dose1=6),\n",
       " Row(clage_vacsi=29, n_cum_dose1=7),\n",
       " Row(clage_vacsi=29, n_cum_dose1=8),\n",
       " Row(clage_vacsi=29, n_cum_dose1=9),\n",
       " Row(clage_vacsi=29, n_cum_dose1=11),\n",
       " Row(clage_vacsi=29, n_cum_dose1=12),\n",
       " Row(clage_vacsi=29, n_cum_dose1=14),\n",
       " Row(clage_vacsi=29, n_cum_dose1=14),\n",
       " Row(clage_vacsi=29, n_cum_dose1=15),\n",
       " Row(clage_vacsi=39, n_cum_dose1=1),\n",
       " Row(clage_vacsi=39, n_cum_dose1=4),\n",
       " Row(clage_vacsi=39, n_cum_dose1=15),\n",
       " Row(clage_vacsi=39, n_cum_dose1=22),\n",
       " Row(clage_vacsi=39, n_cum_dose1=25),\n",
       " Row(clage_vacsi=39, n_cum_dose1=29),\n",
       " Row(clage_vacsi=39, n_cum_dose1=31),\n",
       " Row(clage_vacsi=39, n_cum_dose1=34),\n",
       " Row(clage_vacsi=39, n_cum_dose1=39),\n",
       " Row(clage_vacsi=39, n_cum_dose1=48),\n",
       " Row(clage_vacsi=39, n_cum_dose1=57),\n",
       " Row(clage_vacsi=39, n_cum_dose1=62),\n",
       " Row(clage_vacsi=39, n_cum_dose1=64),\n",
       " Row(clage_vacsi=39, n_cum_dose1=65),\n",
       " Row(clage_vacsi=39, n_cum_dose1=68),\n",
       " Row(clage_vacsi=39, n_cum_dose1=76),\n",
       " Row(clage_vacsi=39, n_cum_dose1=83),\n",
       " Row(clage_vacsi=39, n_cum_dose1=85),\n",
       " Row(clage_vacsi=39, n_cum_dose1=86),\n",
       " Row(clage_vacsi=39, n_cum_dose1=88),\n",
       " Row(clage_vacsi=39, n_cum_dose1=93),\n",
       " Row(clage_vacsi=49, n_cum_dose1=1),\n",
       " Row(clage_vacsi=49, n_cum_dose1=3),\n",
       " Row(clage_vacsi=49, n_cum_dose1=6),\n",
       " Row(clage_vacsi=49, n_cum_dose1=12),\n",
       " Row(clage_vacsi=49, n_cum_dose1=13),\n",
       " Row(clage_vacsi=49, n_cum_dose1=39),\n",
       " Row(clage_vacsi=49, n_cum_dose1=54),\n",
       " Row(clage_vacsi=49, n_cum_dose1=62),\n",
       " Row(clage_vacsi=49, n_cum_dose1=73),\n",
       " Row(clage_vacsi=49, n_cum_dose1=78),\n",
       " Row(clage_vacsi=49, n_cum_dose1=85),\n",
       " Row(clage_vacsi=49, n_cum_dose1=95),\n",
       " Row(clage_vacsi=49, n_cum_dose1=119),\n",
       " Row(clage_vacsi=49, n_cum_dose1=142),\n",
       " Row(clage_vacsi=49, n_cum_dose1=152),\n",
       " Row(clage_vacsi=49, n_cum_dose1=158),\n",
       " Row(clage_vacsi=49, n_cum_dose1=162),\n",
       " Row(clage_vacsi=49, n_cum_dose1=174),\n",
       " Row(clage_vacsi=49, n_cum_dose1=183),\n",
       " Row(clage_vacsi=49, n_cum_dose1=191),\n",
       " Row(clage_vacsi=49, n_cum_dose1=194),\n",
       " Row(clage_vacsi=49, n_cum_dose1=197),\n",
       " Row(clage_vacsi=49, n_cum_dose1=198),\n",
       " Row(clage_vacsi=49, n_cum_dose1=201),\n",
       " Row(clage_vacsi=49, n_cum_dose1=205),\n",
       " Row(clage_vacsi=59, n_cum_dose1=1),\n",
       " Row(clage_vacsi=59, n_cum_dose1=15),\n",
       " Row(clage_vacsi=59, n_cum_dose1=37),\n",
       " Row(clage_vacsi=59, n_cum_dose1=42),\n",
       " Row(clage_vacsi=59, n_cum_dose1=63),\n",
       " Row(clage_vacsi=59, n_cum_dose1=133),\n",
       " Row(clage_vacsi=59, n_cum_dose1=201),\n",
       " Row(clage_vacsi=59, n_cum_dose1=234),\n",
       " Row(clage_vacsi=59, n_cum_dose1=300),\n",
       " Row(clage_vacsi=59, n_cum_dose1=333),\n",
       " Row(clage_vacsi=59, n_cum_dose1=334),\n",
       " Row(clage_vacsi=59, n_cum_dose1=364),\n",
       " Row(clage_vacsi=59, n_cum_dose1=414),\n",
       " Row(clage_vacsi=59, n_cum_dose1=470),\n",
       " Row(clage_vacsi=59, n_cum_dose1=513),\n",
       " Row(clage_vacsi=59, n_cum_dose1=557),\n",
       " Row(clage_vacsi=59, n_cum_dose1=574),\n",
       " Row(clage_vacsi=59, n_cum_dose1=600),\n",
       " Row(clage_vacsi=59, n_cum_dose1=639),\n",
       " Row(clage_vacsi=59, n_cum_dose1=664),\n",
       " Row(clage_vacsi=59, n_cum_dose1=696),\n",
       " Row(clage_vacsi=59, n_cum_dose1=717),\n",
       " Row(clage_vacsi=59, n_cum_dose1=722),\n",
       " Row(clage_vacsi=59, n_cum_dose1=740),\n",
       " Row(clage_vacsi=59, n_cum_dose1=756),\n",
       " Row(clage_vacsi=64, n_cum_dose1=8),\n",
       " Row(clage_vacsi=64, n_cum_dose1=19),\n",
       " Row(clage_vacsi=64, n_cum_dose1=21),\n",
       " Row(clage_vacsi=64, n_cum_dose1=31),\n",
       " Row(clage_vacsi=64, n_cum_dose1=64),\n",
       " Row(clage_vacsi=64, n_cum_dose1=88),\n",
       " Row(clage_vacsi=64, n_cum_dose1=98),\n",
       " Row(clage_vacsi=64, n_cum_dose1=129),\n",
       " Row(clage_vacsi=64, n_cum_dose1=153),\n",
       " Row(clage_vacsi=64, n_cum_dose1=170),\n",
       " Row(clage_vacsi=64, n_cum_dose1=197),\n",
       " Row(clage_vacsi=64, n_cum_dose1=217),\n",
       " Row(clage_vacsi=64, n_cum_dose1=246),\n",
       " Row(clage_vacsi=64, n_cum_dose1=272),\n",
       " Row(clage_vacsi=64, n_cum_dose1=287),\n",
       " Row(clage_vacsi=64, n_cum_dose1=302),\n",
       " Row(clage_vacsi=64, n_cum_dose1=313),\n",
       " Row(clage_vacsi=64, n_cum_dose1=336),\n",
       " Row(clage_vacsi=64, n_cum_dose1=351),\n",
       " Row(clage_vacsi=64, n_cum_dose1=368),\n",
       " Row(clage_vacsi=64, n_cum_dose1=377),\n",
       " Row(clage_vacsi=64, n_cum_dose1=385),\n",
       " Row(clage_vacsi=64, n_cum_dose1=404),\n",
       " Row(clage_vacsi=69, n_cum_dose1=7),\n",
       " Row(clage_vacsi=69, n_cum_dose1=13),\n",
       " Row(clage_vacsi=69, n_cum_dose1=16),\n",
       " Row(clage_vacsi=69, n_cum_dose1=27),\n",
       " Row(clage_vacsi=69, n_cum_dose1=49),\n",
       " Row(clage_vacsi=69, n_cum_dose1=59),\n",
       " Row(clage_vacsi=69, n_cum_dose1=68),\n",
       " Row(clage_vacsi=69, n_cum_dose1=77),\n",
       " Row(clage_vacsi=69, n_cum_dose1=85),\n",
       " Row(clage_vacsi=69, n_cum_dose1=99),\n",
       " Row(clage_vacsi=69, n_cum_dose1=119),\n",
       " Row(clage_vacsi=69, n_cum_dose1=142),\n",
       " Row(clage_vacsi=69, n_cum_dose1=176),\n",
       " Row(clage_vacsi=69, n_cum_dose1=209),\n",
       " Row(clage_vacsi=69, n_cum_dose1=220),\n",
       " Row(clage_vacsi=69, n_cum_dose1=224),\n",
       " Row(clage_vacsi=69, n_cum_dose1=245),\n",
       " Row(clage_vacsi=69, n_cum_dose1=260),\n",
       " Row(clage_vacsi=69, n_cum_dose1=273),\n",
       " Row(clage_vacsi=69, n_cum_dose1=289),\n",
       " Row(clage_vacsi=69, n_cum_dose1=293),\n",
       " Row(clage_vacsi=69, n_cum_dose1=303),\n",
       " Row(clage_vacsi=69, n_cum_dose1=319),\n",
       " Row(clage_vacsi=74, n_cum_dose1=2),\n",
       " Row(clage_vacsi=74, n_cum_dose1=4),\n",
       " Row(clage_vacsi=74, n_cum_dose1=10),\n",
       " Row(clage_vacsi=74, n_cum_dose1=11),\n",
       " Row(clage_vacsi=74, n_cum_dose1=17),\n",
       " Row(clage_vacsi=74, n_cum_dose1=35),\n",
       " Row(clage_vacsi=74, n_cum_dose1=47),\n",
       " Row(clage_vacsi=74, n_cum_dose1=51),\n",
       " Row(clage_vacsi=74, n_cum_dose1=56),\n",
       " Row(clage_vacsi=74, n_cum_dose1=65),\n",
       " Row(clage_vacsi=74, n_cum_dose1=80),\n",
       " Row(clage_vacsi=74, n_cum_dose1=105),\n",
       " Row(clage_vacsi=74, n_cum_dose1=131),\n",
       " Row(clage_vacsi=74, n_cum_dose1=161),\n",
       " Row(clage_vacsi=74, n_cum_dose1=195),\n",
       " Row(clage_vacsi=74, n_cum_dose1=207),\n",
       " Row(clage_vacsi=74, n_cum_dose1=222),\n",
       " Row(clage_vacsi=74, n_cum_dose1=263),\n",
       " Row(clage_vacsi=74, n_cum_dose1=281),\n",
       " Row(clage_vacsi=74, n_cum_dose1=328),\n",
       " Row(clage_vacsi=74, n_cum_dose1=353),\n",
       " Row(clage_vacsi=74, n_cum_dose1=367),\n",
       " Row(clage_vacsi=74, n_cum_dose1=383),\n",
       " Row(clage_vacsi=74, n_cum_dose1=411),\n",
       " Row(clage_vacsi=79, n_cum_dose1=1),\n",
       " Row(clage_vacsi=79, n_cum_dose1=5),\n",
       " Row(clage_vacsi=79, n_cum_dose1=9),\n",
       " Row(clage_vacsi=79, n_cum_dose1=10),\n",
       " Row(clage_vacsi=79, n_cum_dose1=47),\n",
       " Row(clage_vacsi=79, n_cum_dose1=55),\n",
       " Row(clage_vacsi=79, n_cum_dose1=56),\n",
       " Row(clage_vacsi=79, n_cum_dose1=61),\n",
       " Row(clage_vacsi=79, n_cum_dose1=67),\n",
       " Row(clage_vacsi=79, n_cum_dose1=108),\n",
       " Row(clage_vacsi=79, n_cum_dose1=252),\n",
       " Row(clage_vacsi=79, n_cum_dose1=401),\n",
       " Row(clage_vacsi=79, n_cum_dose1=571),\n",
       " Row(clage_vacsi=79, n_cum_dose1=747),\n",
       " Row(clage_vacsi=79, n_cum_dose1=760),\n",
       " Row(clage_vacsi=79, n_cum_dose1=821),\n",
       " Row(clage_vacsi=79, n_cum_dose1=1021),\n",
       " Row(clage_vacsi=79, n_cum_dose1=1143),\n",
       " Row(clage_vacsi=79, n_cum_dose1=1332),\n",
       " Row(clage_vacsi=79, n_cum_dose1=1436),\n",
       " Row(clage_vacsi=79, n_cum_dose1=1447),\n",
       " Row(clage_vacsi=79, n_cum_dose1=1499),\n",
       " Row(clage_vacsi=79, n_cum_dose1=1644),\n",
       " Row(clage_vacsi=80, n_cum_dose1=25),\n",
       " Row(clage_vacsi=80, n_cum_dose1=61),\n",
       " Row(clage_vacsi=80, n_cum_dose1=91),\n",
       " Row(clage_vacsi=80, n_cum_dose1=116),\n",
       " Row(clage_vacsi=80, n_cum_dose1=306),\n",
       " Row(clage_vacsi=80, n_cum_dose1=397),\n",
       " Row(clage_vacsi=80, n_cum_dose1=415),\n",
       " Row(clage_vacsi=80, n_cum_dose1=440),\n",
       " Row(clage_vacsi=80, n_cum_dose1=455),\n",
       " Row(clage_vacsi=80, n_cum_dose1=462),\n",
       " Row(clage_vacsi=80, n_cum_dose1=566),\n",
       " Row(clage_vacsi=80, n_cum_dose1=749),\n",
       " Row(clage_vacsi=80, n_cum_dose1=1004),\n",
       " Row(clage_vacsi=80, n_cum_dose1=1264),\n",
       " Row(clage_vacsi=80, n_cum_dose1=1561),\n",
       " Row(clage_vacsi=80, n_cum_dose1=1594),\n",
       " Row(clage_vacsi=80, n_cum_dose1=1705),\n",
       " Row(clage_vacsi=80, n_cum_dose1=2017),\n",
       " ...]"
      ]
     },
     "execution_count": 19,
     "metadata": {},
     "output_type": "execute_result"
    }
   ],
   "source": [
    "newvacc = vacc.select([\"clage_vacsi\", \"n_cum_dose1\"])\n",
    "\n",
    "newvacc.collect()"
   ]
  },
  {
   "cell_type": "code",
   "execution_count": 30,
   "metadata": {},
   "outputs": [
    {
     "data": {
      "text/plain": [
       "[Row(clage_vacsi=24, max(n_cum_dose1)=325),\n",
       " Row(clage_vacsi=29, max(n_cum_dose1)=809),\n",
       " Row(clage_vacsi=39, max(n_cum_dose1)=2218),\n",
       " Row(clage_vacsi=49, max(n_cum_dose1)=3169),\n",
       " Row(clage_vacsi=59, max(n_cum_dose1)=9925),\n",
       " Row(clage_vacsi=64, max(n_cum_dose1)=4356),\n",
       " Row(clage_vacsi=69, max(n_cum_dose1)=3364),\n",
       " Row(clage_vacsi=74, max(n_cum_dose1)=3636),\n",
       " Row(clage_vacsi=79, max(n_cum_dose1)=9318),\n",
       " Row(clage_vacsi=80, max(n_cum_dose1)=17667)]"
      ]
     },
     "execution_count": 30,
     "metadata": {},
     "output_type": "execute_result"
    }
   ],
   "source": [
    "newvacc.where( newvacc.clage_vacsi != \"0\").groupBy(\"clage_vacsi\").agg({\"n_cum_dose1\" : \"max\"}).sort([\"clage_vacsi\"]).collect()"
   ]
  },
  {
   "cell_type": "markdown",
   "metadata": {},
   "source": [
    "\n",
    "## 4.4) Union de dataframe"
   ]
  },
  {
   "cell_type": "markdown",
   "metadata": {},
   "source": [
    "#### Ajouter les colonnes les unes à côté des autres : join"
   ]
  },
  {
   "cell_type": "code",
   "execution_count": 91,
   "metadata": {
    "scrolled": false
   },
   "outputs": [
    {
     "name": "stdout",
     "output_type": "stream",
     "text": [
      "root\n",
      " |-- id: integer (nullable = true)\n",
      " |-- vitesse_a_pied: double (nullable = true)\n",
      " |-- vitesse_a_velo: double (nullable = true)\n",
      " |-- home: string (nullable = true)\n",
      " |-- travail: string (nullable = true)\n",
      " |-- sportif: boolean (nullable = true)\n",
      " |-- casseur: boolean (nullable = true)\n",
      " |-- statut: string (nullable = true)\n",
      " |-- salaire: double (nullable = true)\n",
      " |-- sexe: string (nullable = true)\n",
      " |-- age: integer (nullable = true)\n",
      " |-- sportivite: double (nullable = true)\n",
      " |-- velo_perf_minimale: double (nullable = true)\n",
      " |-- vitesse_a_pied: double (nullable = true)\n",
      " |-- vitesse_a_velo: double (nullable = true)\n",
      " |-- home: string (nullable = true)\n",
      " |-- travail: string (nullable = true)\n",
      " |-- sportif: boolean (nullable = true)\n",
      " |-- casseur: boolean (nullable = true)\n",
      " |-- statut: string (nullable = true)\n",
      " |-- salaire: double (nullable = true)\n",
      " |-- sexe: string (nullable = true)\n",
      " |-- age: integer (nullable = true)\n",
      " |-- sportivite: double (nullable = true)\n",
      " |-- velo_perf_minimale: double (nullable = true)\n",
      "\n"
     ]
    }
   ],
   "source": [
    "villes.join(villes, on=\"id\").printSchema()"
   ]
  },
  {
   "cell_type": "markdown",
   "metadata": {},
   "source": [
    "#### Ajouter les lignes les unes sous les autres : union"
   ]
  },
  {
   "cell_type": "code",
   "execution_count": 89,
   "metadata": {
    "scrolled": true
   },
   "outputs": [
    {
     "data": {
      "text/plain": [
       "2166"
      ]
     },
     "execution_count": 89,
     "metadata": {},
     "output_type": "execute_result"
    }
   ],
   "source": [
    "villes.unionByName(villes).count()"
   ]
  },
  {
   "cell_type": "markdown",
   "metadata": {},
   "source": [
    "## 4.6) Concaténation de colonne : F.concat"
   ]
  },
  {
   "cell_type": "code",
   "execution_count": 90,
   "metadata": {},
   "outputs": [],
   "source": [
    "from pyspark.sql.types import *\n",
    "from pyspark.sql import functions as F"
   ]
  },
  {
   "cell_type": "markdown",
   "metadata": {},
   "source": [
    "Nous allons ici reprendre le df cyclistes.\n",
    "\n",
    "Utiliser les méthodes withColumn() et F.concat() pour ajouter une colonne au df qui contiendra la concatenation des valeurs des colonnes id et sur_velo. "
   ]
  },
  {
   "cell_type": "code",
   "execution_count": 71,
   "metadata": {
    "scrolled": true
   },
   "outputs": [
    {
     "name": "stderr",
     "output_type": "stream",
     "text": [
      "ERROR:py4j.java_gateway:An error occurred while trying to connect to the Java server (127.0.0.1:33735)\n",
      "Traceback (most recent call last):\n",
      "  File \"/usr/local/spark/python/lib/py4j-0.10.9-src.zip/py4j/java_gateway.py\", line 977, in _get_connection\n",
      "    connection = self.deque.pop()\n",
      "IndexError: pop from an empty deque\n",
      "\n",
      "During handling of the above exception, another exception occurred:\n",
      "\n",
      "Traceback (most recent call last):\n",
      "  File \"/usr/local/spark/python/lib/py4j-0.10.9-src.zip/py4j/java_gateway.py\", line 1115, in start\n",
      "    self.socket.connect((self.address, self.port))\n",
      "ConnectionRefusedError: [Errno 111] Connection refused\n"
     ]
    },
    {
     "ename": "Py4JNetworkError",
     "evalue": "An error occurred while trying to connect to the Java server (127.0.0.1:33735)",
     "output_type": "error",
     "traceback": [
      "\u001b[0;31m---------------------------------------------------------------------------\u001b[0m",
      "\u001b[0;31mIndexError\u001b[0m                                Traceback (most recent call last)",
      "\u001b[0;32m/usr/local/spark/python/lib/py4j-0.10.9-src.zip/py4j/java_gateway.py\u001b[0m in \u001b[0;36m_get_connection\u001b[0;34m(self)\u001b[0m\n\u001b[1;32m    976\u001b[0m         \u001b[0;32mtry\u001b[0m\u001b[0;34m:\u001b[0m\u001b[0;34m\u001b[0m\u001b[0;34m\u001b[0m\u001b[0m\n\u001b[0;32m--> 977\u001b[0;31m             \u001b[0mconnection\u001b[0m \u001b[0;34m=\u001b[0m \u001b[0mself\u001b[0m\u001b[0;34m.\u001b[0m\u001b[0mdeque\u001b[0m\u001b[0;34m.\u001b[0m\u001b[0mpop\u001b[0m\u001b[0;34m(\u001b[0m\u001b[0;34m)\u001b[0m\u001b[0;34m\u001b[0m\u001b[0;34m\u001b[0m\u001b[0m\n\u001b[0m\u001b[1;32m    978\u001b[0m         \u001b[0;32mexcept\u001b[0m \u001b[0mIndexError\u001b[0m\u001b[0;34m:\u001b[0m\u001b[0;34m\u001b[0m\u001b[0;34m\u001b[0m\u001b[0m\n",
      "\u001b[0;31mIndexError\u001b[0m: pop from an empty deque",
      "\nDuring handling of the above exception, another exception occurred:\n",
      "\u001b[0;31mConnectionRefusedError\u001b[0m                    Traceback (most recent call last)",
      "\u001b[0;32m/usr/local/spark/python/lib/py4j-0.10.9-src.zip/py4j/java_gateway.py\u001b[0m in \u001b[0;36mstart\u001b[0;34m(self)\u001b[0m\n\u001b[1;32m   1114\u001b[0m         \u001b[0;32mtry\u001b[0m\u001b[0;34m:\u001b[0m\u001b[0;34m\u001b[0m\u001b[0;34m\u001b[0m\u001b[0m\n\u001b[0;32m-> 1115\u001b[0;31m             \u001b[0mself\u001b[0m\u001b[0;34m.\u001b[0m\u001b[0msocket\u001b[0m\u001b[0;34m.\u001b[0m\u001b[0mconnect\u001b[0m\u001b[0;34m(\u001b[0m\u001b[0;34m(\u001b[0m\u001b[0mself\u001b[0m\u001b[0;34m.\u001b[0m\u001b[0maddress\u001b[0m\u001b[0;34m,\u001b[0m \u001b[0mself\u001b[0m\u001b[0;34m.\u001b[0m\u001b[0mport\u001b[0m\u001b[0;34m)\u001b[0m\u001b[0;34m)\u001b[0m\u001b[0;34m\u001b[0m\u001b[0;34m\u001b[0m\u001b[0m\n\u001b[0m\u001b[1;32m   1116\u001b[0m             \u001b[0mself\u001b[0m\u001b[0;34m.\u001b[0m\u001b[0mstream\u001b[0m \u001b[0;34m=\u001b[0m \u001b[0mself\u001b[0m\u001b[0;34m.\u001b[0m\u001b[0msocket\u001b[0m\u001b[0;34m.\u001b[0m\u001b[0mmakefile\u001b[0m\u001b[0;34m(\u001b[0m\u001b[0;34m\"rb\"\u001b[0m\u001b[0;34m)\u001b[0m\u001b[0;34m\u001b[0m\u001b[0;34m\u001b[0m\u001b[0m\n",
      "\u001b[0;31mConnectionRefusedError\u001b[0m: [Errno 111] Connection refused",
      "\nDuring handling of the above exception, another exception occurred:\n",
      "\u001b[0;31mPy4JNetworkError\u001b[0m                          Traceback (most recent call last)",
      "\u001b[0;32m<ipython-input-71-f323a4efc6ba>\u001b[0m in \u001b[0;36m<module>\u001b[0;34m\u001b[0m\n\u001b[1;32m      1\u001b[0m \u001b[0mpath\u001b[0m \u001b[0;34m=\u001b[0m \u001b[0;34m\"./data/Cyclistes/*.csv\"\u001b[0m\u001b[0;34m\u001b[0m\u001b[0;34m\u001b[0m\u001b[0m\n\u001b[0;32m----> 2\u001b[0;31m \u001b[0mcyclistes\u001b[0m \u001b[0;34m=\u001b[0m \u001b[0mspark\u001b[0m\u001b[0;34m.\u001b[0m\u001b[0mread\u001b[0m\u001b[0;34m.\u001b[0m\u001b[0mformat\u001b[0m\u001b[0;34m(\u001b[0m\u001b[0;34m\"csv\"\u001b[0m\u001b[0;34m)\u001b[0m\u001b[0;34m.\u001b[0m\u001b[0moption\u001b[0m\u001b[0;34m(\u001b[0m\u001b[0;34m\"header\"\u001b[0m\u001b[0;34m,\u001b[0m \u001b[0;34m\"true\"\u001b[0m\u001b[0;34m)\u001b[0m\u001b[0;34m.\u001b[0m\u001b[0mload\u001b[0m\u001b[0;34m(\u001b[0m\u001b[0mpath\u001b[0m\u001b[0;34m,\u001b[0m \u001b[0minferSchema\u001b[0m\u001b[0;34m=\u001b[0m\u001b[0;32mTrue\u001b[0m\u001b[0;34m)\u001b[0m\u001b[0;34m\u001b[0m\u001b[0;34m\u001b[0m\u001b[0m\n\u001b[0m\u001b[1;32m      3\u001b[0m \u001b[0mcyclistes\u001b[0m\u001b[0;34m.\u001b[0m\u001b[0mcount\u001b[0m\u001b[0;34m(\u001b[0m\u001b[0;34m)\u001b[0m\u001b[0;34m\u001b[0m\u001b[0;34m\u001b[0m\u001b[0m\n",
      "\u001b[0;32m/usr/local/spark/python/pyspark/sql/session.py\u001b[0m in \u001b[0;36mread\u001b[0;34m(self)\u001b[0m\n\u001b[1;32m    671\u001b[0m         \u001b[0;34m:\u001b[0m\u001b[0;32mreturn\u001b[0m\u001b[0;34m:\u001b[0m \u001b[0;34m:\u001b[0m\u001b[0;32mclass\u001b[0m\u001b[0;34m:\u001b[0m\u001b[0;31m`\u001b[0m\u001b[0mDataFrameReader\u001b[0m\u001b[0;31m`\u001b[0m\u001b[0;34m\u001b[0m\u001b[0;34m\u001b[0m\u001b[0m\n\u001b[1;32m    672\u001b[0m         \"\"\"\n\u001b[0;32m--> 673\u001b[0;31m         \u001b[0;32mreturn\u001b[0m \u001b[0mDataFrameReader\u001b[0m\u001b[0;34m(\u001b[0m\u001b[0mself\u001b[0m\u001b[0;34m.\u001b[0m\u001b[0m_wrapped\u001b[0m\u001b[0;34m)\u001b[0m\u001b[0;34m\u001b[0m\u001b[0;34m\u001b[0m\u001b[0m\n\u001b[0m\u001b[1;32m    674\u001b[0m \u001b[0;34m\u001b[0m\u001b[0m\n\u001b[1;32m    675\u001b[0m     \u001b[0;34m@\u001b[0m\u001b[0mproperty\u001b[0m\u001b[0;34m\u001b[0m\u001b[0;34m\u001b[0m\u001b[0m\n",
      "\u001b[0;32m/usr/local/spark/python/pyspark/sql/readwriter.py\u001b[0m in \u001b[0;36m__init__\u001b[0;34m(self, spark)\u001b[0m\n\u001b[1;32m     56\u001b[0m \u001b[0;34m\u001b[0m\u001b[0m\n\u001b[1;32m     57\u001b[0m     \u001b[0;32mdef\u001b[0m \u001b[0m__init__\u001b[0m\u001b[0;34m(\u001b[0m\u001b[0mself\u001b[0m\u001b[0;34m,\u001b[0m \u001b[0mspark\u001b[0m\u001b[0;34m)\u001b[0m\u001b[0;34m:\u001b[0m\u001b[0;34m\u001b[0m\u001b[0;34m\u001b[0m\u001b[0m\n\u001b[0;32m---> 58\u001b[0;31m         \u001b[0mself\u001b[0m\u001b[0;34m.\u001b[0m\u001b[0m_jreader\u001b[0m \u001b[0;34m=\u001b[0m \u001b[0mspark\u001b[0m\u001b[0;34m.\u001b[0m\u001b[0m_ssql_ctx\u001b[0m\u001b[0;34m.\u001b[0m\u001b[0mread\u001b[0m\u001b[0;34m(\u001b[0m\u001b[0;34m)\u001b[0m\u001b[0;34m\u001b[0m\u001b[0;34m\u001b[0m\u001b[0m\n\u001b[0m\u001b[1;32m     59\u001b[0m         \u001b[0mself\u001b[0m\u001b[0;34m.\u001b[0m\u001b[0m_spark\u001b[0m \u001b[0;34m=\u001b[0m \u001b[0mspark\u001b[0m\u001b[0;34m\u001b[0m\u001b[0;34m\u001b[0m\u001b[0m\n\u001b[1;32m     60\u001b[0m \u001b[0;34m\u001b[0m\u001b[0m\n",
      "\u001b[0;32m/usr/local/spark/python/lib/py4j-0.10.9-src.zip/py4j/java_gateway.py\u001b[0m in \u001b[0;36m__call__\u001b[0;34m(self, *args)\u001b[0m\n\u001b[1;32m   1301\u001b[0m             \u001b[0mproto\u001b[0m\u001b[0;34m.\u001b[0m\u001b[0mEND_COMMAND_PART\u001b[0m\u001b[0;34m\u001b[0m\u001b[0;34m\u001b[0m\u001b[0m\n\u001b[1;32m   1302\u001b[0m \u001b[0;34m\u001b[0m\u001b[0m\n\u001b[0;32m-> 1303\u001b[0;31m         \u001b[0manswer\u001b[0m \u001b[0;34m=\u001b[0m \u001b[0mself\u001b[0m\u001b[0;34m.\u001b[0m\u001b[0mgateway_client\u001b[0m\u001b[0;34m.\u001b[0m\u001b[0msend_command\u001b[0m\u001b[0;34m(\u001b[0m\u001b[0mcommand\u001b[0m\u001b[0;34m)\u001b[0m\u001b[0;34m\u001b[0m\u001b[0;34m\u001b[0m\u001b[0m\n\u001b[0m\u001b[1;32m   1304\u001b[0m         return_value = get_return_value(\n\u001b[1;32m   1305\u001b[0m             answer, self.gateway_client, self.target_id, self.name)\n",
      "\u001b[0;32m/usr/local/spark/python/lib/py4j-0.10.9-src.zip/py4j/java_gateway.py\u001b[0m in \u001b[0;36msend_command\u001b[0;34m(self, command, retry, binary)\u001b[0m\n\u001b[1;32m   1029\u001b[0m          \u001b[0;32mif\u001b[0m\u001b[0;31m \u001b[0m\u001b[0;31m`\u001b[0m\u001b[0mbinary\u001b[0m\u001b[0;31m`\u001b[0m \u001b[0;32mis\u001b[0m\u001b[0;31m \u001b[0m\u001b[0;31m`\u001b[0m\u001b[0;32mTrue\u001b[0m\u001b[0;31m`\u001b[0m\u001b[0;34m.\u001b[0m\u001b[0;34m\u001b[0m\u001b[0;34m\u001b[0m\u001b[0m\n\u001b[1;32m   1030\u001b[0m         \"\"\"\n\u001b[0;32m-> 1031\u001b[0;31m         \u001b[0mconnection\u001b[0m \u001b[0;34m=\u001b[0m \u001b[0mself\u001b[0m\u001b[0;34m.\u001b[0m\u001b[0m_get_connection\u001b[0m\u001b[0;34m(\u001b[0m\u001b[0;34m)\u001b[0m\u001b[0;34m\u001b[0m\u001b[0;34m\u001b[0m\u001b[0m\n\u001b[0m\u001b[1;32m   1032\u001b[0m         \u001b[0;32mtry\u001b[0m\u001b[0;34m:\u001b[0m\u001b[0;34m\u001b[0m\u001b[0;34m\u001b[0m\u001b[0m\n\u001b[1;32m   1033\u001b[0m             \u001b[0mresponse\u001b[0m \u001b[0;34m=\u001b[0m \u001b[0mconnection\u001b[0m\u001b[0;34m.\u001b[0m\u001b[0msend_command\u001b[0m\u001b[0;34m(\u001b[0m\u001b[0mcommand\u001b[0m\u001b[0;34m)\u001b[0m\u001b[0;34m\u001b[0m\u001b[0;34m\u001b[0m\u001b[0m\n",
      "\u001b[0;32m/usr/local/spark/python/lib/py4j-0.10.9-src.zip/py4j/java_gateway.py\u001b[0m in \u001b[0;36m_get_connection\u001b[0;34m(self)\u001b[0m\n\u001b[1;32m    977\u001b[0m             \u001b[0mconnection\u001b[0m \u001b[0;34m=\u001b[0m \u001b[0mself\u001b[0m\u001b[0;34m.\u001b[0m\u001b[0mdeque\u001b[0m\u001b[0;34m.\u001b[0m\u001b[0mpop\u001b[0m\u001b[0;34m(\u001b[0m\u001b[0;34m)\u001b[0m\u001b[0;34m\u001b[0m\u001b[0;34m\u001b[0m\u001b[0m\n\u001b[1;32m    978\u001b[0m         \u001b[0;32mexcept\u001b[0m \u001b[0mIndexError\u001b[0m\u001b[0;34m:\u001b[0m\u001b[0;34m\u001b[0m\u001b[0;34m\u001b[0m\u001b[0m\n\u001b[0;32m--> 979\u001b[0;31m             \u001b[0mconnection\u001b[0m \u001b[0;34m=\u001b[0m \u001b[0mself\u001b[0m\u001b[0;34m.\u001b[0m\u001b[0m_create_connection\u001b[0m\u001b[0;34m(\u001b[0m\u001b[0;34m)\u001b[0m\u001b[0;34m\u001b[0m\u001b[0;34m\u001b[0m\u001b[0m\n\u001b[0m\u001b[1;32m    980\u001b[0m         \u001b[0;32mreturn\u001b[0m \u001b[0mconnection\u001b[0m\u001b[0;34m\u001b[0m\u001b[0;34m\u001b[0m\u001b[0m\n\u001b[1;32m    981\u001b[0m \u001b[0;34m\u001b[0m\u001b[0m\n",
      "\u001b[0;32m/usr/local/spark/python/lib/py4j-0.10.9-src.zip/py4j/java_gateway.py\u001b[0m in \u001b[0;36m_create_connection\u001b[0;34m(self)\u001b[0m\n\u001b[1;32m    983\u001b[0m         connection = GatewayConnection(\n\u001b[1;32m    984\u001b[0m             self.gateway_parameters, self.gateway_property)\n\u001b[0;32m--> 985\u001b[0;31m         \u001b[0mconnection\u001b[0m\u001b[0;34m.\u001b[0m\u001b[0mstart\u001b[0m\u001b[0;34m(\u001b[0m\u001b[0;34m)\u001b[0m\u001b[0;34m\u001b[0m\u001b[0;34m\u001b[0m\u001b[0m\n\u001b[0m\u001b[1;32m    986\u001b[0m         \u001b[0;32mreturn\u001b[0m \u001b[0mconnection\u001b[0m\u001b[0;34m\u001b[0m\u001b[0;34m\u001b[0m\u001b[0m\n\u001b[1;32m    987\u001b[0m \u001b[0;34m\u001b[0m\u001b[0m\n",
      "\u001b[0;32m/usr/local/spark/python/lib/py4j-0.10.9-src.zip/py4j/java_gateway.py\u001b[0m in \u001b[0;36mstart\u001b[0;34m(self)\u001b[0m\n\u001b[1;32m   1125\u001b[0m                 \u001b[0;34m\"server ({0}:{1})\"\u001b[0m\u001b[0;34m.\u001b[0m\u001b[0mformat\u001b[0m\u001b[0;34m(\u001b[0m\u001b[0mself\u001b[0m\u001b[0;34m.\u001b[0m\u001b[0maddress\u001b[0m\u001b[0;34m,\u001b[0m \u001b[0mself\u001b[0m\u001b[0;34m.\u001b[0m\u001b[0mport\u001b[0m\u001b[0;34m)\u001b[0m\u001b[0;34m\u001b[0m\u001b[0;34m\u001b[0m\u001b[0m\n\u001b[1;32m   1126\u001b[0m             \u001b[0mlogger\u001b[0m\u001b[0;34m.\u001b[0m\u001b[0mexception\u001b[0m\u001b[0;34m(\u001b[0m\u001b[0mmsg\u001b[0m\u001b[0;34m)\u001b[0m\u001b[0;34m\u001b[0m\u001b[0;34m\u001b[0m\u001b[0m\n\u001b[0;32m-> 1127\u001b[0;31m             \u001b[0;32mraise\u001b[0m \u001b[0mPy4JNetworkError\u001b[0m\u001b[0;34m(\u001b[0m\u001b[0mmsg\u001b[0m\u001b[0;34m,\u001b[0m \u001b[0me\u001b[0m\u001b[0;34m)\u001b[0m\u001b[0;34m\u001b[0m\u001b[0;34m\u001b[0m\u001b[0m\n\u001b[0m\u001b[1;32m   1128\u001b[0m \u001b[0;34m\u001b[0m\u001b[0m\n\u001b[1;32m   1129\u001b[0m     \u001b[0;32mdef\u001b[0m \u001b[0m_authenticate_connection\u001b[0m\u001b[0;34m(\u001b[0m\u001b[0mself\u001b[0m\u001b[0;34m)\u001b[0m\u001b[0;34m:\u001b[0m\u001b[0;34m\u001b[0m\u001b[0;34m\u001b[0m\u001b[0m\n",
      "\u001b[0;31mPy4JNetworkError\u001b[0m: An error occurred while trying to connect to the Java server (127.0.0.1:33735)"
     ]
    }
   ],
   "source": [
    "path = \"./data/Cyclistes/*.csv\" \n",
    "cyclistes = spark.read.format(\"csv\").option(\"header\", \"true\").load(path, inferSchema=True)\n",
    "cyclistes.count()"
   ]
  },
  {
   "cell_type": "code",
   "execution_count": null,
   "metadata": {
    "scrolled": true
   },
   "outputs": [],
   "source": [
    "cyclistes.take(10)"
   ]
  },
  {
   "cell_type": "code",
   "execution_count": null,
   "metadata": {},
   "outputs": [],
   "source": [
    "cyclistes.withColumn(\"id_sur_velo\", F.concat(cyclistes.id, cyclistes.sur_velo)).first()"
   ]
  },
  {
   "cell_type": "markdown",
   "metadata": {},
   "source": [
    "# 5) Fonctions udf \n",
    "Il est possible d'enregistrer des fonctions python que l'on écrit nous même pour les appliquer sur une colonne d'une dataframe, c'est ce qu'on appelle les udf, pour User Defined Functions.\n",
    "\n",
    "Voici une fonction qui prend en argument une colonne et calcule le carré des valeurs de cette colonne.\n",
    "Appliquez cette fonction sur la colonne salaire de votre df. Affichez le résultat."
   ]
  },
  {
   "cell_type": "code",
   "execution_count": 94,
   "metadata": {},
   "outputs": [],
   "source": [
    "from pyspark.sql.types import *\n",
    "from pyspark.sql.functions import udf\n",
    "\n",
    "@udf(returnType = FloatType())\n",
    "def cube(colonne):\n",
    "    return colonne*colonne"
   ]
  },
  {
   "cell_type": "code",
   "execution_count": 95,
   "metadata": {},
   "outputs": [
    {
     "data": {
      "text/plain": [
       "[Row(cube(salaire)=888076352.0),\n",
       " Row(cube(salaire)=556744960.0),\n",
       " Row(cube(salaire)=343366368.0),\n",
       " Row(cube(salaire)=360908928.0),\n",
       " Row(cube(salaire)=557832576.0),\n",
       " Row(cube(salaire)=364134528.0),\n",
       " Row(cube(salaire)=474496704.0),\n",
       " Row(cube(salaire)=1718207872.0),\n",
       " Row(cube(salaire)=485108160.0),\n",
       " Row(cube(salaire)=1460085376.0),\n",
       " Row(cube(salaire)=1048725888.0),\n",
       " Row(cube(salaire)=329618272.0),\n",
       " Row(cube(salaire)=1188845696.0),\n",
       " Row(cube(salaire)=320207488.0),\n",
       " Row(cube(salaire)=233253728.0),\n",
       " Row(cube(salaire)=1045899648.0),\n",
       " Row(cube(salaire)=920079808.0),\n",
       " Row(cube(salaire)=122538472.0),\n",
       " Row(cube(salaire)=1059024960.0),\n",
       " Row(cube(salaire)=977491776.0),\n",
       " Row(cube(salaire)=1613683072.0),\n",
       " Row(cube(salaire)=392603904.0),\n",
       " Row(cube(salaire)=931271424.0),\n",
       " Row(cube(salaire)=962134912.0),\n",
       " Row(cube(salaire)=1543054848.0),\n",
       " Row(cube(salaire)=472498304.0),\n",
       " Row(cube(salaire)=625677888.0),\n",
       " Row(cube(salaire)=335133184.0),\n",
       " Row(cube(salaire)=911823744.0),\n",
       " Row(cube(salaire)=585660096.0),\n",
       " Row(cube(salaire)=148055072.0),\n",
       " Row(cube(salaire)=324406080.0),\n",
       " Row(cube(salaire)=583520000.0),\n",
       " Row(cube(salaire)=351186240.0),\n",
       " Row(cube(salaire)=1718414976.0),\n",
       " Row(cube(salaire)=290498624.0),\n",
       " Row(cube(salaire)=289398592.0),\n",
       " Row(cube(salaire)=715933568.0),\n",
       " Row(cube(salaire)=277056288.0),\n",
       " Row(cube(salaire)=362446336.0),\n",
       " Row(cube(salaire)=260361488.0),\n",
       " Row(cube(salaire)=636708096.0),\n",
       " Row(cube(salaire)=647693312.0),\n",
       " Row(cube(salaire)=535076960.0),\n",
       " Row(cube(salaire)=322203232.0),\n",
       " Row(cube(salaire)=3245461248.0),\n",
       " Row(cube(salaire)=704051200.0),\n",
       " Row(cube(salaire)=666122176.0),\n",
       " Row(cube(salaire)=597212160.0),\n",
       " Row(cube(salaire)=1210287360.0),\n",
       " Row(cube(salaire)=1390442368.0),\n",
       " Row(cube(salaire)=1036803712.0),\n",
       " Row(cube(salaire)=536019488.0),\n",
       " Row(cube(salaire)=209460512.0),\n",
       " Row(cube(salaire)=293625376.0),\n",
       " Row(cube(salaire)=846198912.0),\n",
       " Row(cube(salaire)=241204416.0),\n",
       " Row(cube(salaire)=381980160.0),\n",
       " Row(cube(salaire)=568321536.0),\n",
       " Row(cube(salaire)=367506880.0),\n",
       " Row(cube(salaire)=927722880.0),\n",
       " Row(cube(salaire)=449307936.0),\n",
       " Row(cube(salaire)=1018194624.0),\n",
       " Row(cube(salaire)=657389632.0),\n",
       " Row(cube(salaire)=2060811392.0),\n",
       " Row(cube(salaire)=25827426.0),\n",
       " Row(cube(salaire)=1417769600.0),\n",
       " Row(cube(salaire)=202998128.0),\n",
       " Row(cube(salaire)=1666156032.0),\n",
       " Row(cube(salaire)=294141504.0),\n",
       " Row(cube(salaire)=427133632.0),\n",
       " Row(cube(salaire)=834317696.0),\n",
       " Row(cube(salaire)=897682176.0),\n",
       " Row(cube(salaire)=269384640.0),\n",
       " Row(cube(salaire)=1294273152.0),\n",
       " Row(cube(salaire)=709670400.0),\n",
       " Row(cube(salaire)=348836480.0),\n",
       " Row(cube(salaire)=3106695936.0),\n",
       " Row(cube(salaire)=1072561344.0),\n",
       " Row(cube(salaire)=1217375872.0),\n",
       " Row(cube(salaire)=1332029952.0),\n",
       " Row(cube(salaire)=1815494016.0),\n",
       " Row(cube(salaire)=201196864.0),\n",
       " Row(cube(salaire)=2023206784.0),\n",
       " Row(cube(salaire)=1501929856.0),\n",
       " Row(cube(salaire)=121846424.0),\n",
       " Row(cube(salaire)=284381856.0),\n",
       " Row(cube(salaire)=751708224.0),\n",
       " Row(cube(salaire)=248096512.0),\n",
       " Row(cube(salaire)=1011652480.0),\n",
       " Row(cube(salaire)=400720480.0),\n",
       " Row(cube(salaire)=708493824.0),\n",
       " Row(cube(salaire)=1252973440.0),\n",
       " Row(cube(salaire)=1360027136.0),\n",
       " Row(cube(salaire)=611228480.0),\n",
       " Row(cube(salaire)=308670848.0),\n",
       " Row(cube(salaire)=448852032.0),\n",
       " Row(cube(salaire)=422037376.0),\n",
       " Row(cube(salaire)=325379296.0),\n",
       " Row(cube(salaire)=1162533376.0),\n",
       " Row(cube(salaire)=379100032.0),\n",
       " Row(cube(salaire)=1106113280.0),\n",
       " Row(cube(salaire)=414007616.0),\n",
       " Row(cube(salaire)=475249856.0),\n",
       " Row(cube(salaire)=1036434432.0),\n",
       " Row(cube(salaire)=162080736.0),\n",
       " Row(cube(salaire)=1326676736.0),\n",
       " Row(cube(salaire)=528717152.0),\n",
       " Row(cube(salaire)=282313696.0),\n",
       " Row(cube(salaire)=264752304.0),\n",
       " Row(cube(salaire)=360553280.0),\n",
       " Row(cube(salaire)=414281984.0),\n",
       " Row(cube(salaire)=603117056.0),\n",
       " Row(cube(salaire)=210170624.0),\n",
       " Row(cube(salaire)=929835328.0),\n",
       " Row(cube(salaire)=455149440.0),\n",
       " Row(cube(salaire)=456161472.0),\n",
       " Row(cube(salaire)=312307072.0),\n",
       " Row(cube(salaire)=568946112.0),\n",
       " Row(cube(salaire)=261522576.0),\n",
       " Row(cube(salaire)=112449744.0),\n",
       " Row(cube(salaire)=221150512.0),\n",
       " Row(cube(salaire)=509003744.0),\n",
       " Row(cube(salaire)=556474112.0),\n",
       " Row(cube(salaire)=54646248.0),\n",
       " Row(cube(salaire)=153396592.0),\n",
       " Row(cube(salaire)=117312440.0),\n",
       " Row(cube(salaire)=290254656.0),\n",
       " Row(cube(salaire)=385670400.0),\n",
       " Row(cube(salaire)=888584384.0),\n",
       " Row(cube(salaire)=384991680.0),\n",
       " Row(cube(salaire)=412695488.0),\n",
       " Row(cube(salaire)=648303808.0),\n",
       " Row(cube(salaire)=400768096.0),\n",
       " Row(cube(salaire)=574331072.0),\n",
       " Row(cube(salaire)=595561664.0),\n",
       " Row(cube(salaire)=774825024.0),\n",
       " Row(cube(salaire)=932688832.0),\n",
       " Row(cube(salaire)=302267232.0),\n",
       " Row(cube(salaire)=383455936.0),\n",
       " Row(cube(salaire)=539182144.0),\n",
       " Row(cube(salaire)=903875136.0),\n",
       " Row(cube(salaire)=630353280.0),\n",
       " Row(cube(salaire)=207744368.0),\n",
       " Row(cube(salaire)=180081824.0),\n",
       " Row(cube(salaire)=588379968.0),\n",
       " Row(cube(salaire)=475183328.0),\n",
       " Row(cube(salaire)=4291207168.0),\n",
       " Row(cube(salaire)=535135904.0),\n",
       " Row(cube(salaire)=339370080.0),\n",
       " Row(cube(salaire)=388372320.0),\n",
       " Row(cube(salaire)=907087872.0),\n",
       " Row(cube(salaire)=455988320.0),\n",
       " Row(cube(salaire)=785426880.0),\n",
       " Row(cube(salaire)=550595392.0),\n",
       " Row(cube(salaire)=1087721984.0),\n",
       " Row(cube(salaire)=930898432.0),\n",
       " Row(cube(salaire)=612726016.0),\n",
       " Row(cube(salaire)=456084480.0),\n",
       " Row(cube(salaire)=931142336.0),\n",
       " Row(cube(salaire)=499151552.0),\n",
       " Row(cube(salaire)=824418560.0),\n",
       " Row(cube(salaire)=862929024.0),\n",
       " Row(cube(salaire)=265618704.0),\n",
       " Row(cube(salaire)=168871120.0),\n",
       " Row(cube(salaire)=880964672.0),\n",
       " Row(cube(salaire)=548592768.0),\n",
       " Row(cube(salaire)=420527680.0),\n",
       " Row(cube(salaire)=1518471936.0),\n",
       " Row(cube(salaire)=322492832.0),\n",
       " Row(cube(salaire)=382345280.0),\n",
       " Row(cube(salaire)=577895296.0),\n",
       " Row(cube(salaire)=711544320.0),\n",
       " Row(cube(salaire)=345962880.0),\n",
       " Row(cube(salaire)=853813376.0),\n",
       " Row(cube(salaire)=324188160.0),\n",
       " Row(cube(salaire)=227544448.0),\n",
       " Row(cube(salaire)=771792896.0),\n",
       " Row(cube(salaire)=334578496.0),\n",
       " Row(cube(salaire)=696795968.0),\n",
       " Row(cube(salaire)=443562336.0),\n",
       " Row(cube(salaire)=839709504.0),\n",
       " Row(cube(salaire)=288254048.0),\n",
       " Row(cube(salaire)=1005280896.0),\n",
       " Row(cube(salaire)=1691810688.0),\n",
       " Row(cube(salaire)=497380576.0),\n",
       " Row(cube(salaire)=510652192.0),\n",
       " Row(cube(salaire)=961469568.0),\n",
       " Row(cube(salaire)=814074944.0),\n",
       " Row(cube(salaire)=2937529856.0),\n",
       " Row(cube(salaire)=438668096.0),\n",
       " Row(cube(salaire)=582973760.0),\n",
       " Row(cube(salaire)=861484032.0),\n",
       " Row(cube(salaire)=301247808.0),\n",
       " Row(cube(salaire)=1367130112.0),\n",
       " Row(cube(salaire)=1167693440.0),\n",
       " Row(cube(salaire)=278677824.0),\n",
       " Row(cube(salaire)=339374272.0),\n",
       " Row(cube(salaire)=579491712.0),\n",
       " Row(cube(salaire)=738948288.0),\n",
       " Row(cube(salaire)=707091328.0),\n",
       " Row(cube(salaire)=162650816.0),\n",
       " Row(cube(salaire)=322310272.0),\n",
       " Row(cube(salaire)=403855776.0),\n",
       " Row(cube(salaire)=267076464.0),\n",
       " Row(cube(salaire)=313999840.0),\n",
       " Row(cube(salaire)=424010496.0),\n",
       " Row(cube(salaire)=682244096.0),\n",
       " Row(cube(salaire)=730661056.0),\n",
       " Row(cube(salaire)=1121101184.0),\n",
       " Row(cube(salaire)=1276202496.0),\n",
       " Row(cube(salaire)=2875358464.0),\n",
       " Row(cube(salaire)=733362112.0),\n",
       " Row(cube(salaire)=683200576.0),\n",
       " Row(cube(salaire)=677569984.0),\n",
       " Row(cube(salaire)=713719104.0),\n",
       " Row(cube(salaire)=1076381696.0),\n",
       " Row(cube(salaire)=1526934016.0),\n",
       " Row(cube(salaire)=777142464.0),\n",
       " Row(cube(salaire)=169668448.0),\n",
       " Row(cube(salaire)=623100608.0),\n",
       " Row(cube(salaire)=849418688.0),\n",
       " Row(cube(salaire)=719720512.0),\n",
       " Row(cube(salaire)=539379072.0),\n",
       " Row(cube(salaire)=628638592.0),\n",
       " Row(cube(salaire)=535644800.0),\n",
       " Row(cube(salaire)=485899968.0),\n",
       " Row(cube(salaire)=1560022656.0),\n",
       " Row(cube(salaire)=830606784.0),\n",
       " Row(cube(salaire)=1221322880.0),\n",
       " Row(cube(salaire)=1037682368.0),\n",
       " Row(cube(salaire)=215126288.0),\n",
       " Row(cube(salaire)=641694272.0),\n",
       " Row(cube(salaire)=1105471744.0),\n",
       " Row(cube(salaire)=990807232.0),\n",
       " Row(cube(salaire)=417901504.0),\n",
       " Row(cube(salaire)=855537984.0),\n",
       " Row(cube(salaire)=292506464.0),\n",
       " Row(cube(salaire)=973085952.0),\n",
       " Row(cube(salaire)=360026048.0),\n",
       " Row(cube(salaire)=551198208.0),\n",
       " Row(cube(salaire)=510493760.0),\n",
       " Row(cube(salaire)=2913709568.0),\n",
       " Row(cube(salaire)=659631936.0),\n",
       " Row(cube(salaire)=2642547200.0),\n",
       " Row(cube(salaire)=1018233216.0),\n",
       " Row(cube(salaire)=631826368.0),\n",
       " Row(cube(salaire)=535324160.0),\n",
       " Row(cube(salaire)=1098027648.0),\n",
       " Row(cube(salaire)=1506869632.0),\n",
       " Row(cube(salaire)=187209088.0),\n",
       " Row(cube(salaire)=731922304.0),\n",
       " Row(cube(salaire)=915283584.0),\n",
       " Row(cube(salaire)=1499181440.0),\n",
       " Row(cube(salaire)=539946368.0),\n",
       " Row(cube(salaire)=589366016.0),\n",
       " Row(cube(salaire)=989346368.0),\n",
       " Row(cube(salaire)=195950896.0),\n",
       " Row(cube(salaire)=1079803648.0),\n",
       " Row(cube(salaire)=228329888.0),\n",
       " Row(cube(salaire)=3483554560.0),\n",
       " Row(cube(salaire)=943709952.0),\n",
       " Row(cube(salaire)=491816032.0),\n",
       " Row(cube(salaire)=552355520.0),\n",
       " Row(cube(salaire)=2179705600.0),\n",
       " Row(cube(salaire)=737699328.0),\n",
       " Row(cube(salaire)=558281920.0),\n",
       " Row(cube(salaire)=346759392.0),\n",
       " Row(cube(salaire)=398608288.0),\n",
       " Row(cube(salaire)=697943040.0),\n",
       " Row(cube(salaire)=490505600.0),\n",
       " Row(cube(salaire)=849877312.0),\n",
       " Row(cube(salaire)=542049664.0),\n",
       " Row(cube(salaire)=495618528.0),\n",
       " Row(cube(salaire)=426254432.0),\n",
       " Row(cube(salaire)=475977280.0),\n",
       " Row(cube(salaire)=909053184.0),\n",
       " Row(cube(salaire)=439530080.0),\n",
       " Row(cube(salaire)=461968256.0),\n",
       " Row(cube(salaire)=455448224.0),\n",
       " Row(cube(salaire)=341156960.0),\n",
       " Row(cube(salaire)=749032768.0),\n",
       " Row(cube(salaire)=826782336.0),\n",
       " Row(cube(salaire)=1074412544.0),\n",
       " Row(cube(salaire)=1250534528.0),\n",
       " Row(cube(salaire)=1952005632.0),\n",
       " Row(cube(salaire)=851491392.0),\n",
       " Row(cube(salaire)=940815616.0),\n",
       " Row(cube(salaire)=523226144.0),\n",
       " Row(cube(salaire)=778700096.0),\n",
       " Row(cube(salaire)=915151808.0),\n",
       " Row(cube(salaire)=442827456.0),\n",
       " Row(cube(salaire)=808030848.0),\n",
       " Row(cube(salaire)=1496557696.0),\n",
       " Row(cube(salaire)=858608064.0),\n",
       " Row(cube(salaire)=441102688.0),\n",
       " Row(cube(salaire)=564051968.0),\n",
       " Row(cube(salaire)=573181248.0),\n",
       " Row(cube(salaire)=764150912.0),\n",
       " Row(cube(salaire)=529440512.0),\n",
       " Row(cube(salaire)=180685744.0),\n",
       " Row(cube(salaire)=446130048.0),\n",
       " Row(cube(salaire)=414581888.0),\n",
       " Row(cube(salaire)=451852480.0),\n",
       " Row(cube(salaire)=607677312.0),\n",
       " Row(cube(salaire)=851477888.0),\n",
       " Row(cube(salaire)=236324864.0),\n",
       " Row(cube(salaire)=476632672.0),\n",
       " Row(cube(salaire)=892836736.0),\n",
       " Row(cube(salaire)=773954112.0),\n",
       " Row(cube(salaire)=1765609984.0),\n",
       " Row(cube(salaire)=1444950016.0),\n",
       " Row(cube(salaire)=1414033152.0),\n",
       " Row(cube(salaire)=847185408.0),\n",
       " Row(cube(salaire)=397668768.0),\n",
       " Row(cube(salaire)=822398080.0),\n",
       " Row(cube(salaire)=299468864.0),\n",
       " Row(cube(salaire)=1267683968.0),\n",
       " Row(cube(salaire)=2477375232.0),\n",
       " Row(cube(salaire)=204074176.0),\n",
       " Row(cube(salaire)=445061376.0),\n",
       " Row(cube(salaire)=820447744.0),\n",
       " Row(cube(salaire)=943436736.0),\n",
       " Row(cube(salaire)=946583424.0),\n",
       " Row(cube(salaire)=683077056.0),\n",
       " Row(cube(salaire)=335174720.0),\n",
       " Row(cube(salaire)=476232864.0),\n",
       " Row(cube(salaire)=1774929664.0),\n",
       " Row(cube(salaire)=1231766912.0),\n",
       " Row(cube(salaire)=1298794240.0),\n",
       " Row(cube(salaire)=127414200.0),\n",
       " Row(cube(salaire)=183761264.0),\n",
       " Row(cube(salaire)=199071312.0),\n",
       " Row(cube(salaire)=576357696.0),\n",
       " Row(cube(salaire)=1671147520.0),\n",
       " Row(cube(salaire)=231269104.0),\n",
       " Row(cube(salaire)=657639680.0),\n",
       " Row(cube(salaire)=476486016.0),\n",
       " Row(cube(salaire)=606422336.0),\n",
       " Row(cube(salaire)=934679168.0),\n",
       " Row(cube(salaire)=277511392.0),\n",
       " Row(cube(salaire)=132012128.0),\n",
       " Row(cube(salaire)=560026048.0),\n",
       " Row(cube(salaire)=746845312.0),\n",
       " Row(cube(salaire)=484918432.0),\n",
       " Row(cube(salaire)=588873152.0),\n",
       " Row(cube(salaire)=153964464.0),\n",
       " Row(cube(salaire)=505127776.0),\n",
       " Row(cube(salaire)=717144320.0),\n",
       " Row(cube(salaire)=568527360.0),\n",
       " Row(cube(salaire)=1038334272.0),\n",
       " Row(cube(salaire)=768131648.0),\n",
       " Row(cube(salaire)=1421449472.0),\n",
       " Row(cube(salaire)=492772608.0),\n",
       " Row(cube(salaire)=273921856.0),\n",
       " Row(cube(salaire)=443834176.0),\n",
       " Row(cube(salaire)=138502992.0),\n",
       " Row(cube(salaire)=598310976.0),\n",
       " Row(cube(salaire)=309638208.0),\n",
       " Row(cube(salaire)=527724224.0),\n",
       " Row(cube(salaire)=439966368.0),\n",
       " Row(cube(salaire)=455208352.0),\n",
       " Row(cube(salaire)=838389312.0),\n",
       " Row(cube(salaire)=459751488.0),\n",
       " Row(cube(salaire)=352869632.0),\n",
       " Row(cube(salaire)=433479808.0),\n",
       " Row(cube(salaire)=1002640960.0),\n",
       " Row(cube(salaire)=247747280.0),\n",
       " Row(cube(salaire)=392362432.0),\n",
       " Row(cube(salaire)=565077248.0),\n",
       " Row(cube(salaire)=416460576.0),\n",
       " Row(cube(salaire)=82948568.0),\n",
       " Row(cube(salaire)=392278464.0),\n",
       " Row(cube(salaire)=326735936.0),\n",
       " Row(cube(salaire)=815130880.0),\n",
       " Row(cube(salaire)=1839255808.0),\n",
       " Row(cube(salaire)=791085376.0),\n",
       " Row(cube(salaire)=736633280.0),\n",
       " Row(cube(salaire)=552967040.0),\n",
       " Row(cube(salaire)=145103568.0),\n",
       " Row(cube(salaire)=761247488.0),\n",
       " Row(cube(salaire)=1038643008.0),\n",
       " Row(cube(salaire)=360138144.0),\n",
       " Row(cube(salaire)=660994496.0),\n",
       " Row(cube(salaire)=291036512.0),\n",
       " Row(cube(salaire)=1011160960.0),\n",
       " Row(cube(salaire)=376179424.0),\n",
       " Row(cube(salaire)=1598948864.0),\n",
       " Row(cube(salaire)=629760256.0),\n",
       " Row(cube(salaire)=2327464448.0),\n",
       " Row(cube(salaire)=462951264.0),\n",
       " Row(cube(salaire)=831896320.0),\n",
       " Row(cube(salaire)=294087936.0),\n",
       " Row(cube(salaire)=157938944.0),\n",
       " Row(cube(salaire)=251696304.0),\n",
       " Row(cube(salaire)=394100928.0),\n",
       " Row(cube(salaire)=486146656.0),\n",
       " Row(cube(salaire)=1061818688.0),\n",
       " Row(cube(salaire)=345869216.0),\n",
       " Row(cube(salaire)=503785312.0),\n",
       " Row(cube(salaire)=788738304.0),\n",
       " Row(cube(salaire)=473969248.0),\n",
       " Row(cube(salaire)=583990528.0),\n",
       " Row(cube(salaire)=470807104.0),\n",
       " Row(cube(salaire)=2097240960.0),\n",
       " Row(cube(salaire)=882082368.0),\n",
       " Row(cube(salaire)=326902720.0),\n",
       " Row(cube(salaire)=528439552.0),\n",
       " Row(cube(salaire)=567948096.0),\n",
       " Row(cube(salaire)=1255660160.0),\n",
       " Row(cube(salaire)=127908760.0),\n",
       " Row(cube(salaire)=171660848.0),\n",
       " Row(cube(salaire)=464737088.0),\n",
       " Row(cube(salaire)=326640128.0),\n",
       " Row(cube(salaire)=528139840.0),\n",
       " Row(cube(salaire)=346172576.0),\n",
       " Row(cube(salaire)=1691861888.0),\n",
       " Row(cube(salaire)=1300549120.0),\n",
       " Row(cube(salaire)=748903168.0),\n",
       " Row(cube(salaire)=453560672.0),\n",
       " Row(cube(salaire)=1044260416.0),\n",
       " Row(cube(salaire)=1327400320.0),\n",
       " Row(cube(salaire)=401356448.0),\n",
       " Row(cube(salaire)=320157792.0),\n",
       " Row(cube(salaire)=978576768.0),\n",
       " Row(cube(salaire)=649255680.0),\n",
       " Row(cube(salaire)=249873440.0),\n",
       " Row(cube(salaire)=452681888.0),\n",
       " Row(cube(salaire)=914889024.0),\n",
       " Row(cube(salaire)=681795200.0),\n",
       " Row(cube(salaire)=705290496.0),\n",
       " Row(cube(salaire)=1147411456.0),\n",
       " Row(cube(salaire)=1344659712.0),\n",
       " Row(cube(salaire)=596579200.0),\n",
       " Row(cube(salaire)=1217036928.0),\n",
       " Row(cube(salaire)=2253338112.0),\n",
       " Row(cube(salaire)=1825249408.0),\n",
       " Row(cube(salaire)=312746784.0),\n",
       " Row(cube(salaire)=813919104.0),\n",
       " Row(cube(salaire)=111482432.0),\n",
       " Row(cube(salaire)=198509728.0),\n",
       " Row(cube(salaire)=517181824.0),\n",
       " Row(cube(salaire)=374046336.0),\n",
       " Row(cube(salaire)=365164448.0),\n",
       " Row(cube(salaire)=1060021056.0),\n",
       " Row(cube(salaire)=705527616.0),\n",
       " Row(cube(salaire)=321558560.0),\n",
       " Row(cube(salaire)=447214016.0),\n",
       " Row(cube(salaire)=361761248.0),\n",
       " Row(cube(salaire)=1347594240.0),\n",
       " Row(cube(salaire)=158322240.0),\n",
       " Row(cube(salaire)=2101717120.0),\n",
       " Row(cube(salaire)=961940416.0),\n",
       " Row(cube(salaire)=1416067840.0),\n",
       " Row(cube(salaire)=677024640.0),\n",
       " Row(cube(salaire)=272404800.0),\n",
       " Row(cube(salaire)=526671168.0),\n",
       " Row(cube(salaire)=224245712.0),\n",
       " Row(cube(salaire)=1062560960.0),\n",
       " Row(cube(salaire)=1663928960.0),\n",
       " Row(cube(salaire)=745651840.0),\n",
       " Row(cube(salaire)=1025116928.0),\n",
       " Row(cube(salaire)=1006785408.0),\n",
       " Row(cube(salaire)=77540256.0),\n",
       " Row(cube(salaire)=418758656.0),\n",
       " Row(cube(salaire)=651903680.0),\n",
       " Row(cube(salaire)=577767040.0),\n",
       " Row(cube(salaire)=341672096.0),\n",
       " Row(cube(salaire)=1582547968.0),\n",
       " Row(cube(salaire)=296914848.0),\n",
       " Row(cube(salaire)=169898992.0),\n",
       " Row(cube(salaire)=1439646336.0),\n",
       " Row(cube(salaire)=517373280.0),\n",
       " Row(cube(salaire)=1545868416.0),\n",
       " Row(cube(salaire)=1524283392.0),\n",
       " Row(cube(salaire)=1028142016.0),\n",
       " Row(cube(salaire)=1082010368.0),\n",
       " Row(cube(salaire)=606372480.0),\n",
       " Row(cube(salaire)=1867046528.0),\n",
       " Row(cube(salaire)=469926432.0),\n",
       " Row(cube(salaire)=920461120.0),\n",
       " Row(cube(salaire)=769303296.0),\n",
       " Row(cube(salaire)=976095744.0),\n",
       " Row(cube(salaire)=1146579840.0),\n",
       " Row(cube(salaire)=215029728.0),\n",
       " Row(cube(salaire)=2206360576.0),\n",
       " Row(cube(salaire)=987792640.0),\n",
       " Row(cube(salaire)=100497392.0),\n",
       " Row(cube(salaire)=1237058304.0),\n",
       " Row(cube(salaire)=324052640.0),\n",
       " Row(cube(salaire)=497272608.0),\n",
       " Row(cube(salaire)=583958080.0),\n",
       " Row(cube(salaire)=649151232.0),\n",
       " Row(cube(salaire)=651506240.0),\n",
       " Row(cube(salaire)=5009006592.0),\n",
       " Row(cube(salaire)=525059872.0),\n",
       " Row(cube(salaire)=166813024.0),\n",
       " Row(cube(salaire)=850769856.0),\n",
       " Row(cube(salaire)=689340864.0),\n",
       " Row(cube(salaire)=415000480.0),\n",
       " Row(cube(salaire)=681613056.0),\n",
       " Row(cube(salaire)=186009360.0),\n",
       " Row(cube(salaire)=150033328.0),\n",
       " Row(cube(salaire)=1003907904.0),\n",
       " Row(cube(salaire)=683227072.0),\n",
       " Row(cube(salaire)=1460295552.0),\n",
       " Row(cube(salaire)=1445088512.0),\n",
       " Row(cube(salaire)=894278592.0),\n",
       " Row(cube(salaire)=487130240.0),\n",
       " Row(cube(salaire)=774773696.0),\n",
       " Row(cube(salaire)=1965672704.0),\n",
       " Row(cube(salaire)=831643392.0),\n",
       " Row(cube(salaire)=703357824.0),\n",
       " Row(cube(salaire)=360469632.0),\n",
       " Row(cube(salaire)=446042912.0),\n",
       " Row(cube(salaire)=1699552384.0),\n",
       " Row(cube(salaire)=1233289472.0),\n",
       " Row(cube(salaire)=213798992.0),\n",
       " Row(cube(salaire)=147392128.0),\n",
       " Row(cube(salaire)=2674193408.0),\n",
       " Row(cube(salaire)=669559424.0),\n",
       " Row(cube(salaire)=507350560.0),\n",
       " Row(cube(salaire)=240398528.0),\n",
       " Row(cube(salaire)=413293696.0),\n",
       " Row(cube(salaire)=456794976.0),\n",
       " Row(cube(salaire)=789082752.0),\n",
       " Row(cube(salaire)=267830704.0),\n",
       " Row(cube(salaire)=914349760.0),\n",
       " Row(cube(salaire)=1110591872.0),\n",
       " Row(cube(salaire)=487640224.0),\n",
       " Row(cube(salaire)=520046400.0),\n",
       " Row(cube(salaire)=240621040.0),\n",
       " Row(cube(salaire)=783250560.0),\n",
       " Row(cube(salaire)=1228033536.0),\n",
       " Row(cube(salaire)=416474368.0),\n",
       " Row(cube(salaire)=2082077056.0),\n",
       " Row(cube(salaire)=599903616.0),\n",
       " Row(cube(salaire)=464164480.0),\n",
       " Row(cube(salaire)=396652736.0),\n",
       " Row(cube(salaire)=1407953536.0),\n",
       " Row(cube(salaire)=615753280.0),\n",
       " Row(cube(salaire)=1505344000.0),\n",
       " Row(cube(salaire)=3820333056.0),\n",
       " Row(cube(salaire)=283117920.0),\n",
       " Row(cube(salaire)=596602560.0),\n",
       " Row(cube(salaire)=448063200.0),\n",
       " Row(cube(salaire)=710947456.0),\n",
       " Row(cube(salaire)=108436248.0),\n",
       " Row(cube(salaire)=794535616.0),\n",
       " Row(cube(salaire)=857778816.0),\n",
       " Row(cube(salaire)=270762400.0),\n",
       " Row(cube(salaire)=285528448.0),\n",
       " Row(cube(salaire)=398233600.0),\n",
       " Row(cube(salaire)=1788855168.0),\n",
       " Row(cube(salaire)=1282298496.0),\n",
       " Row(cube(salaire)=1021997504.0),\n",
       " Row(cube(salaire)=170129568.0),\n",
       " Row(cube(salaire)=1585696000.0),\n",
       " Row(cube(salaire)=1299963520.0),\n",
       " Row(cube(salaire)=334537056.0),\n",
       " Row(cube(salaire)=760721792.0),\n",
       " Row(cube(salaire)=463518560.0),\n",
       " Row(cube(salaire)=684092352.0),\n",
       " Row(cube(salaire)=514929888.0),\n",
       " Row(cube(salaire)=667561088.0),\n",
       " Row(cube(salaire)=610442816.0),\n",
       " Row(cube(salaire)=521381024.0),\n",
       " Row(cube(salaire)=1257716224.0),\n",
       " Row(cube(salaire)=530663008.0),\n",
       " Row(cube(salaire)=502798944.0),\n",
       " Row(cube(salaire)=566124032.0),\n",
       " Row(cube(salaire)=355728032.0),\n",
       " Row(cube(salaire)=169659360.0),\n",
       " Row(cube(salaire)=1208500096.0),\n",
       " Row(cube(salaire)=832652352.0),\n",
       " Row(cube(salaire)=2392524800.0),\n",
       " Row(cube(salaire)=1189305728.0),\n",
       " Row(cube(salaire)=225526080.0),\n",
       " Row(cube(salaire)=943705088.0),\n",
       " Row(cube(salaire)=728481088.0),\n",
       " Row(cube(salaire)=2012609024.0),\n",
       " Row(cube(salaire)=495494528.0),\n",
       " Row(cube(salaire)=377185312.0),\n",
       " Row(cube(salaire)=1927603712.0),\n",
       " Row(cube(salaire)=741580544.0),\n",
       " Row(cube(salaire)=404234080.0),\n",
       " Row(cube(salaire)=555107648.0),\n",
       " Row(cube(salaire)=723681600.0),\n",
       " Row(cube(salaire)=384990816.0),\n",
       " Row(cube(salaire)=625339328.0),\n",
       " Row(cube(salaire)=209880640.0),\n",
       " Row(cube(salaire)=1617527936.0),\n",
       " Row(cube(salaire)=357266144.0),\n",
       " Row(cube(salaire)=572376192.0),\n",
       " Row(cube(salaire)=411326784.0),\n",
       " Row(cube(salaire)=444649728.0),\n",
       " Row(cube(salaire)=647534464.0),\n",
       " Row(cube(salaire)=664241856.0),\n",
       " Row(cube(salaire)=608542464.0),\n",
       " Row(cube(salaire)=628820864.0),\n",
       " Row(cube(salaire)=339682944.0),\n",
       " Row(cube(salaire)=276113472.0),\n",
       " Row(cube(salaire)=915206528.0),\n",
       " Row(cube(salaire)=1147687552.0),\n",
       " Row(cube(salaire)=465654400.0),\n",
       " Row(cube(salaire)=1001896640.0),\n",
       " Row(cube(salaire)=629652096.0),\n",
       " Row(cube(salaire)=877744192.0),\n",
       " Row(cube(salaire)=1793349632.0),\n",
       " Row(cube(salaire)=586338304.0),\n",
       " Row(cube(salaire)=334962432.0),\n",
       " Row(cube(salaire)=571979776.0),\n",
       " Row(cube(salaire)=409030912.0),\n",
       " Row(cube(salaire)=248588224.0),\n",
       " Row(cube(salaire)=1093976960.0),\n",
       " Row(cube(salaire)=256721824.0),\n",
       " Row(cube(salaire)=1881916544.0),\n",
       " Row(cube(salaire)=457858240.0),\n",
       " Row(cube(salaire)=1511179904.0),\n",
       " Row(cube(salaire)=191121296.0),\n",
       " Row(cube(salaire)=359985920.0),\n",
       " Row(cube(salaire)=861240384.0),\n",
       " Row(cube(salaire)=628992064.0),\n",
       " Row(cube(salaire)=248435792.0),\n",
       " Row(cube(salaire)=325831616.0),\n",
       " Row(cube(salaire)=227598976.0),\n",
       " Row(cube(salaire)=344224672.0),\n",
       " Row(cube(salaire)=1139208704.0),\n",
       " Row(cube(salaire)=2809065216.0),\n",
       " Row(cube(salaire)=982333568.0),\n",
       " Row(cube(salaire)=618694336.0),\n",
       " Row(cube(salaire)=281823552.0),\n",
       " Row(cube(salaire)=1158778368.0),\n",
       " Row(cube(salaire)=306698176.0),\n",
       " Row(cube(salaire)=417974112.0),\n",
       " Row(cube(salaire)=2103767296.0),\n",
       " Row(cube(salaire)=886152704.0),\n",
       " Row(cube(salaire)=475145344.0),\n",
       " Row(cube(salaire)=1598814976.0),\n",
       " Row(cube(salaire)=1674473344.0),\n",
       " Row(cube(salaire)=1048564480.0),\n",
       " Row(cube(salaire)=802446400.0),\n",
       " Row(cube(salaire)=828466112.0),\n",
       " Row(cube(salaire)=461108608.0),\n",
       " Row(cube(salaire)=1087844352.0),\n",
       " Row(cube(salaire)=290505408.0),\n",
       " Row(cube(salaire)=478705216.0),\n",
       " Row(cube(salaire)=748589248.0),\n",
       " Row(cube(salaire)=322998528.0),\n",
       " Row(cube(salaire)=748411584.0),\n",
       " Row(cube(salaire)=279018784.0),\n",
       " Row(cube(salaire)=1467662080.0),\n",
       " Row(cube(salaire)=176524928.0),\n",
       " Row(cube(salaire)=319043840.0),\n",
       " Row(cube(salaire)=601471488.0),\n",
       " Row(cube(salaire)=1839032320.0),\n",
       " Row(cube(salaire)=744192832.0),\n",
       " Row(cube(salaire)=703600384.0),\n",
       " Row(cube(salaire)=1487211392.0),\n",
       " Row(cube(salaire)=474082624.0),\n",
       " Row(cube(salaire)=1844939520.0),\n",
       " Row(cube(salaire)=502369632.0),\n",
       " Row(cube(salaire)=483844992.0),\n",
       " Row(cube(salaire)=173497248.0),\n",
       " Row(cube(salaire)=248627360.0),\n",
       " Row(cube(salaire)=1412618368.0),\n",
       " Row(cube(salaire)=361227712.0),\n",
       " Row(cube(salaire)=1954053888.0),\n",
       " Row(cube(salaire)=200429344.0),\n",
       " Row(cube(salaire)=442514464.0),\n",
       " Row(cube(salaire)=340623360.0),\n",
       " Row(cube(salaire)=215249312.0),\n",
       " Row(cube(salaire)=581161216.0),\n",
       " Row(cube(salaire)=566134528.0),\n",
       " Row(cube(salaire)=282366272.0),\n",
       " Row(cube(salaire)=298154496.0),\n",
       " Row(cube(salaire)=166885536.0),\n",
       " Row(cube(salaire)=685844160.0),\n",
       " Row(cube(salaire)=463669536.0),\n",
       " Row(cube(salaire)=1582001536.0),\n",
       " Row(cube(salaire)=272019392.0),\n",
       " Row(cube(salaire)=6402793472.0),\n",
       " Row(cube(salaire)=1701834624.0),\n",
       " Row(cube(salaire)=210656192.0),\n",
       " Row(cube(salaire)=855729216.0),\n",
       " Row(cube(salaire)=742081024.0),\n",
       " Row(cube(salaire)=307136352.0),\n",
       " Row(cube(salaire)=460143104.0),\n",
       " Row(cube(salaire)=405304576.0),\n",
       " Row(cube(salaire)=210043312.0),\n",
       " Row(cube(salaire)=528841536.0),\n",
       " Row(cube(salaire)=923335296.0),\n",
       " Row(cube(salaire)=1382639104.0),\n",
       " Row(cube(salaire)=455821472.0),\n",
       " Row(cube(salaire)=782246976.0),\n",
       " Row(cube(salaire)=812138304.0),\n",
       " Row(cube(salaire)=1144996352.0),\n",
       " Row(cube(salaire)=1065559040.0),\n",
       " Row(cube(salaire)=2689668864.0),\n",
       " Row(cube(salaire)=283984576.0),\n",
       " Row(cube(salaire)=345891680.0),\n",
       " Row(cube(salaire)=439836256.0),\n",
       " Row(cube(salaire)=1595483392.0),\n",
       " Row(cube(salaire)=364385440.0),\n",
       " Row(cube(salaire)=476101984.0),\n",
       " Row(cube(salaire)=1127582208.0),\n",
       " Row(cube(salaire)=546729408.0),\n",
       " Row(cube(salaire)=306969856.0),\n",
       " Row(cube(salaire)=680301184.0),\n",
       " Row(cube(salaire)=1106807040.0),\n",
       " Row(cube(salaire)=1178791040.0),\n",
       " Row(cube(salaire)=609656832.0),\n",
       " Row(cube(salaire)=478125344.0),\n",
       " Row(cube(salaire)=555840192.0),\n",
       " Row(cube(salaire)=162812032.0),\n",
       " Row(cube(salaire)=482560704.0),\n",
       " Row(cube(salaire)=1215949568.0),\n",
       " Row(cube(salaire)=450402496.0),\n",
       " Row(cube(salaire)=812405376.0),\n",
       " Row(cube(salaire)=506747520.0),\n",
       " Row(cube(salaire)=1026823808.0),\n",
       " Row(cube(salaire)=1399351936.0),\n",
       " Row(cube(salaire)=414268768.0),\n",
       " Row(cube(salaire)=192917600.0),\n",
       " Row(cube(salaire)=1687333632.0),\n",
       " Row(cube(salaire)=180180560.0),\n",
       " Row(cube(salaire)=604495744.0),\n",
       " Row(cube(salaire)=807611328.0),\n",
       " Row(cube(salaire)=2192605952.0),\n",
       " Row(cube(salaire)=863570048.0),\n",
       " Row(cube(salaire)=888593088.0),\n",
       " Row(cube(salaire)=525573888.0),\n",
       " Row(cube(salaire)=610414912.0),\n",
       " Row(cube(salaire)=643785408.0),\n",
       " Row(cube(salaire)=847499648.0),\n",
       " Row(cube(salaire)=978721280.0),\n",
       " Row(cube(salaire)=605506880.0),\n",
       " Row(cube(salaire)=1139608832.0),\n",
       " Row(cube(salaire)=991432320.0),\n",
       " Row(cube(salaire)=401872160.0),\n",
       " Row(cube(salaire)=288434624.0),\n",
       " Row(cube(salaire)=543188096.0),\n",
       " Row(cube(salaire)=533855040.0),\n",
       " Row(cube(salaire)=379773760.0),\n",
       " Row(cube(salaire)=270900672.0),\n",
       " Row(cube(salaire)=345243360.0),\n",
       " Row(cube(salaire)=257004480.0),\n",
       " Row(cube(salaire)=462786944.0),\n",
       " Row(cube(salaire)=4203891712.0),\n",
       " Row(cube(salaire)=623710272.0),\n",
       " Row(cube(salaire)=2130488832.0),\n",
       " Row(cube(salaire)=300896352.0),\n",
       " Row(cube(salaire)=1167335680.0),\n",
       " Row(cube(salaire)=770512640.0),\n",
       " Row(cube(salaire)=673054848.0),\n",
       " Row(cube(salaire)=252047568.0),\n",
       " Row(cube(salaire)=298470336.0),\n",
       " Row(cube(salaire)=135215472.0),\n",
       " Row(cube(salaire)=338335648.0),\n",
       " Row(cube(salaire)=1494933760.0),\n",
       " Row(cube(salaire)=436712480.0),\n",
       " Row(cube(salaire)=756215616.0),\n",
       " Row(cube(salaire)=577199296.0),\n",
       " Row(cube(salaire)=1511110528.0),\n",
       " Row(cube(salaire)=298279488.0),\n",
       " Row(cube(salaire)=1145276288.0),\n",
       " Row(cube(salaire)=211938352.0),\n",
       " Row(cube(salaire)=1787757568.0),\n",
       " Row(cube(salaire)=808266240.0),\n",
       " Row(cube(salaire)=174433712.0),\n",
       " Row(cube(salaire)=201488688.0),\n",
       " Row(cube(salaire)=263668416.0),\n",
       " Row(cube(salaire)=588105920.0),\n",
       " Row(cube(salaire)=295745504.0),\n",
       " Row(cube(salaire)=260194576.0),\n",
       " Row(cube(salaire)=1098372096.0),\n",
       " Row(cube(salaire)=335292640.0),\n",
       " Row(cube(salaire)=473084800.0),\n",
       " Row(cube(salaire)=265547408.0),\n",
       " Row(cube(salaire)=429200256.0),\n",
       " Row(cube(salaire)=74866024.0),\n",
       " Row(cube(salaire)=653683904.0),\n",
       " Row(cube(salaire)=356116544.0),\n",
       " Row(cube(salaire)=875877440.0),\n",
       " Row(cube(salaire)=2593499904.0),\n",
       " Row(cube(salaire)=467632960.0),\n",
       " Row(cube(salaire)=931566400.0),\n",
       " Row(cube(salaire)=279674752.0),\n",
       " Row(cube(salaire)=428465920.0),\n",
       " Row(cube(salaire)=195787792.0),\n",
       " Row(cube(salaire)=457189024.0),\n",
       " Row(cube(salaire)=812729728.0),\n",
       " Row(cube(salaire)=1009575872.0),\n",
       " Row(cube(salaire)=537418816.0),\n",
       " Row(cube(salaire)=1021186752.0),\n",
       " Row(cube(salaire)=445884512.0),\n",
       " Row(cube(salaire)=828290816.0),\n",
       " Row(cube(salaire)=285886560.0),\n",
       " Row(cube(salaire)=197911392.0),\n",
       " Row(cube(salaire)=388434432.0),\n",
       " Row(cube(salaire)=576976448.0),\n",
       " Row(cube(salaire)=1003368192.0),\n",
       " Row(cube(salaire)=303294016.0),\n",
       " Row(cube(salaire)=185769360.0),\n",
       " Row(cube(salaire)=782514432.0),\n",
       " Row(cube(salaire)=940472000.0),\n",
       " Row(cube(salaire)=412538176.0),\n",
       " Row(cube(salaire)=745199360.0),\n",
       " Row(cube(salaire)=289648864.0),\n",
       " Row(cube(salaire)=403902976.0),\n",
       " Row(cube(salaire)=563483712.0),\n",
       " Row(cube(salaire)=762585856.0),\n",
       " Row(cube(salaire)=1673083264.0),\n",
       " Row(cube(salaire)=576397120.0),\n",
       " Row(cube(salaire)=690809728.0),\n",
       " Row(cube(salaire)=1096987776.0),\n",
       " Row(cube(salaire)=2293221120.0),\n",
       " Row(cube(salaire)=326056672.0),\n",
       " Row(cube(salaire)=491265152.0),\n",
       " Row(cube(salaire)=404474848.0),\n",
       " Row(cube(salaire)=180156000.0),\n",
       " Row(cube(salaire)=1298814848.0),\n",
       " Row(cube(salaire)=634662400.0),\n",
       " Row(cube(salaire)=270541024.0),\n",
       " Row(cube(salaire)=141910320.0),\n",
       " Row(cube(salaire)=282618240.0),\n",
       " Row(cube(salaire)=334354112.0),\n",
       " Row(cube(salaire)=279556096.0),\n",
       " Row(cube(salaire)=949075328.0),\n",
       " Row(cube(salaire)=1221713408.0),\n",
       " Row(cube(salaire)=155965184.0),\n",
       " Row(cube(salaire)=1171284608.0),\n",
       " Row(cube(salaire)=285725952.0),\n",
       " Row(cube(salaire)=947096704.0),\n",
       " Row(cube(salaire)=809871104.0),\n",
       " Row(cube(salaire)=581322880.0),\n",
       " Row(cube(salaire)=224172496.0),\n",
       " Row(cube(salaire)=1594029696.0),\n",
       " Row(cube(salaire)=629463296.0),\n",
       " Row(cube(salaire)=388562240.0),\n",
       " Row(cube(salaire)=883341184.0),\n",
       " Row(cube(salaire)=310178176.0),\n",
       " Row(cube(salaire)=330828032.0),\n",
       " Row(cube(salaire)=536611264.0),\n",
       " Row(cube(salaire)=1099427840.0),\n",
       " Row(cube(salaire)=1261451008.0),\n",
       " Row(cube(salaire)=1813806848.0),\n",
       " Row(cube(salaire)=887698432.0),\n",
       " Row(cube(salaire)=1833595264.0),\n",
       " Row(cube(salaire)=631898432.0),\n",
       " Row(cube(salaire)=417340320.0),\n",
       " Row(cube(salaire)=604648640.0),\n",
       " Row(cube(salaire)=130279176.0),\n",
       " Row(cube(salaire)=1374301184.0),\n",
       " Row(cube(salaire)=778425472.0),\n",
       " Row(cube(salaire)=937529664.0),\n",
       " Row(cube(salaire)=889821120.0),\n",
       " Row(cube(salaire)=1158285824.0),\n",
       " Row(cube(salaire)=374412256.0),\n",
       " Row(cube(salaire)=375277088.0),\n",
       " Row(cube(salaire)=1030750528.0),\n",
       " Row(cube(salaire)=310723008.0),\n",
       " Row(cube(salaire)=517682272.0),\n",
       " Row(cube(salaire)=977985664.0),\n",
       " Row(cube(salaire)=915502720.0),\n",
       " Row(cube(salaire)=710173888.0),\n",
       " Row(cube(salaire)=431208096.0),\n",
       " Row(cube(salaire)=776156864.0),\n",
       " Row(cube(salaire)=208243040.0),\n",
       " Row(cube(salaire)=458865888.0),\n",
       " Row(cube(salaire)=370113696.0),\n",
       " Row(cube(salaire)=890499712.0),\n",
       " Row(cube(salaire)=1054208768.0),\n",
       " Row(cube(salaire)=737861696.0),\n",
       " Row(cube(salaire)=394324768.0),\n",
       " Row(cube(salaire)=437907584.0),\n",
       " Row(cube(salaire)=289539392.0),\n",
       " Row(cube(salaire)=501120384.0),\n",
       " Row(cube(salaire)=2410009088.0),\n",
       " Row(cube(salaire)=1367461632.0),\n",
       " Row(cube(salaire)=965537152.0),\n",
       " Row(cube(salaire)=1418764928.0),\n",
       " Row(cube(salaire)=2037981696.0),\n",
       " Row(cube(salaire)=1245065856.0),\n",
       " Row(cube(salaire)=561125760.0),\n",
       " Row(cube(salaire)=497558848.0),\n",
       " Row(cube(salaire)=2414798336.0),\n",
       " Row(cube(salaire)=289892928.0),\n",
       " Row(cube(salaire)=503131712.0),\n",
       " Row(cube(salaire)=329237504.0),\n",
       " Row(cube(salaire)=566081152.0),\n",
       " Row(cube(salaire)=678265408.0),\n",
       " Row(cube(salaire)=446052032.0),\n",
       " Row(cube(salaire)=589550144.0),\n",
       " Row(cube(salaire)=1551969408.0),\n",
       " Row(cube(salaire)=342378560.0),\n",
       " Row(cube(salaire)=1161368960.0),\n",
       " Row(cube(salaire)=435319552.0),\n",
       " Row(cube(salaire)=1263496064.0),\n",
       " Row(cube(salaire)=227926656.0),\n",
       " Row(cube(salaire)=259838272.0),\n",
       " Row(cube(salaire)=717317952.0),\n",
       " Row(cube(salaire)=684793344.0),\n",
       " Row(cube(salaire)=403646240.0),\n",
       " Row(cube(salaire)=2336093440.0),\n",
       " Row(cube(salaire)=1162113920.0),\n",
       " Row(cube(salaire)=514351552.0),\n",
       " Row(cube(salaire)=1005827840.0),\n",
       " Row(cube(salaire)=925835200.0),\n",
       " Row(cube(salaire)=391022432.0),\n",
       " Row(cube(salaire)=1007053376.0),\n",
       " Row(cube(salaire)=683456384.0),\n",
       " Row(cube(salaire)=1272633472.0),\n",
       " Row(cube(salaire)=549463296.0),\n",
       " Row(cube(salaire)=437786080.0),\n",
       " Row(cube(salaire)=525377856.0),\n",
       " Row(cube(salaire)=471166528.0),\n",
       " Row(cube(salaire)=874901056.0),\n",
       " Row(cube(salaire)=693734656.0),\n",
       " Row(cube(salaire)=657041088.0),\n",
       " Row(cube(salaire)=403622272.0),\n",
       " Row(cube(salaire)=911526080.0),\n",
       " Row(cube(salaire)=666858368.0),\n",
       " Row(cube(salaire)=456730944.0),\n",
       " Row(cube(salaire)=545176576.0),\n",
       " Row(cube(salaire)=1085168000.0),\n",
       " Row(cube(salaire)=844281216.0),\n",
       " Row(cube(salaire)=420329376.0),\n",
       " Row(cube(salaire)=652819008.0),\n",
       " Row(cube(salaire)=1807980160.0),\n",
       " Row(cube(salaire)=93775928.0),\n",
       " Row(cube(salaire)=884416768.0),\n",
       " Row(cube(salaire)=407989120.0),\n",
       " Row(cube(salaire)=292704128.0),\n",
       " Row(cube(salaire)=246067072.0),\n",
       " Row(cube(salaire)=510795552.0),\n",
       " Row(cube(salaire)=1738526976.0),\n",
       " Row(cube(salaire)=353208608.0),\n",
       " Row(cube(salaire)=517877120.0),\n",
       " Row(cube(salaire)=424552704.0),\n",
       " Row(cube(salaire)=931512192.0),\n",
       " Row(cube(salaire)=993664960.0),\n",
       " Row(cube(salaire)=990305216.0),\n",
       " Row(cube(salaire)=1354668288.0),\n",
       " Row(cube(salaire)=439945696.0),\n",
       " Row(cube(salaire)=231293456.0),\n",
       " Row(cube(salaire)=1217840384.0),\n",
       " Row(cube(salaire)=829123456.0),\n",
       " Row(cube(salaire)=1358344576.0),\n",
       " Row(cube(salaire)=652491136.0),\n",
       " Row(cube(salaire)=165835360.0),\n",
       " Row(cube(salaire)=671871616.0),\n",
       " Row(cube(salaire)=277906560.0),\n",
       " Row(cube(salaire)=958677120.0),\n",
       " Row(cube(salaire)=440562528.0),\n",
       " Row(cube(salaire)=1892258560.0),\n",
       " Row(cube(salaire)=182987888.0),\n",
       " Row(cube(salaire)=559982848.0),\n",
       " Row(cube(salaire)=324997856.0),\n",
       " Row(cube(salaire)=761606976.0),\n",
       " Row(cube(salaire)=585987520.0),\n",
       " Row(cube(salaire)=509149216.0),\n",
       " Row(cube(salaire)=915948800.0),\n",
       " Row(cube(salaire)=1572041344.0),\n",
       " Row(cube(salaire)=476343456.0),\n",
       " Row(cube(salaire)=343159456.0),\n",
       " Row(cube(salaire)=399476832.0),\n",
       " Row(cube(salaire)=297885248.0),\n",
       " Row(cube(salaire)=2014069760.0),\n",
       " Row(cube(salaire)=892050624.0),\n",
       " Row(cube(salaire)=407361312.0),\n",
       " Row(cube(salaire)=280267232.0),\n",
       " Row(cube(salaire)=715926528.0),\n",
       " Row(cube(salaire)=700388160.0),\n",
       " Row(cube(salaire)=515694336.0),\n",
       " Row(cube(salaire)=602599168.0),\n",
       " Row(cube(salaire)=1328582272.0),\n",
       " Row(cube(salaire)=642141312.0),\n",
       " Row(cube(salaire)=644338496.0),\n",
       " Row(cube(salaire)=575783360.0),\n",
       " Row(cube(salaire)=336149248.0),\n",
       " Row(cube(salaire)=1405271808.0),\n",
       " Row(cube(salaire)=317992128.0),\n",
       " Row(cube(salaire)=1184248704.0),\n",
       " Row(cube(salaire)=758782464.0),\n",
       " Row(cube(salaire)=147492928.0),\n",
       " Row(cube(salaire)=661058432.0),\n",
       " Row(cube(salaire)=934093696.0),\n",
       " Row(cube(salaire)=551320512.0),\n",
       " Row(cube(salaire)=615232832.0),\n",
       " Row(cube(salaire)=367087840.0),\n",
       " Row(cube(salaire)=311043872.0),\n",
       " Row(cube(salaire)=208109248.0),\n",
       " Row(cube(salaire)=777948608.0),\n",
       " Row(cube(salaire)=989258560.0),\n",
       " Row(cube(salaire)=756727936.0),\n",
       " Row(cube(salaire)=216083344.0),\n",
       " Row(cube(salaire)=844638272.0),\n",
       " Row(cube(salaire)=537552576.0),\n",
       " Row(cube(salaire)=2850289152.0),\n",
       " ...]"
      ]
     },
     "execution_count": 95,
     "metadata": {},
     "output_type": "execute_result"
    }
   ],
   "source": [
    "villes.select(cube(\"salaire\")).collect()"
   ]
  },
  {
   "cell_type": "markdown",
   "metadata": {},
   "source": [
    "# 6)\tEtude de cas : analyse des fichiers de logs des cyclistes"
   ]
  },
  {
   "cell_type": "code",
   "execution_count": 6,
   "metadata": {},
   "outputs": [],
   "source": [
    "from pyspark.sql.types import *\n",
    "from pyspark.sql import functions as F\n",
    "from pyspark.sql.types import *\n",
    "from pyspark.sql.functions import udf"
   ]
  },
  {
   "cell_type": "code",
   "execution_count": 7,
   "metadata": {},
   "outputs": [],
   "source": [
    "from pyspark.sql import SparkSession\n",
    "spark = SparkSession.builder.getOrCreate()"
   ]
  },
  {
   "cell_type": "markdown",
   "metadata": {},
   "source": [
    "## 6.1)  Charger la donnée"
   ]
  },
  {
   "cell_type": "code",
   "execution_count": 14,
   "metadata": {},
   "outputs": [
    {
     "data": {
      "text/plain": [
       "4868396"
      ]
     },
     "execution_count": 14,
     "metadata": {},
     "output_type": "execute_result"
    }
   ],
   "source": [
    "path = \"./data/Cyclistes/*.csv\" \n",
    "cyclistes = spark.read.format(\"csv\").option(\"header\", \"true\").load(path, inferSchema=True)\n",
    "cyclistes.count()"
   ]
  },
  {
   "cell_type": "markdown",
   "metadata": {},
   "source": [
    "## 6.2) vérifier le nombre de cycles\n",
    "\n",
    "Comptez le nombre d'id uniques."
   ]
  },
  {
   "cell_type": "code",
   "execution_count": 15,
   "metadata": {},
   "outputs": [
    {
     "name": "stdout",
     "output_type": "stream",
     "text": [
      "+---+\n",
      "| id|\n",
      "+---+\n",
      "|148|\n",
      "|243|\n",
      "| 31|\n",
      "|251|\n",
      "|137|\n",
      "| 85|\n",
      "| 65|\n",
      "| 53|\n",
      "|133|\n",
      "| 78|\n",
      "|108|\n",
      "|155|\n",
      "|193|\n",
      "| 34|\n",
      "|211|\n",
      "|126|\n",
      "|101|\n",
      "|115|\n",
      "| 81|\n",
      "|183|\n",
      "+---+\n",
      "only showing top 20 rows\n",
      "\n"
     ]
    }
   ],
   "source": [
    "ids = cyclistes.select(\"id\").drop_duplicates()\n",
    "\n",
    "ids.show()"
   ]
  },
  {
   "cell_type": "markdown",
   "metadata": {},
   "source": [
    "## 6.3) transformer les timestamp en date\n",
    "\n",
    "Voici une fonction qui permert de récuperer la date sous forme de chaîne de caractère dans la colonne timestamps pour la transformer en date exploitable en tant que telle.\n",
    "\n",
    "Créez une nouvelle colonne dans votre df stockant le résultat de cette fonction."
   ]
  },
  {
   "cell_type": "code",
   "execution_count": 16,
   "metadata": {},
   "outputs": [],
   "source": [
    "from pyspark.sql.types import TimestampType\n",
    "\n",
    "@udf(returnType = TimestampType())\n",
    "def transform_timestamp_in_date(timestamp):\n",
    "    from datetime import datetime\n",
    "    return datetime.strptime(timestamp, \"%Y-%m-%d %H:%M:%S\")"
   ]
  },
  {
   "cell_type": "code",
   "execution_count": 17,
   "metadata": {},
   "outputs": [],
   "source": [
    "cyclistes = cyclistes.withColumn(\"date\", transform_timestamp_in_date(\"timestamp\"))"
   ]
  },
  {
   "cell_type": "code",
   "execution_count": 18,
   "metadata": {},
   "outputs": [
    {
     "data": {
      "text/plain": [
       "[Row(id=246, timestamp='2018-01-01 00:01:00', sur_velo=False, velo='False', vitesse=0.02, position='(lon:22.62 lat:9.63)', destination_finale='False', date=datetime.datetime(2018, 1, 1, 0, 1)),\n",
       " Row(id=246, timestamp='2018-01-01 00:02:00', sur_velo=False, velo='False', vitesse=0.02, position='(lon:22.62 lat:9.63)', destination_finale='False', date=datetime.datetime(2018, 1, 1, 0, 2)),\n",
       " Row(id=246, timestamp='2018-01-01 00:03:00', sur_velo=False, velo='False', vitesse=0.02, position='(lon:22.62 lat:9.63)', destination_finale='False', date=datetime.datetime(2018, 1, 1, 0, 3)),\n",
       " Row(id=246, timestamp='2018-01-01 00:04:00', sur_velo=False, velo='False', vitesse=0.02, position='(lon:22.62 lat:9.63)', destination_finale='False', date=datetime.datetime(2018, 1, 1, 0, 4)),\n",
       " Row(id=246, timestamp='2018-01-01 00:05:00', sur_velo=False, velo='False', vitesse=0.02, position='(lon:22.62 lat:9.63)', destination_finale='False', date=datetime.datetime(2018, 1, 1, 0, 5))]"
      ]
     },
     "execution_count": 18,
     "metadata": {},
     "output_type": "execute_result"
    }
   ],
   "source": [
    "cyclistes.take(5)"
   ]
  },
  {
   "cell_type": "code",
   "execution_count": 19,
   "metadata": {},
   "outputs": [
    {
     "name": "stdout",
     "output_type": "stream",
     "text": [
      "+-------------------+\n",
      "|               date|\n",
      "+-------------------+\n",
      "|2018-01-01 00:01:00|\n",
      "|2018-01-01 00:02:00|\n",
      "|2018-01-01 00:03:00|\n",
      "|2018-01-01 00:04:00|\n",
      "|2018-01-01 00:05:00|\n",
      "+-------------------+\n",
      "only showing top 5 rows\n",
      "\n"
     ]
    }
   ],
   "source": [
    "cyclistes.select(\"date\").show(5)\n"
   ]
  },
  {
   "cell_type": "code",
   "execution_count": 20,
   "metadata": {},
   "outputs": [
    {
     "name": "stdout",
     "output_type": "stream",
     "text": [
      "root\n",
      " |-- id: integer (nullable = true)\n",
      " |-- timestamp: string (nullable = true)\n",
      " |-- sur_velo: boolean (nullable = true)\n",
      " |-- velo: string (nullable = true)\n",
      " |-- vitesse: double (nullable = true)\n",
      " |-- position: string (nullable = true)\n",
      " |-- destination_finale: string (nullable = true)\n",
      " |-- date: timestamp (nullable = true)\n",
      "\n"
     ]
    }
   ],
   "source": [
    "cyclistes.printSchema()"
   ]
  },
  {
   "cell_type": "code",
   "execution_count": 21,
   "metadata": {},
   "outputs": [
    {
     "name": "stdout",
     "output_type": "stream",
     "text": [
      "+-------------------+\n",
      "|          timestamp|\n",
      "+-------------------+\n",
      "|2018-01-01 00:01:00|\n",
      "|2018-01-01 00:02:00|\n",
      "|2018-01-01 00:03:00|\n",
      "|2018-01-01 00:04:00|\n",
      "|2018-01-01 00:05:00|\n",
      "+-------------------+\n",
      "only showing top 5 rows\n",
      "\n"
     ]
    }
   ],
   "source": [
    "cyclistes.select(\"timestamp\").show(5)\n"
   ]
  },
  {
   "cell_type": "markdown",
   "metadata": {},
   "source": [
    "## 6.4) Durée des trajets par id.\n",
    "\n",
    "A partir d'ici, il s'agit de traiter votre donnée pour récupérer la durée de chaque trajet effectué par chaque id.\n",
    "\n",
    "1) trouvez les dates min/max par état de sur_velo, puis par id ET par état de sur_velo."
   ]
  },
  {
   "cell_type": "code",
   "execution_count": 45,
   "metadata": {},
   "outputs": [
    {
     "ename": "NameError",
     "evalue": "name 'cyclistes' is not defined",
     "output_type": "error",
     "traceback": [
      "\u001b[0;31m---------------------------------------------------------------------------\u001b[0m",
      "\u001b[0;31mNameError\u001b[0m                                 Traceback (most recent call last)",
      "\u001b[0;32m<ipython-input-45-353c8ca2a570>\u001b[0m in \u001b[0;36m<module>\u001b[0;34m\u001b[0m\n\u001b[0;32m----> 1\u001b[0;31m \u001b[0m_\u001b[0m \u001b[0;34m=\u001b[0m \u001b[0mcyclistes\u001b[0m\u001b[0;34m.\u001b[0m\u001b[0mgroupBy\u001b[0m\u001b[0;34m(\u001b[0m\u001b[0;34m[\u001b[0m\u001b[0;34m\"sur_velo\"\u001b[0m\u001b[0;34m]\u001b[0m\u001b[0;34m)\u001b[0m\u001b[0;34m.\u001b[0m\u001b[0magg\u001b[0m\u001b[0;34m(\u001b[0m\u001b[0mF\u001b[0m\u001b[0;34m.\u001b[0m\u001b[0mmin\u001b[0m\u001b[0;34m(\u001b[0m\u001b[0mcyclistes\u001b[0m\u001b[0;34m.\u001b[0m\u001b[0mdate\u001b[0m\u001b[0;34m)\u001b[0m\u001b[0;34m,\u001b[0m \u001b[0mF\u001b[0m\u001b[0;34m.\u001b[0m\u001b[0mmax\u001b[0m\u001b[0;34m(\u001b[0m\u001b[0mcyclistes\u001b[0m\u001b[0;34m.\u001b[0m\u001b[0mdate\u001b[0m\u001b[0;34m)\u001b[0m\u001b[0;34m)\u001b[0m\u001b[0;34m\u001b[0m\u001b[0;34m\u001b[0m\u001b[0m\n\u001b[0m\u001b[1;32m      2\u001b[0m \u001b[0m_\u001b[0m\u001b[0;34m.\u001b[0m\u001b[0mcollect\u001b[0m\u001b[0;34m(\u001b[0m\u001b[0;34m)\u001b[0m\u001b[0;34m\u001b[0m\u001b[0;34m\u001b[0m\u001b[0m\n",
      "\u001b[0;31mNameError\u001b[0m: name 'cyclistes' is not defined"
     ]
    }
   ],
   "source": [
    "_ = cyclistes.groupBy([\"sur_velo\"]).agg(F.min(cyclistes.date), F.max(cyclistes.date))\n",
    "_.collect()"
   ]
  },
  {
   "cell_type": "code",
   "execution_count": 46,
   "metadata": {},
   "outputs": [
    {
     "ename": "NameError",
     "evalue": "name 'cyclistes' is not defined",
     "output_type": "error",
     "traceback": [
      "\u001b[0;31m---------------------------------------------------------------------------\u001b[0m",
      "\u001b[0;31mNameError\u001b[0m                                 Traceback (most recent call last)",
      "\u001b[0;32m<ipython-input-46-1f22f1573b58>\u001b[0m in \u001b[0;36m<module>\u001b[0;34m\u001b[0m\n\u001b[0;32m----> 1\u001b[0;31m \u001b[0m_\u001b[0m \u001b[0;34m=\u001b[0m \u001b[0mcyclistes\u001b[0m\u001b[0;34m.\u001b[0m\u001b[0msort\u001b[0m\u001b[0;34m(\u001b[0m\u001b[0;34m[\u001b[0m\u001b[0;34m\"id\"\u001b[0m\u001b[0;34m,\u001b[0m \u001b[0;34m\"date\"\u001b[0m\u001b[0;34m]\u001b[0m\u001b[0;34m)\u001b[0m\u001b[0;34m.\u001b[0m\u001b[0mgroupBy\u001b[0m\u001b[0;34m(\u001b[0m\u001b[0;34m[\u001b[0m\u001b[0;34m\"id\"\u001b[0m\u001b[0;34m,\u001b[0m \u001b[0;34m\"sur_velo\"\u001b[0m\u001b[0;34m]\u001b[0m\u001b[0;34m)\u001b[0m\u001b[0;31m\\\u001b[0m\u001b[0;34m\u001b[0m\u001b[0;34m\u001b[0m\u001b[0m\n\u001b[0m\u001b[1;32m      2\u001b[0m                       \u001b[0;34m.\u001b[0m\u001b[0magg\u001b[0m\u001b[0;34m(\u001b[0m\u001b[0mF\u001b[0m\u001b[0;34m.\u001b[0m\u001b[0mmin\u001b[0m\u001b[0;34m(\u001b[0m\u001b[0mcyclistes\u001b[0m\u001b[0;34m.\u001b[0m\u001b[0mdate\u001b[0m\u001b[0;34m)\u001b[0m\u001b[0;34m,\u001b[0m \u001b[0mF\u001b[0m\u001b[0;34m.\u001b[0m\u001b[0mmax\u001b[0m\u001b[0;34m(\u001b[0m\u001b[0mcyclistes\u001b[0m\u001b[0;34m.\u001b[0m\u001b[0mdate\u001b[0m\u001b[0;34m)\u001b[0m\u001b[0;34m)\u001b[0m\u001b[0;34m.\u001b[0m\u001b[0msort\u001b[0m\u001b[0;34m(\u001b[0m\u001b[0;34m\"id\"\u001b[0m\u001b[0;34m)\u001b[0m\u001b[0;34m\u001b[0m\u001b[0;34m\u001b[0m\u001b[0m\n\u001b[1;32m      3\u001b[0m \u001b[0m_\u001b[0m\u001b[0;34m.\u001b[0m\u001b[0mtake\u001b[0m\u001b[0;34m(\u001b[0m\u001b[0;36m5\u001b[0m\u001b[0;34m)\u001b[0m\u001b[0;34m\u001b[0m\u001b[0;34m\u001b[0m\u001b[0m\n",
      "\u001b[0;31mNameError\u001b[0m: name 'cyclistes' is not defined"
     ]
    }
   ],
   "source": [
    "_ = cyclistes.sort([\"id\", \"date\"]).groupBy([\"id\", \"sur_velo\"])\\\n",
    "                      .agg(F.min(cyclistes.date), F.max(cyclistes.date)).sort(\"id\")\n",
    "_.take(5)"
   ]
  },
  {
   "cell_type": "markdown",
   "metadata": {},
   "source": [
    "2) Le résultat n'est pas trés pertinent, il faudrait plutôt le début et la fin de chaque trajet par id. Pour cela, il faudrait détecter les changements d'états \"sur_vélo\".\n",
    "Utilisez la classe Window() et la fonction F.lag() pour créer une nouvelle colonne que vous appellerez changement, contenant un 0 si l'état précedent de sur_velo est le même et un 1 si l'état vient de changer (fonction changement() ci-dessous) pour chaque id."
   ]
  },
  {
   "cell_type": "code",
   "execution_count": null,
   "metadata": {},
   "outputs": [],
   "source": [
    "from pyspark.sql.functions import udf"
   ]
  },
  {
   "cell_type": "code",
   "execution_count": null,
   "metadata": {},
   "outputs": [],
   "source": [
    "@udf(returnType = IntegerType())\n",
    "def changement(etat_actuel, etat_precedent):\n",
    "    \"\"\"\n",
    "    Détecte si les deux états sont différent.\n",
    "    \n",
    "    Parametres :\n",
    "        etat_actuel : valeur sur la ligne courante\n",
    "                      renvoyée par F.lag (0)\n",
    "        etat_precedent : valeur sur la ligne précédente\n",
    "                      renvoyée par F.lag(1)\n",
    "    Return: 0 s'ils sont égaux, 1 s'il y a une différence\n",
    "    \"\"\"\n",
    "    if etat_precedent == None:\n",
    "        return 0\n",
    "    if etat_precedent == etat_actuel:\n",
    "        return 0\n",
    "    if etat_actuel != etat_precedent:\n",
    "        return 1"
   ]
  },
  {
   "cell_type": "code",
   "execution_count": null,
   "metadata": {},
   "outputs": [],
   "source": [
    "from pyspark.sql.window import Window"
   ]
  },
  {
   "cell_type": "code",
   "execution_count": null,
   "metadata": {},
   "outputs": [],
   "source": [
    "w = Window.orderBy([\"id\", \"date\"])"
   ]
  },
  {
   "cell_type": "code",
   "execution_count": null,
   "metadata": {},
   "outputs": [],
   "source": [
    "cyclistes = cyclistes.withColumn(\"changement\", changement( F.lag(\"sur_velo\", 0).over(w), F.lag(\"sur_velo\", 1).over(w)))"
   ]
  },
  {
   "cell_type": "code",
   "execution_count": null,
   "metadata": {},
   "outputs": [],
   "source": [
    "cyclistes.printSchema()"
   ]
  },
  {
   "cell_type": "code",
   "execution_count": null,
   "metadata": {},
   "outputs": [],
   "source": [
    "#cyclistes.select(\"id\", \"timestamp\", \"velo\", \"changement\").sort(\"id\", \"timestamp\").take(100)"
   ]
  },
  {
   "cell_type": "markdown",
   "metadata": {},
   "source": [
    "3) Grâce à la fonction window appliquez la fonction somme() sur la colonne changement pour numeroter les trajets pour chaque id et stocker les résulats dans une nouvelle colonne appelée numero_de_trajet."
   ]
  },
  {
   "cell_type": "code",
   "execution_count": null,
   "metadata": {},
   "outputs": [],
   "source": [
    "@udf(returnType = IntegerType())\n",
    "def somme(indice_actuel, indice_precedent):\n",
    "    if indice_precedent == None:\n",
    "        return 0\n",
    "    return indice_actuel + indice_precedent"
   ]
  },
  {
   "cell_type": "code",
   "execution_count": null,
   "metadata": {},
   "outputs": [],
   "source": [
    "windowval = Window.orderBy([\"id\", \"date\"])\n",
    "windowval = windowval.partitionBy(\"id\")\n",
    "windowval = windowval.rangeBetween(Window.unboundedPreceding, 0)"
   ]
  },
  {
   "cell_type": "code",
   "execution_count": null,
   "metadata": {},
   "outputs": [],
   "source": [
    "cyclistes = cyclistes.withColumn(\"numero_de_trajet\", F.sum(\"changement\").over(windowval))"
   ]
  },
  {
   "cell_type": "code",
   "execution_count": null,
   "metadata": {},
   "outputs": [],
   "source": [
    "cyclistes.printSchema()"
   ]
  },
  {
   "cell_type": "code",
   "execution_count": null,
   "metadata": {},
   "outputs": [],
   "source": [
    "cyclistes.select(\"id\", \"timestamp\", \"changement\", \"numero_de_trajet\").take(5)"
   ]
  },
  {
   "cell_type": "code",
   "execution_count": null,
   "metadata": {},
   "outputs": [],
   "source": []
  },
  {
   "cell_type": "markdown",
   "metadata": {},
   "source": [
    "4) Il suffit maintenant de repêter la première étape, c'est a dire récupérer la début et la fin de chaque trajet pour chaque id. Puis calculer la durée des trajets."
   ]
  },
  {
   "cell_type": "code",
   "execution_count": null,
   "metadata": {},
   "outputs": [],
   "source": [
    "if False:\n",
    "    debut_fin_trajets = cyclistes.groupBy([\"id\", \"numero_de_trajet\"])\\\n",
    "                                        .agg(   F.min(cyclistes.date) , \n",
    "                                                F.max(cyclistes.date) )\n"
   ]
  },
  {
   "cell_type": "code",
   "execution_count": null,
   "metadata": {},
   "outputs": [],
   "source": [
    "trajets = cyclistes\n",
    "debut_fin_trajets = trajets.groupBy([\"id\", \"numero_de_trajet\"]).agg(F.min(cyclistes.date),F.max(cyclistes.date))\n",
    "debut_fin_trajets.take(4)"
   ]
  },
  {
   "cell_type": "code",
   "execution_count": null,
   "metadata": {},
   "outputs": [],
   "source": [
    "trajets = trajets.groupBy([\"id\", \"numero_de_trajet\"])\n",
    "trajets = trajets.agg(F.unix_timestamp(F.max(cyclistes.date)) - F.unix_timestamp(F.min(cyclistes.date)))\n",
    "trajets = trajets.sort(\"id\")"
   ]
  },
  {
   "cell_type": "code",
   "execution_count": null,
   "metadata": {},
   "outputs": [],
   "source": [
    "trajets.printSchema()"
   ]
  },
  {
   "cell_type": "code",
   "execution_count": null,
   "metadata": {},
   "outputs": [],
   "source": [
    "trajets = trajets.withColumnRenamed(\"(unix_timestamp(max(date), yyyy-MM-dd HH:mm:ss) - unix_timestamp(min(date), yyyy-MM-dd HH:mm:ss))\", \"duree\")\n",
    "trajets.take(4)\n",
    "\n"
   ]
  },
  {
   "cell_type": "markdown",
   "metadata": {},
   "source": [
    "# 7) Datavisualisation\n",
    "\n",
    "Convertissez votre dataframe pyspark en dataframe pandas."
   ]
  },
  {
   "cell_type": "code",
   "execution_count": 1,
   "metadata": {},
   "outputs": [],
   "source": [
    "import seaborn as sns\n",
    "%matplotlib inline"
   ]
  },
  {
   "cell_type": "code",
   "execution_count": 2,
   "metadata": {},
   "outputs": [
    {
     "ename": "NameError",
     "evalue": "name 'trajets' is not defined",
     "output_type": "error",
     "traceback": [
      "\u001b[0;31m---------------------------------------------------------------------------\u001b[0m",
      "\u001b[0;31mNameError\u001b[0m                                 Traceback (most recent call last)",
      "\u001b[0;32m<ipython-input-2-8e7af2c4f49f>\u001b[0m in \u001b[0;36m<module>\u001b[0;34m\u001b[0m\n\u001b[0;32m----> 1\u001b[0;31m \u001b[0mdf_pandas\u001b[0m \u001b[0;34m=\u001b[0m \u001b[0mtrajets\u001b[0m\u001b[0;34m.\u001b[0m\u001b[0mtoPandas\u001b[0m\u001b[0;34m(\u001b[0m\u001b[0;34m)\u001b[0m\u001b[0;34m\u001b[0m\u001b[0;34m\u001b[0m\u001b[0m\n\u001b[0m\u001b[1;32m      2\u001b[0m \u001b[0mdf_pandas\u001b[0m\u001b[0;34m.\u001b[0m\u001b[0mhead\u001b[0m\u001b[0;34m(\u001b[0m\u001b[0;34m)\u001b[0m\u001b[0;34m\u001b[0m\u001b[0;34m\u001b[0m\u001b[0m\n",
      "\u001b[0;31mNameError\u001b[0m: name 'trajets' is not defined"
     ]
    }
   ],
   "source": [
    "df_pandas = trajets.toPandas()\n",
    "df_pandas.head()\n"
   ]
  },
  {
   "cell_type": "code",
   "execution_count": null,
   "metadata": {},
   "outputs": [],
   "source": []
  },
  {
   "cell_type": "markdown",
   "metadata": {},
   "source": [
    "A l'aide de la librairie seaborn, réalisez un graphique en barre montrant la durée de tout les trajets."
   ]
  },
  {
   "cell_type": "code",
   "execution_count": null,
   "metadata": {},
   "outputs": [],
   "source": []
  },
  {
   "cell_type": "markdown",
   "metadata": {},
   "source": [
    "Faire le même graphique mais cette fois-ci, faire en sorte qu'on puisse choisir un id et afficher seulement les trajets de cet id."
   ]
  },
  {
   "cell_type": "code",
   "execution_count": null,
   "metadata": {},
   "outputs": [],
   "source": []
  },
  {
   "cell_type": "markdown",
   "metadata": {},
   "source": [
    "Sauvegardez votre dataset trajets au format csv dans le dossier data."
   ]
  },
  {
   "cell_type": "code",
   "execution_count": null,
   "metadata": {
    "scrolled": true
   },
   "outputs": [],
   "source": []
  }
 ],
 "metadata": {
  "kernelspec": {
   "display_name": "Python 3",
   "language": "python",
   "name": "python3"
  },
  "language_info": {
   "codemirror_mode": {
    "name": "ipython",
    "version": 3
   },
   "file_extension": ".py",
   "mimetype": "text/x-python",
   "name": "python",
   "nbconvert_exporter": "python",
   "pygments_lexer": "ipython3",
   "version": "3.8.6"
  }
 },
 "nbformat": 4,
 "nbformat_minor": 2
}
