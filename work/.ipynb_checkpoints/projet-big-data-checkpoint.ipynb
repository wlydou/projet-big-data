{
 "cells": [
  {
   "cell_type": "code",
   "execution_count": 52,
   "id": "hydraulic-explorer",
   "metadata": {},
   "outputs": [],
   "source": [
    "#pip install streamlit"
   ]
  },
  {
   "cell_type": "code",
   "execution_count": 53,
   "id": "incident-beatles",
   "metadata": {},
   "outputs": [],
   "source": [
    "#pip install plotly\n"
   ]
  },
  {
   "cell_type": "code",
   "execution_count": 54,
   "id": "confident-vinyl",
   "metadata": {},
   "outputs": [],
   "source": [
    "import plotly.express as px"
   ]
  },
  {
   "cell_type": "code",
   "execution_count": 55,
   "id": "personalized-seventh",
   "metadata": {},
   "outputs": [],
   "source": [
    "from pyspark.sql import SparkSession\n",
    "spark = SparkSession.builder.getOrCreate()"
   ]
  },
  {
   "cell_type": "code",
   "execution_count": 56,
   "id": "identified-watts",
   "metadata": {},
   "outputs": [
    {
     "name": "stdout",
     "output_type": "stream",
     "text": [
      "root\n",
      " |-- dep: string (nullable = true)\n",
      " |-- clage_vacsi: string (nullable = true)\n",
      " |-- jour: string (nullable = true)\n",
      " |-- n_dose1: string (nullable = true)\n",
      " |-- n_cum_dose1: string (nullable = true)\n",
      "\n"
     ]
    }
   ],
   "source": [
    "vaccinations = spark.read.load(\"./data/Vaccinations/\", format=\"csv\", header=True, inferSchema=\"True\")\n",
    "vaccinations.printSchema()"
   ]
  },
  {
   "cell_type": "markdown",
   "id": "central-terrain",
   "metadata": {},
   "source": [
    "vaccinations.groupBy([\"dep\", \"clage_vacsi\"]).sum(\"n_dose1\").sort([\"dep\", \"clage_vacsi\"]).take(100)"
   ]
  },
  {
   "cell_type": "markdown",
   "id": "streaming-disclaimer",
   "metadata": {},
   "source": [
    "# Nombre de vaccinées par tranche d'âge"
   ]
  },
  {
   "cell_type": "code",
   "execution_count": 69,
   "id": "naughty-customer",
   "metadata": {},
   "outputs": [],
   "source": [
    "vacc = spark.read.load(\"./data/Vaccinations/vacsi-a-dep-2021-02-03-20h15.csv\", format=\"csv\", header=True, inferSchema=\"True\")\n",
    "#vacc.printSchema()"
   ]
  },
  {
   "cell_type": "code",
   "execution_count": 70,
   "id": "standing-diamond",
   "metadata": {},
   "outputs": [],
   "source": [
    "newvacc = vacc.select([\"clage_vacsi\", \"n_cum_dose1\"])\n",
    "#newvacc.collect()"
   ]
  },
  {
   "cell_type": "code",
   "execution_count": 71,
   "id": "built-winning",
   "metadata": {},
   "outputs": [],
   "source": [
    "nbVaccByAge = newvacc.where( newvacc.clage_vacsi != \"0\").groupBy(\"clage_vacsi\").agg({\"n_cum_dose1\" : \"max\"}).sort([\"clage_vacsi\"])"
   ]
  },
  {
   "cell_type": "code",
   "execution_count": 72,
   "id": "closing-reynolds",
   "metadata": {},
   "outputs": [],
   "source": [
    "#newvacc.where( newvacc.clage_vacsi == \"0\").groupBy(\"clage_vacsi\").agg({\"n_cum_dose1\" : \"max\"}).sort([\"clage_vacsi\"]).collect()"
   ]
  },
  {
   "cell_type": "code",
   "execution_count": 73,
   "id": "auburn-wrestling",
   "metadata": {},
   "outputs": [
    {
     "name": "stdout",
     "output_type": "stream",
     "text": [
      "+-----------+----------------+\n",
      "|clage_vacsi|max(n_cum_dose1)|\n",
      "+-----------+----------------+\n",
      "|         24|             325|\n",
      "|         29|             809|\n",
      "|         39|            2218|\n",
      "|         49|            3169|\n",
      "|         59|            9925|\n",
      "|         64|            4356|\n",
      "|         69|            3364|\n",
      "|         74|            3636|\n",
      "|         79|            9318|\n",
      "|         80|           17667|\n",
      "+-----------+----------------+\n",
      "\n"
     ]
    }
   ],
   "source": [
    "nbVaccByAge.show()\n"
   ]
  },
  {
   "cell_type": "code",
   "execution_count": 74,
   "id": "defensive-jersey",
   "metadata": {},
   "outputs": [
    {
     "data": {
      "text/plain": [
       "[Row(clage_vacsi=24, max(n_cum_dose1)=325),\n",
       " Row(clage_vacsi=29, max(n_cum_dose1)=809),\n",
       " Row(clage_vacsi=39, max(n_cum_dose1)=2218),\n",
       " Row(clage_vacsi=49, max(n_cum_dose1)=3169),\n",
       " Row(clage_vacsi=59, max(n_cum_dose1)=9925),\n",
       " Row(clage_vacsi=64, max(n_cum_dose1)=4356),\n",
       " Row(clage_vacsi=69, max(n_cum_dose1)=3364),\n",
       " Row(clage_vacsi=74, max(n_cum_dose1)=3636),\n",
       " Row(clage_vacsi=79, max(n_cum_dose1)=9318),\n",
       " Row(clage_vacsi=80, max(n_cum_dose1)=17667)]"
      ]
     },
     "execution_count": 74,
     "metadata": {},
     "output_type": "execute_result"
    }
   ],
   "source": [
    "nbVaccByAge.collect()\n"
   ]
  },
  {
   "cell_type": "code",
   "execution_count": 75,
   "id": "focused-consensus",
   "metadata": {},
   "outputs": [
    {
     "data": {
      "text/plain": [
       "pyspark.sql.dataframe.DataFrame"
      ]
     },
     "execution_count": 75,
     "metadata": {},
     "output_type": "execute_result"
    }
   ],
   "source": [
    "type(nbVaccByAge)"
   ]
  },
  {
   "cell_type": "code",
   "execution_count": 76,
   "id": "numerous-pregnancy",
   "metadata": {},
   "outputs": [
    {
     "name": "stdout",
     "output_type": "stream",
     "text": [
      "+-----------+----------------+\n",
      "|clage_vacsi|max(n_cum_dose1)|\n",
      "+-----------+----------------+\n",
      "|         24|             325|\n",
      "|         29|             809|\n",
      "|         39|            2218|\n",
      "|         49|            3169|\n",
      "|         59|            9925|\n",
      "|         64|            4356|\n",
      "|         69|            3364|\n",
      "|         74|            3636|\n",
      "|         79|            9318|\n",
      "|         80|           17667|\n",
      "+-----------+----------------+\n",
      "\n"
     ]
    }
   ],
   "source": [
    "nbVaccByAge.show()\n"
   ]
  },
  {
   "cell_type": "code",
   "execution_count": 77,
   "id": "victorian-special",
   "metadata": {},
   "outputs": [],
   "source": [
    "#Sauvegarder les données récupérées dans un csv\n",
    "nbVaccByAge.toPandas().to_csv(\"./data/save/nb_vacc_by_age.csv\", header=True, index=False)"
   ]
  },
  {
   "cell_type": "code",
   "execution_count": 78,
   "id": "cooked-jason",
   "metadata": {},
   "outputs": [],
   "source": [
    "#lire le csv sauvegardé\n",
    "\n",
    "#nbVaccByAge_data = spark.read.load(\"./data/save/nb_vacc_by_age.csv\", format=\"csv\", header=True, inferSchema=\"True\")\n",
    "\n",
    "nbVaccByAge_data = pd.read_csv('./data/save/nb_vacc_by_age.csv')"
   ]
  },
  {
   "cell_type": "code",
   "execution_count": 79,
   "id": "removable-white",
   "metadata": {},
   "outputs": [
    {
     "data": {
      "text/plain": [
       "pandas.core.frame.DataFrame"
      ]
     },
     "execution_count": 79,
     "metadata": {},
     "output_type": "execute_result"
    }
   ],
   "source": [
    "type(nbVaccByAge_data)"
   ]
  },
  {
   "cell_type": "code",
   "execution_count": 102,
   "id": "incredible-bulgaria",
   "metadata": {},
   "outputs": [
    {
     "data": {
      "text/html": [
       "<div>\n",
       "<style scoped>\n",
       "    .dataframe tbody tr th:only-of-type {\n",
       "        vertical-align: middle;\n",
       "    }\n",
       "\n",
       "    .dataframe tbody tr th {\n",
       "        vertical-align: top;\n",
       "    }\n",
       "\n",
       "    .dataframe thead th {\n",
       "        text-align: right;\n",
       "    }\n",
       "</style>\n",
       "<table border=\"1\" class=\"dataframe\">\n",
       "  <thead>\n",
       "    <tr style=\"text-align: right;\">\n",
       "      <th></th>\n",
       "      <th>clage_vacsi</th>\n",
       "      <th>max(n_cum_dose1)</th>\n",
       "    </tr>\n",
       "  </thead>\n",
       "  <tbody>\n",
       "    <tr>\n",
       "      <th>0</th>\n",
       "      <td>24</td>\n",
       "      <td>325</td>\n",
       "    </tr>\n",
       "    <tr>\n",
       "      <th>1</th>\n",
       "      <td>29</td>\n",
       "      <td>809</td>\n",
       "    </tr>\n",
       "    <tr>\n",
       "      <th>2</th>\n",
       "      <td>39</td>\n",
       "      <td>2218</td>\n",
       "    </tr>\n",
       "    <tr>\n",
       "      <th>3</th>\n",
       "      <td>49</td>\n",
       "      <td>3169</td>\n",
       "    </tr>\n",
       "    <tr>\n",
       "      <th>4</th>\n",
       "      <td>59</td>\n",
       "      <td>9925</td>\n",
       "    </tr>\n",
       "    <tr>\n",
       "      <th>5</th>\n",
       "      <td>64</td>\n",
       "      <td>4356</td>\n",
       "    </tr>\n",
       "    <tr>\n",
       "      <th>6</th>\n",
       "      <td>69</td>\n",
       "      <td>3364</td>\n",
       "    </tr>\n",
       "    <tr>\n",
       "      <th>7</th>\n",
       "      <td>74</td>\n",
       "      <td>3636</td>\n",
       "    </tr>\n",
       "    <tr>\n",
       "      <th>8</th>\n",
       "      <td>79</td>\n",
       "      <td>9318</td>\n",
       "    </tr>\n",
       "    <tr>\n",
       "      <th>9</th>\n",
       "      <td>80</td>\n",
       "      <td>17667</td>\n",
       "    </tr>\n",
       "  </tbody>\n",
       "</table>\n",
       "</div>"
      ],
      "text/plain": [
       "   clage_vacsi  max(n_cum_dose1)\n",
       "0           24               325\n",
       "1           29               809\n",
       "2           39              2218\n",
       "3           49              3169\n",
       "4           59              9925\n",
       "5           64              4356\n",
       "6           69              3364\n",
       "7           74              3636\n",
       "8           79              9318\n",
       "9           80             17667"
      ]
     },
     "execution_count": 102,
     "metadata": {},
     "output_type": "execute_result"
    }
   ],
   "source": [
    "nbVaccByAge_data"
   ]
  },
  {
   "cell_type": "code",
   "execution_count": 199,
   "id": "impressed-commonwealth",
   "metadata": {},
   "outputs": [],
   "source": [
    "#Config Sizes and Labels\n",
    "df = nbVaccByAge_data\n",
    "labels= []\n",
    "sizes = []\n",
    "\n",
    "for i in range(len(df)):\n",
    "    labels.append(df[\"clage_vacsi\"][i])\n",
    "    sizes.append(df[\"max(n_cum_dose1)\"][i])"
   ]
  },
  {
   "cell_type": "code",
   "execution_count": 200,
   "id": "provincial-university",
   "metadata": {},
   "outputs": [
    {
     "name": "stdout",
     "output_type": "stream",
     "text": [
      "(0.1, 0.1, 0.1, 0.1, 0.1, 0.1, 0.1, 0.1, 0.1, 0.1)\n"
     ]
    }
   ],
   "source": [
    "# Explode\n",
    "explode = ()\n",
    "explode = list(explode)\n",
    "\n",
    "for i in range(len(df)):\n",
    "    explode.append(0.1)\n",
    "    \n",
    "explode = tuple(explode)\n",
    "\n",
    "print(explode)"
   ]
  },
  {
   "cell_type": "code",
   "execution_count": 201,
   "id": "reasonable-cycling",
   "metadata": {},
   "outputs": [
    {
     "data": {
      "image/png": "[encoded data removed]",
      "text/plain": [
       "<Figure size 432x288 with 1 Axes>"
      ]
     },
     "metadata": {},
     "output_type": "display_data"
    }
   ],
   "source": [
    "import matplotlib.pyplot as plt\n",
    "\n",
    "fig1, ax1 = plt.subplots()\n",
    "ax1.pie(sizes, explode=explode, labels=labels, autopct='%1.f%%', \n",
    "        shadow=False, startangle=90)\n",
    "ax1.axis('equal')  # Equal aspect ratio ensures that pie is drawn as a circle.\n",
    "\n",
    "plt.show()\n"
   ]
  },
  {
   "cell_type": "code",
   "execution_count": null,
   "id": "statutory-craps",
   "metadata": {},
   "outputs": [],
   "source": []
  },
  {
   "cell_type": "code",
   "execution_count": null,
   "id": "living-adventure",
   "metadata": {},
   "outputs": [],
   "source": []
  },
  {
   "cell_type": "code",
   "execution_count": null,
   "id": "imposed-company",
   "metadata": {},
   "outputs": [],
   "source": []
  }
 ],
 "metadata": {
  "kernelspec": {
   "display_name": "Python 3",
   "language": "python",
   "name": "python3"
  },
  "language_info": {
   "codemirror_mode": {
    "name": "ipython",
    "version": 3
   },
   "file_extension": ".py",
   "mimetype": "text/x-python",
   "name": "python",
   "nbconvert_exporter": "python",
   "pygments_lexer": "ipython3",
   "version": "3.8.6"
  }
 },
 "nbformat": 4,
 "nbformat_minor": 5
}
