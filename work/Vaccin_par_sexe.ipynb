{
 "cells": [
  {
   "cell_type": "code",
   "execution_count": 66,
   "metadata": {},
   "outputs": [],
   "source": [
    "%matplotlib inline"
   ]
  },
  {
   "cell_type": "code",
   "execution_count": 67,
   "metadata": {},
   "outputs": [],
   "source": [
    "from pyspark.sql import SparkSession\n",
    "from pandas import DataFrame\n",
    "spark = SparkSession.builder.getOrCreate()"
   ]
  },
  {
   "cell_type": "markdown",
   "metadata": {},
   "source": [
    "# Nombre de vaccinées par sexe"
   ]
  },
  {
   "cell_type": "code",
   "execution_count": 68,
   "metadata": {},
   "outputs": [],
   "source": [
    "vaccin = spark.read.load(\"./data/Vaccinations/hom-fem.csv\", format=\"csv\", header=True, inferSchema=\"True\")"
   ]
  },
  {
   "cell_type": "code",
   "execution_count": 69,
   "metadata": {},
   "outputs": [
    {
     "name": "stdout",
     "output_type": "stream",
     "text": [
      "root\n",
      " |-- fra: string (nullable = true)\n",
      " |-- sexe: integer (nullable = true)\n",
      " |-- jour: string (nullable = true)\n",
      " |-- n_dose1: integer (nullable = true)\n",
      " |-- n_cum_dose1: integer (nullable = true)\n",
      "\n"
     ]
    }
   ],
   "source": [
    "vaccin.printSchema()"
   ]
  },
  {
   "cell_type": "code",
   "execution_count": 70,
   "metadata": {},
   "outputs": [
    {
     "data": {
      "text/plain": [
       "[Row(fra='FR', sexe=1, jour='2020-12-27', n_dose1=7, n_cum_dose1=7),\n",
       " Row(fra='FR', sexe=1, jour='2020-12-28', n_dose1=9, n_cum_dose1=16),\n",
       " Row(fra='FR', sexe=1, jour='2020-12-29', n_dose1=31, n_cum_dose1=47),\n",
       " Row(fra='FR', sexe=1, jour='2020-12-30', n_dose1=37, n_cum_dose1=84),\n",
       " Row(fra='FR', sexe=1, jour='2020-12-31', n_dose1=18, n_cum_dose1=102),\n",
       " Row(fra='FR', sexe=1, jour='2021-01-01', n_dose1=12, n_cum_dose1=114),\n",
       " Row(fra='FR', sexe=1, jour='2021-01-02', n_dose1=28, n_cum_dose1=142),\n",
       " Row(fra='FR', sexe=1, jour='2021-01-03', n_dose1=43, n_cum_dose1=185),\n",
       " Row(fra='FR', sexe=1, jour='2021-01-04', n_dose1=596, n_cum_dose1=781),\n",
       " Row(fra='FR', sexe=1, jour='2021-01-05', n_dose1=2120, n_cum_dose1=2901)]"
      ]
     },
     "execution_count": 70,
     "metadata": {},
     "output_type": "execute_result"
    }
   ],
   "source": [
    "vaccin.take(10)"
   ]
  },
  {
   "cell_type": "code",
   "execution_count": 71,
   "metadata": {},
   "outputs": [
    {
     "data": {
      "text/html": [
       "<div>\n",
       "<style scoped>\n",
       "    .dataframe tbody tr th:only-of-type {\n",
       "        vertical-align: middle;\n",
       "    }\n",
       "\n",
       "    .dataframe tbody tr th {\n",
       "        vertical-align: top;\n",
       "    }\n",
       "\n",
       "    .dataframe thead th {\n",
       "        text-align: right;\n",
       "    }\n",
       "</style>\n",
       "<table border=\"1\" class=\"dataframe\">\n",
       "  <thead>\n",
       "    <tr style=\"text-align: right;\">\n",
       "      <th></th>\n",
       "      <th>sexe</th>\n",
       "      <th>n_cum_dose1</th>\n",
       "    </tr>\n",
       "  </thead>\n",
       "  <tbody>\n",
       "    <tr>\n",
       "      <th>0</th>\n",
       "      <td>1</td>\n",
       "      <td>636250</td>\n",
       "    </tr>\n",
       "    <tr>\n",
       "      <th>1</th>\n",
       "      <td>2</td>\n",
       "      <td>978221</td>\n",
       "    </tr>\n",
       "  </tbody>\n",
       "</table>\n",
       "</div>"
      ],
      "text/plain": [
       "   sexe  n_cum_dose1\n",
       "0     1       636250\n",
       "1     2       978221"
      ]
     },
     "execution_count": 71,
     "metadata": {},
     "output_type": "execute_result"
    }
   ],
   "source": [
    "newVaccin = vaccin.select(['sexe','n_cum_dose1'])\n",
    "maxVaccin = newVaccin.where(newVaccin.sexe != '0').groupBy(\"sexe\").agg({\"n_cum_dose1\" : \"max\"}).collect()\n",
    "maxVaccin = DataFrame(maxVaccin, columns=['sexe','n_cum_dose1'])\n",
    "maxVaccin"
   ]
  },
  {
   "cell_type": "code",
   "execution_count": 72,
   "metadata": {},
   "outputs": [
    {
     "data": {
      "image/png": "[encoded data removed]",
      "text/plain": [
       "<Figure size 504x504 with 1 Axes>"
      ]
     },
     "metadata": {},
     "output_type": "display_data"
    }
   ],
   "source": [
    "import matplotlib.pyplot as plt\n",
    "\n",
    "# Pie chart, where the slices will be ordered and plotted counter-clockwise:\n",
    "labelsT = 'Homme', 'Femme'\n",
    "sizesT = []\n",
    "\n",
    "for i in range(len(maxVaccin)):\n",
    "    sizesT.append(maxVaccin[\"n_cum_dose1\"][i])\n",
    "\n",
    "fig2, ax2 = plt.subplots()\n",
    "ax2.pie(sizesT, labels=labelsT, autopct='%1.1f%%',\n",
    "        shadow=True, startangle=90)\n",
    "ax2.axis('equal')  # Equal aspect ratio ensures that pie is drawn as a circle.\n",
    "\n",
    "figt = plt.gcf()\n",
    "figt.set_size_inches(7,7)\n",
    "\n",
    "plt.show()"
   ]
  },
  {
   "cell_type": "code",
   "execution_count": null,
   "metadata": {},
   "outputs": [],
   "source": []
  }
 ],
 "metadata": {
  "kernelspec": {
   "display_name": "Python 3",
   "language": "python",
   "name": "python3"
  },
  "language_info": {
   "codemirror_mode": {
    "name": "ipython",
    "version": 3
   },
   "file_extension": ".py",
   "mimetype": "text/x-python",
   "name": "python",
   "nbconvert_exporter": "python",
   "pygments_lexer": "ipython3",
   "version": "3.8.6"
  }
 },
 "nbformat": 4,
 "nbformat_minor": 1
}
