{
 "cells": [
  {
   "cell_type": "code",
   "execution_count": 1,
   "id": "indirect-interface",
   "metadata": {},
   "outputs": [],
   "source": [
    "from pyspark.sql import SparkSession\n",
    "spark = SparkSession.builder.getOrCreate()\n",
    "import matplotlib.pyplot as plt\n",
    "import numpy as np\n",
    "import pandas as pd\n",
    "%matplotlib inline"
   ]
  },
  {
   "cell_type": "code",
   "execution_count": 2,
   "id": "political-cement",
   "metadata": {},
   "outputs": [],
   "source": [
    "path = \"./data/Vaccinations/vacsi-fra-2021-02-03-20h15.csv\"\n",
    "totalVacFraDf = spark.read.format('csv').options(header=True, inferSchema=True).load(path)"
   ]
  },
  {
   "cell_type": "code",
   "execution_count": 3,
   "id": "comparable-sphere",
   "metadata": {},
   "outputs": [
    {
     "name": "stdout",
     "output_type": "stream",
     "text": [
      "root\n",
      " |-- fra: string (nullable = true)\n",
      " |-- jour: string (nullable = true)\n",
      " |-- n_dose1: integer (nullable = true)\n",
      " |-- n_cum_dose1: integer (nullable = true)\n",
      "\n"
     ]
    }
   ],
   "source": [
    "totalVacFraDf.printSchema()"
   ]
  },
  {
   "cell_type": "code",
   "execution_count": 4,
   "id": "owned-floating",
   "metadata": {},
   "outputs": [
    {
     "data": {
      "text/plain": [
       "[Row(fra='FR', jour='2020-12-27', n_dose1=13, n_cum_dose1=13),\n",
       " Row(fra='FR', jour='2020-12-28', n_dose1=39, n_cum_dose1=52),\n",
       " Row(fra='FR', jour='2020-12-29', n_dose1=95, n_cum_dose1=147),\n",
       " Row(fra='FR', jour='2020-12-30', n_dose1=103, n_cum_dose1=250),\n",
       " Row(fra='FR', jour='2020-12-31', n_dose1=79, n_cum_dose1=329),\n",
       " Row(fra='FR', jour='2021-01-01', n_dose1=27, n_cum_dose1=356),\n",
       " Row(fra='FR', jour='2021-01-02', n_dose1=54, n_cum_dose1=410),\n",
       " Row(fra='FR', jour='2021-01-03', n_dose1=75, n_cum_dose1=485),\n",
       " Row(fra='FR', jour='2021-01-04', n_dose1=1369, n_cum_dose1=1854),\n",
       " Row(fra='FR', jour='2021-01-05', n_dose1=5009, n_cum_dose1=6863),\n",
       " Row(fra='FR', jour='2021-01-06', n_dose1=10428, n_cum_dose1=17291),\n",
       " Row(fra='FR', jour='2021-01-07', n_dose1=26448, n_cum_dose1=43739),\n",
       " Row(fra='FR', jour='2021-01-08', n_dose1=33256, n_cum_dose1=76995),\n",
       " Row(fra='FR', jour='2021-01-09', n_dose1=10498, n_cum_dose1=87493),\n",
       " Row(fra='FR', jour='2021-01-10', n_dose1=5321, n_cum_dose1=92814),\n",
       " Row(fra='FR', jour='2021-01-11', n_dose1=34721, n_cum_dose1=127535),\n",
       " Row(fra='FR', jour='2021-01-12', n_dose1=54824, n_cum_dose1=182359),\n",
       " Row(fra='FR', jour='2021-01-13', n_dose1=57311, n_cum_dose1=239670),\n",
       " Row(fra='FR', jour='2021-01-14', n_dose1=71233, n_cum_dose1=310903),\n",
       " Row(fra='FR', jour='2021-01-15', n_dose1=59528, n_cum_dose1=370431),\n",
       " Row(fra='FR', jour='2021-01-16', n_dose1=17630, n_cum_dose1=388061),\n",
       " Row(fra='FR', jour='2021-01-17', n_dose1=9675, n_cum_dose1=397736),\n",
       " Row(fra='FR', jour='2021-01-18', n_dose1=76946, n_cum_dose1=474682),\n",
       " Row(fra='FR', jour='2021-01-19', n_dose1=118906, n_cum_dose1=593588),\n",
       " Row(fra='FR', jour='2021-01-20', n_dose1=124585, n_cum_dose1=718173),\n",
       " Row(fra='FR', jour='2021-01-21', n_dose1=143302, n_cum_dose1=861475),\n",
       " Row(fra='FR', jour='2021-01-22', n_dose1=110166, n_cum_dose1=971641),\n",
       " Row(fra='FR', jour='2021-01-23', n_dose1=35464, n_cum_dose1=1007105),\n",
       " Row(fra='FR', jour='2021-01-24', n_dose1=8842, n_cum_dose1=1015947),\n",
       " Row(fra='FR', jour='2021-01-25', n_dose1=71723, n_cum_dose1=1087670),\n",
       " Row(fra='FR', jour='2021-01-26', n_dose1=91963, n_cum_dose1=1179633),\n",
       " Row(fra='FR', jour='2021-01-27', n_dose1=98623, n_cum_dose1=1278256),\n",
       " Row(fra='FR', jour='2021-01-28', n_dose1=112689, n_cum_dose1=1390945),\n",
       " Row(fra='FR', jour='2021-01-29', n_dose1=83500, n_cum_dose1=1474445),\n",
       " Row(fra='FR', jour='2021-01-30', n_dose1=27106, n_cum_dose1=1501551),\n",
       " Row(fra='FR', jour='2021-01-31', n_dose1=4669, n_cum_dose1=1506220),\n",
       " Row(fra='FR', jour='2021-02-01', n_dose1=46637, n_cum_dose1=1552857),\n",
       " Row(fra='FR', jour='2021-02-02', n_dose1=62231, n_cum_dose1=1615088)]"
      ]
     },
     "execution_count": 4,
     "metadata": {},
     "output_type": "execute_result"
    }
   ],
   "source": [
    "totalVacFraDf.take(100)"
   ]
  },
  {
   "cell_type": "code",
   "execution_count": 5,
   "id": "automated-rolling",
   "metadata": {},
   "outputs": [],
   "source": [
    "newTotalVacFraDf = totalVacFraDf.select(['jour', 'n_dose1', 'n_cum_dose1'])"
   ]
  },
  {
   "cell_type": "code",
   "execution_count": 6,
   "id": "renewable-meaning",
   "metadata": {},
   "outputs": [
    {
     "data": {
      "text/plain": [
       "[Row(jour='2020-12-27', n_dose1=13, n_cum_dose1=13),\n",
       " Row(jour='2020-12-28', n_dose1=39, n_cum_dose1=52),\n",
       " Row(jour='2020-12-29', n_dose1=95, n_cum_dose1=147),\n",
       " Row(jour='2020-12-30', n_dose1=103, n_cum_dose1=250),\n",
       " Row(jour='2020-12-31', n_dose1=79, n_cum_dose1=329),\n",
       " Row(jour='2021-01-01', n_dose1=27, n_cum_dose1=356),\n",
       " Row(jour='2021-01-02', n_dose1=54, n_cum_dose1=410),\n",
       " Row(jour='2021-01-03', n_dose1=75, n_cum_dose1=485),\n",
       " Row(jour='2021-01-04', n_dose1=1369, n_cum_dose1=1854),\n",
       " Row(jour='2021-01-05', n_dose1=5009, n_cum_dose1=6863),\n",
       " Row(jour='2021-01-06', n_dose1=10428, n_cum_dose1=17291),\n",
       " Row(jour='2021-01-07', n_dose1=26448, n_cum_dose1=43739),\n",
       " Row(jour='2021-01-08', n_dose1=33256, n_cum_dose1=76995),\n",
       " Row(jour='2021-01-09', n_dose1=10498, n_cum_dose1=87493),\n",
       " Row(jour='2021-01-10', n_dose1=5321, n_cum_dose1=92814),\n",
       " Row(jour='2021-01-11', n_dose1=34721, n_cum_dose1=127535),\n",
       " Row(jour='2021-01-12', n_dose1=54824, n_cum_dose1=182359),\n",
       " Row(jour='2021-01-13', n_dose1=57311, n_cum_dose1=239670),\n",
       " Row(jour='2021-01-14', n_dose1=71233, n_cum_dose1=310903),\n",
       " Row(jour='2021-01-15', n_dose1=59528, n_cum_dose1=370431),\n",
       " Row(jour='2021-01-16', n_dose1=17630, n_cum_dose1=388061),\n",
       " Row(jour='2021-01-17', n_dose1=9675, n_cum_dose1=397736),\n",
       " Row(jour='2021-01-18', n_dose1=76946, n_cum_dose1=474682),\n",
       " Row(jour='2021-01-19', n_dose1=118906, n_cum_dose1=593588),\n",
       " Row(jour='2021-01-20', n_dose1=124585, n_cum_dose1=718173),\n",
       " Row(jour='2021-01-21', n_dose1=143302, n_cum_dose1=861475),\n",
       " Row(jour='2021-01-22', n_dose1=110166, n_cum_dose1=971641),\n",
       " Row(jour='2021-01-23', n_dose1=35464, n_cum_dose1=1007105),\n",
       " Row(jour='2021-01-24', n_dose1=8842, n_cum_dose1=1015947),\n",
       " Row(jour='2021-01-25', n_dose1=71723, n_cum_dose1=1087670),\n",
       " Row(jour='2021-01-26', n_dose1=91963, n_cum_dose1=1179633),\n",
       " Row(jour='2021-01-27', n_dose1=98623, n_cum_dose1=1278256),\n",
       " Row(jour='2021-01-28', n_dose1=112689, n_cum_dose1=1390945),\n",
       " Row(jour='2021-01-29', n_dose1=83500, n_cum_dose1=1474445),\n",
       " Row(jour='2021-01-30', n_dose1=27106, n_cum_dose1=1501551),\n",
       " Row(jour='2021-01-31', n_dose1=4669, n_cum_dose1=1506220),\n",
       " Row(jour='2021-02-01', n_dose1=46637, n_cum_dose1=1552857),\n",
       " Row(jour='2021-02-02', n_dose1=62231, n_cum_dose1=1615088)]"
      ]
     },
     "execution_count": 6,
     "metadata": {},
     "output_type": "execute_result"
    }
   ],
   "source": [
    "newTotalVacFraDf.take(100)"
   ]
  },
  {
   "cell_type": "code",
   "execution_count": 7,
   "id": "arbitrary-witness",
   "metadata": {},
   "outputs": [],
   "source": [
    "x = newTotalVacFraDf.select('jour').rdd.map(lambda row : row[0]).collect()\n",
    "y = newTotalVacFraDf.select('n_cum_dose1').rdd.map(lambda row : row[0]).collect()"
   ]
  },
  {
   "cell_type": "code",
   "execution_count": null,
   "id": "czech-potential",
   "metadata": {},
   "outputs": [],
   "source": [
    "fig=plt.figure()\n",
    "ax=fig.add_axes([0,0,1,1])\n",
    "\n",
    "ax.set_title('Vaccin')\n",
    "ax.set_xlabel('-------------x axis-------------')\n",
    "ax.set_ylabel('-------------y axis-------------')\n",
    "\n",
    "plt.plot(x,y,label='curve1')\n",
    "\n",
    "ax.legend()\n",
    "\n",
    "thisFig = plt.gcf()\n",
    "thisFig.set_size_inches(15,15)\n",
    "plt.show()"
   ]
  },
  {
   "cell_type": "code",
   "execution_count": null,
   "id": "retired-guarantee",
   "metadata": {},
   "outputs": [],
   "source": []
  },
  {
   "cell_type": "code",
   "execution_count": null,
   "id": "surprising-dimension",
   "metadata": {},
   "outputs": [],
   "source": []
  }
 ],
 "metadata": {
  "kernelspec": {
   "display_name": "Python 3",
   "language": "python",
   "name": "python3"
  },
  "language_info": {
   "codemirror_mode": {
    "name": "ipython",
    "version": 3
   },
   "file_extension": ".py",
   "mimetype": "text/x-python",
   "name": "python",
   "nbconvert_exporter": "python",
   "pygments_lexer": "ipython3",
   "version": "3.8.6"
  }
 },
 "nbformat": 4,
 "nbformat_minor": 5
}
