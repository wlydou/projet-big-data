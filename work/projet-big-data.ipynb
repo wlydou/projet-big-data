{
 "cells": [
  {
   "cell_type": "code",
   "execution_count": 1,
   "id": "hydraulic-explorer",
   "metadata": {},
   "outputs": [],
   "source": [
    "#pip install streamlit"
   ]
  },
  {
   "cell_type": "code",
   "execution_count": 2,
   "id": "incident-beatles",
   "metadata": {},
   "outputs": [],
   "source": [
    "#pip install plotly\n"
   ]
  },
  {
   "cell_type": "code",
   "execution_count": null,
   "id": "confident-vinyl",
   "metadata": {},
   "outputs": [],
   "source": [
    "import pandas as pd\n",
    "import numpy as np\n",
    "import streamlit as st\n",
    "import plotly.graph_objects as go\n",
    "from plotly import tools\n",
    "import plotly.offline as py\n",
    "import plotly.express as px"
   ]
  },
  {
   "cell_type": "code",
   "execution_count": null,
   "id": "personalized-seventh",
   "metadata": {},
   "outputs": [],
   "source": [
    "from pyspark.sql import SparkSession\n",
    "spark = SparkSession.builder.getOrCreate()"
   ]
  },
  {
   "cell_type": "code",
   "execution_count": null,
   "id": "identified-watts",
   "metadata": {},
   "outputs": [],
   "source": [
    "vaccinations = spark.read.load(\"./data/Vaccinations/\", format=\"csv\", header=True, inferSchema=\"True\")\n",
    "vaccinations.printSchema()"
   ]
  },
  {
   "cell_type": "markdown",
   "id": "central-terrain",
   "metadata": {},
   "source": [
    "vaccinations.groupBy([\"dep\", \"clage_vacsi\"]).sum(\"n_dose1\").sort([\"dep\", \"clage_vacsi\"]).take(100)"
   ]
  },
  {
   "cell_type": "markdown",
   "id": "streaming-disclaimer",
   "metadata": {},
   "source": [
    "# Nombre de vaccinées par tranche d'âge"
   ]
  },
  {
   "cell_type": "code",
   "execution_count": null,
   "id": "naughty-customer",
   "metadata": {},
   "outputs": [],
   "source": [
    "vacc = spark.read.load(\"./data/Vaccinations/\", format=\"csv\", header=True, inferSchema=\"True\")\n",
    "#vacc.printSchema()"
   ]
  },
  {
   "cell_type": "code",
   "execution_count": null,
   "id": "standing-diamond",
   "metadata": {},
   "outputs": [],
   "source": [
    "newvacc = vacc.select([\"clage_vacsi\", \"n_cum_dose1\"])\n",
    "#newvacc.collect()"
   ]
  },
  {
   "cell_type": "code",
   "execution_count": null,
   "id": "built-winning",
   "metadata": {},
   "outputs": [],
   "source": [
    "nbVaccByAge = newvacc.where( newvacc.clage_vacsi != \"0\").groupBy(\"clage_vacsi\").agg({\"n_cum_dose1\" : \"max\"}).sort([\"clage_vacsi\"])"
   ]
  },
  {
   "cell_type": "code",
   "execution_count": null,
   "id": "closing-reynolds",
   "metadata": {},
   "outputs": [],
   "source": [
    "#newvacc.where( newvacc.clage_vacsi == \"0\").groupBy(\"clage_vacsi\").agg({\"n_cum_dose1\" : \"max\"}).sort([\"clage_vacsi\"]).collect()"
   ]
  },
  {
   "cell_type": "code",
   "execution_count": null,
   "id": "auburn-wrestling",
   "metadata": {},
   "outputs": [],
   "source": [
    "nbVaccByAge.show()\n"
   ]
  },
  {
   "cell_type": "code",
   "execution_count": null,
   "id": "defensive-jersey",
   "metadata": {},
   "outputs": [],
   "source": [
    "nbVaccByAge.collect()\n"
   ]
  },
  {
   "cell_type": "code",
   "execution_count": null,
   "id": "focused-consensus",
   "metadata": {},
   "outputs": [],
   "source": [
    "type(nbVaccByAge)"
   ]
  },
  {
   "cell_type": "code",
   "execution_count": null,
   "id": "numerous-pregnancy",
   "metadata": {},
   "outputs": [],
   "source": [
    "nbVaccByAge.show()\n"
   ]
  },
  {
   "cell_type": "code",
   "execution_count": null,
   "id": "victorian-special",
   "metadata": {},
   "outputs": [],
   "source": [
    "#Sauvegarder les données récupérées dans un csv\n",
    "nbVaccByAge.toPandas().to_csv(\"./data/save/nb_vacc_by_age.csv\", header=True, index=False)"
   ]
  },
  {
   "cell_type": "code",
   "execution_count": null,
   "id": "cooked-jason",
   "metadata": {},
   "outputs": [],
   "source": [
    "#lire le csv sauvegardé\n",
    "\n",
    "#nbVaccByAge_data = spark.read.load(\"./data/save/nb_vacc_by_age.csv\", format=\"csv\", header=True, inferSchema=\"True\")\n",
    "\n",
    "nbVaccByAge_data = pd.read_csv('./data/save/nb_vacc_by_age.csv')"
   ]
  },
  {
   "cell_type": "code",
   "execution_count": null,
   "id": "removable-white",
   "metadata": {},
   "outputs": [],
   "source": [
    "type(nbVaccByAge_data)"
   ]
  },
  {
   "cell_type": "code",
   "execution_count": null,
   "id": "incredible-bulgaria",
   "metadata": {},
   "outputs": [],
   "source": [
    "nbVaccByAge_data.head()"
   ]
  },
  {
   "cell_type": "code",
   "execution_count": null,
   "id": "reasonable-cycling",
   "metadata": {},
   "outputs": [],
   "source": [
    "st.title(\"**♟**Explore E-com dashboard**♟**\")\n",
    "st.write(\"ABCD LE PROJET PYTHON\")"
   ]
  }
 ],
 "metadata": {
  "kernelspec": {
   "name": "python3",
   "display_name": "Python 3.8.6 64-bit",
   "metadata": {
    "interpreter": {
     "hash": "aee8b7b246df8f9039afb4144a1f6fd8d2ca17a180786b69acc140d282b71a49"
    }
   }
  },
  "language_info": {
   "codemirror_mode": {
    "name": "ipython",
    "version": 3
   },
   "file_extension": ".py",
   "mimetype": "text/x-python",
   "name": "python",
   "nbconvert_exporter": "python",
   "pygments_lexer": "ipython3",
   "version": "3.8.6-final"
  }
 },
 "nbformat": 4,
 "nbformat_minor": 5
}