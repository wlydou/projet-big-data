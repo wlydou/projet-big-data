{
 "cells": [
  {
   "cell_type": "code",
   "execution_count": 52,
   "id": "hydraulic-explorer",
   "metadata": {},
   "outputs": [],
   "source": [
    "#pip install streamlit"
   ]
  },
  {
   "cell_type": "code",
   "execution_count": 53,
   "id": "incident-beatles",
   "metadata": {},
   "outputs": [],
   "source": [
    "#pip install plotly\n"
   ]
  },
  {
   "cell_type": "code",
   "execution_count": 54,
   "id": "confident-vinyl",
   "metadata": {},
   "outputs": [],
   "source": [
    "import plotly.express as px"
   ]
  },
  {
   "cell_type": "code",
   "execution_count": 55,
   "id": "personalized-seventh",
   "metadata": {},
   "outputs": [],
   "source": [
    "from pyspark.sql import SparkSession\n",
    "spark = SparkSession.builder.getOrCreate()"
   ]
  },
  {
   "cell_type": "code",
   "execution_count": 56,
   "id": "identified-watts",
   "metadata": {},
   "outputs": [
    {
     "name": "stdout",
     "output_type": "stream",
     "text": [
      "root\n",
      " |-- dep: string (nullable = true)\n",
      " |-- clage_vacsi: string (nullable = true)\n",
      " |-- jour: string (nullable = true)\n",
      " |-- n_dose1: string (nullable = true)\n",
      " |-- n_cum_dose1: string (nullable = true)\n",
      "\n"
     ]
    }
   ],
   "source": [
    "vaccinations = spark.read.load(\"./data/Vaccinations/\", format=\"csv\", header=True, inferSchema=\"True\")\n",
    "vaccinations.printSchema()"
   ]
  },
  {
   "cell_type": "markdown",
   "id": "central-terrain",
   "metadata": {},
   "source": [
    "vaccinations.groupBy([\"dep\", \"clage_vacsi\"]).sum(\"n_dose1\").sort([\"dep\", \"clage_vacsi\"]).take(100)"
   ]
  },
  {
   "cell_type": "markdown",
   "id": "streaming-disclaimer",
   "metadata": {},
   "source": [
    "# Nombre de vaccinées par tranche d'âge"
   ]
  },
  {
   "cell_type": "code",
   "execution_count": 69,
   "id": "naughty-customer",
   "metadata": {},
   "outputs": [],
   "source": [
    "vacc = spark.read.load(\"./data/Vaccinations/vacsi-a-dep-2021-02-03-20h15.csv\", format=\"csv\", header=True, inferSchema=\"True\")\n",
    "newvacc = vacc.select([\"clage_vacsi\", \"n_cum_dose1\"])\n",
    "nbVaccByAge = newvacc.where( newvacc.clage_vacsi != \"0\").groupBy(\"clage_vacsi\").agg({\"n_cum_dose1\" : \"max\"}).sort([\"clage_vacsi\"])\n",
    "\n",
    "#Sauvegarder les données récupérées dans un csv\n",
    "nbVaccByAge.toPandas().to_csv(\"./data/save/nb_vacc_by_age.csv\", header=True, index=False)\n",
    "\n",
    "#lire le csv sauvegardé\n",
    "nbVaccByAge_data = pd.read_csv('./data/save/nb_vacc_by_age.csv')\n",
    "\n",
    "#Config Sizes and Labels\n",
    "df = nbVaccByAge_data\n",
    "labels= []\n",
    "sizes = []\n",
    "\n",
    "for i in range(len(df)):\n",
    "    labels.append(df[\"clage_vacsi\"][i])\n",
    "    sizes.append(df[\"max(n_cum_dose1)\"][i])\n",
    "    \n",
    "# Explode\n",
    "explode = ()\n",
    "explode = list(explode)\n",
    "\n",
    "for i in range(len(df)):\n",
    "    explode.append(0.05)\n",
    "explode = tuple(explode)\n",
    "\n",
    "fig1, ax1 = plt.subplots()\n",
    "ax1.pie(sizes, explode=None, labels=labels, autopct='%1.f%%' , pctdistance= 1.05 , \n",
    "        shadow=False,labeldistance=1.2, startangle=90, radius=1)\n",
    "ax1.axis('equal')  # Equal aspect ratio ensures that pie is drawn as a circle.\n",
    "\n",
    "#Aggrandir le graphique\n",
    "fig = plt.gcf()\n",
    "fig.set_size_inches(10,10)"
   ]
  },
  {
   "cell_type": "code",
   "execution_count": 70,
   "id": "standing-diamond",
   "metadata": {},
   "outputs": [],
   "source": []
  },
  {
   "cell_type": "code",
   "execution_count": 71,
   "id": "built-winning",
   "metadata": {},
   "outputs": [],
   "source": []
  },
  {
   "cell_type": "code",
   "execution_count": 72,
   "id": "closing-reynolds",
   "metadata": {},
   "outputs": [],
   "source": [
    "#newvacc.where( newvacc.clage_vacsi == \"0\").groupBy(\"clage_vacsi\").agg({\"n_cum_dose1\" : \"max\"}).sort([\"clage_vacsi\"]).collect()"
   ]
  },
  {
   "cell_type": "code",
   "execution_count": 241,
   "id": "auburn-wrestling",
   "metadata": {},
   "outputs": [],
   "source": [
    "#nbVaccByAge.show()\n"
   ]
  },
  {
   "cell_type": "code",
   "execution_count": 240,
   "id": "defensive-jersey",
   "metadata": {},
   "outputs": [],
   "source": [
    "#nbVaccByAge.collect()\n"
   ]
  },
  {
   "cell_type": "code",
   "execution_count": 239,
   "id": "focused-consensus",
   "metadata": {},
   "outputs": [],
   "source": [
    "#type(nbVaccByAge)"
   ]
  },
  {
   "cell_type": "code",
   "execution_count": 238,
   "id": "numerous-pregnancy",
   "metadata": {},
   "outputs": [],
   "source": [
    "#nbVaccByAge.show()\n"
   ]
  },
  {
   "cell_type": "code",
   "execution_count": 77,
   "id": "victorian-special",
   "metadata": {},
   "outputs": [],
   "source": [
    "#Sauvegarder les données récupérées dans un csv\n",
    "nbVaccByAge.toPandas().to_csv(\"./data/save/nb_vacc_by_age.csv\", header=True, index=False)"
   ]
  },
  {
   "cell_type": "code",
   "execution_count": 78,
   "id": "cooked-jason",
   "metadata": {},
   "outputs": [],
   "source": [
    "#lire le csv sauvegardé\n",
    "nbVaccByAge_data = pd.read_csv('./data/save/nb_vacc_by_age.csv')"
   ]
  },
  {
   "cell_type": "code",
   "execution_count": 242,
   "id": "removable-white",
   "metadata": {},
   "outputs": [],
   "source": [
    "#type(nbVaccByAge_data)"
   ]
  },
  {
   "cell_type": "code",
   "execution_count": 243,
   "id": "incredible-bulgaria",
   "metadata": {},
   "outputs": [],
   "source": [
    "#nbVaccByAge_data"
   ]
  },
  {
   "cell_type": "code",
   "execution_count": 244,
   "id": "composite-louisiana",
   "metadata": {},
   "outputs": [],
   "source": [
    "#Config Sizes and Labels\n",
    "df = nbVaccByAge_data\n",
    "labels= []\n",
    "sizes = []\n",
    "\n",
    "for i in range(len(df)):\n",
    "    labels.append(df[\"clage_vacsi\"][i])\n",
    "    sizes.append(df[\"max(n_cum_dose1)\"][i])"
   ]
  },
  {
   "cell_type": "code",
   "execution_count": 245,
   "id": "actual-hacker",
   "metadata": {},
   "outputs": [],
   "source": [
    "# Explode\n",
    "explode = ()\n",
    "explode = list(explode)\n",
    "\n",
    "for i in range(len(df)):\n",
    "    explode.append(0.05)\n",
    "    \n",
    "explode = tuple(explode)\n"
   ]
  },
  {
   "cell_type": "code",
   "execution_count": 246,
   "id": "prime-clinton",
   "metadata": {},
   "outputs": [
    {
     "data": {
      "image/png": "[encoded data removed]",
      "text/plain": [
       "<Figure size 720x720 with 1 Axes>"
      ]
     },
     "metadata": {},
     "output_type": "display_data"
    }
   ],
   "source": [
    "fig1, ax1 = plt.subplots()\n",
    "ax1.pie(sizes, explode=None, labels=labels, autopct='%1.f%%' , pctdistance= 1.05 , \n",
    "        shadow=False,labeldistance=1.2, startangle=90, radius=1)\n",
    "ax1.axis('equal')  # Equal aspect ratio ensures that pie is drawn as a circle.\n",
    "\n",
    "#Aggrandir le graphique\n",
    "fig = plt.gcf()\n",
    "fig.set_size_inches(10,10)\n",
    "\n"
   ]
  },
  {
   "cell_type": "code",
   "execution_count": null,
   "id": "lesser-hostel",
   "metadata": {},
   "outputs": [],
   "source": []
  },
  {
   "cell_type": "code",
   "execution_count": null,
   "id": "varying-pasta",
   "metadata": {},
   "outputs": [],
   "source": []
  }
 ],
 "metadata": {
  "kernelspec": {
   "display_name": "Python 3",
   "language": "python",
   "name": "python3"
  },
  "language_info": {
   "codemirror_mode": {
    "name": "ipython",
    "version": 3
   },
   "file_extension": ".py",
   "mimetype": "text/x-python",
   "name": "python",
   "nbconvert_exporter": "python",
   "pygments_lexer": "ipython3",
   "version": "3.8.6"
  }
 },
 "nbformat": 4,
 "nbformat_minor": 5
}
