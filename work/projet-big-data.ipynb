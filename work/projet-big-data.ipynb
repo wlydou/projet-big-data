{
 "cells": [
  {
   "cell_type": "code",
   "execution_count": null,
   "id": "hydraulic-explorer",
   "metadata": {},
   "outputs": [],
   "source": [
    "#pip install streamlit"
   ]
  },
  {
   "cell_type": "code",
   "execution_count": null,
   "id": "incident-beatles",
   "metadata": {},
   "outputs": [],
   "source": [
    "#pip install plotly\n"
   ]
  },
  {
   "cell_type": "code",
   "execution_count": 10,
   "id": "confident-vinyl",
   "metadata": {},
   "outputs": [
    {
     "ename": "ModuleNotFoundError",
     "evalue": "No module named 'streamlit'",
     "output_type": "error",
     "traceback": [
      "\u001b[0;31m---------------------------------------------------------------------------\u001b[0m",
      "\u001b[0;31mModuleNotFoundError\u001b[0m                       Traceback (most recent call last)",
      "\u001b[0;32m<ipython-input-10-9ee2b9e25a7f>\u001b[0m in \u001b[0;36m<module>\u001b[0;34m\u001b[0m\n\u001b[1;32m      1\u001b[0m \u001b[0;32mimport\u001b[0m \u001b[0mpandas\u001b[0m \u001b[0;32mas\u001b[0m \u001b[0mpd\u001b[0m\u001b[0;34m\u001b[0m\u001b[0;34m\u001b[0m\u001b[0m\n\u001b[1;32m      2\u001b[0m \u001b[0;32mimport\u001b[0m \u001b[0mnumpy\u001b[0m \u001b[0;32mas\u001b[0m \u001b[0mnp\u001b[0m\u001b[0;34m\u001b[0m\u001b[0;34m\u001b[0m\u001b[0m\n\u001b[0;32m----> 3\u001b[0;31m \u001b[0;32mimport\u001b[0m \u001b[0mstreamlit\u001b[0m \u001b[0;32mas\u001b[0m \u001b[0mst\u001b[0m\u001b[0;34m\u001b[0m\u001b[0;34m\u001b[0m\u001b[0m\n\u001b[0m\u001b[1;32m      4\u001b[0m \u001b[0;32mimport\u001b[0m \u001b[0mplotly\u001b[0m\u001b[0;34m.\u001b[0m\u001b[0mgraph_objects\u001b[0m \u001b[0;32mas\u001b[0m \u001b[0mgo\u001b[0m\u001b[0;34m\u001b[0m\u001b[0;34m\u001b[0m\u001b[0m\n\u001b[1;32m      5\u001b[0m \u001b[0;32mfrom\u001b[0m \u001b[0mplotly\u001b[0m \u001b[0;32mimport\u001b[0m \u001b[0mtools\u001b[0m\u001b[0;34m\u001b[0m\u001b[0;34m\u001b[0m\u001b[0m\n",
      "\u001b[0;31mModuleNotFoundError\u001b[0m: No module named 'streamlit'"
     ]
    }
   ],
   "source": [
    "import pandas as pd\n",
    "import numpy as np\n",
    "import streamlit as st\n",
    "import plotly.graph_objects as go\n",
    "from plotly import tools\n",
    "import plotly.offline as py\n",
    "import plotly.express as px"
   ]
  },
  {
   "cell_type": "code",
   "execution_count": null,
   "id": "personalized-seventh",
   "metadata": {},
   "outputs": [],
   "source": [
    "from pyspark.sql import SparkSession\n",
    "spark = SparkSession.builder.getOrCreate()"
   ]
  },
  {
   "cell_type": "code",
   "execution_count": null,
   "id": "identified-watts",
   "metadata": {},
   "outputs": [],
   "source": [
    "vaccinations = spark.read.load(\"./data/Vaccinations/\", format=\"csv\", header=True, inferSchema=\"True\")\n",
    "vaccinations.printSchema()"
   ]
  },
  {
   "cell_type": "markdown",
   "id": "central-terrain",
   "metadata": {},
   "source": [
    "vaccinations.groupBy([\"dep\", \"clage_vacsi\"]).sum(\"n_dose1\").sort([\"dep\", \"clage_vacsi\"]).take(100)"
   ]
  },
  {
   "cell_type": "markdown",
   "id": "streaming-disclaimer",
   "metadata": {},
   "source": [
    "# Nombre de vaccinées par tranche d'âge"
   ]
  },
  {
   "cell_type": "code",
   "execution_count": null,
   "id": "naughty-customer",
   "metadata": {},
   "outputs": [],
   "source": [
    "vacc = spark.read.load(\"./data/Vaccinations/\", format=\"csv\", header=True, inferSchema=\"True\")\n",
    "#vacc.printSchema()"
   ]
  },
  {
   "cell_type": "code",
   "execution_count": null,
   "id": "standing-diamond",
   "metadata": {},
   "outputs": [],
   "source": [
    "newvacc = vacc.select([\"clage_vacsi\", \"n_cum_dose1\"])\n",
    "#newvacc.collect()"
   ]
  },
  {
   "cell_type": "code",
   "execution_count": null,
   "id": "built-winning",
   "metadata": {},
   "outputs": [],
   "source": [
    "nbVaccByAge = newvacc.where( newvacc.clage_vacsi != \"0\").groupBy(\"clage_vacsi\").agg({\"n_cum_dose1\" : \"max\"}).sort([\"clage_vacsi\"])"
   ]
  },
  {
   "cell_type": "code",
   "execution_count": null,
   "id": "closing-reynolds",
   "metadata": {},
   "outputs": [],
   "source": [
    "#newvacc.where( newvacc.clage_vacsi == \"0\").groupBy(\"clage_vacsi\").agg({\"n_cum_dose1\" : \"max\"}).sort([\"clage_vacsi\"]).collect()"
   ]
  },
  {
   "cell_type": "code",
   "execution_count": null,
   "id": "auburn-wrestling",
   "metadata": {},
   "outputs": [],
   "source": [
    "nbVaccByAge.show()\n"
   ]
  },
  {
   "cell_type": "code",
   "execution_count": null,
   "id": "defensive-jersey",
   "metadata": {},
   "outputs": [],
   "source": [
    "nbVaccByAge.collect()\n"
   ]
  },
  {
   "cell_type": "code",
   "execution_count": null,
   "id": "focused-consensus",
   "metadata": {},
   "outputs": [],
   "source": [
    "type(nbVaccByAge)"
   ]
  },
  {
   "cell_type": "code",
   "execution_count": null,
   "id": "numerous-pregnancy",
   "metadata": {},
   "outputs": [],
   "source": [
    "nbVaccByAge.show()\n"
   ]
  },
  {
   "cell_type": "code",
   "execution_count": null,
   "id": "victorian-special",
   "metadata": {},
   "outputs": [],
   "source": [
    "#Sauvegarder les données récupérées dans un csv\n",
    "nbVaccByAge.toPandas().to_csv(\"./data/save/nb_vacc_by_age.csv\", header=True, index=False)"
   ]
  },
  {
   "cell_type": "code",
   "execution_count": null,
   "id": "cooked-jason",
   "metadata": {},
   "outputs": [],
   "source": [
    "#lire le csv sauvegardé\n",
    "\n",
    "#nbVaccByAge_data = spark.read.load(\"./data/save/nb_vacc_by_age.csv\", format=\"csv\", header=True, inferSchema=\"True\")\n",
    "\n",
    "nbVaccByAge_data = pd.read_csv('./data/save/nb_vacc_by_age.csv')"
   ]
  },
  {
   "cell_type": "code",
   "execution_count": null,
   "id": "removable-white",
   "metadata": {},
   "outputs": [],
   "source": [
    "type(nbVaccByAge_data)"
   ]
  },
  {
   "cell_type": "code",
   "execution_count": null,
   "id": "incredible-bulgaria",
   "metadata": {},
   "outputs": [],
   "source": [
    "nbVaccByAge_data.head()"
   ]
  },
  {
   "cell_type": "code",
   "execution_count": null,
   "id": "reasonable-cycling",
   "metadata": {},
   "outputs": [],
   "source": [
    "st.title(\"**♟**Explore E-com dashboard**♟**\")\n",
    "st.write(\"ABCD LE PROJET PYTHON\")"
   ]
  },
  {
   "cell_type": "code",
   "execution_count": 7,
   "id": "least-treasurer",
   "metadata": {},
   "outputs": [],
   "source": [
    "# Nombre de vaccinées par sexe"
   ]
  },
  {
   "cell_type": "code",
   "execution_count": 8,
   "id": "auburn-fossil",
   "metadata": {},
   "outputs": [],
   "source": [
    "vaccin = spark.read.load(\"./data/Vaccinations/hom-fem.csv\", format=\"csv\", header=True, inferSchema=\"True\")"
   ]
  },
  {
   "cell_type": "code",
   "execution_count": null,
   "id": "positive-prefix",
   "metadata": {},
   "outputs": [],
   "source": [
    "vaccin.printSchema()"
   ]
  },
  {
   "cell_type": "code",
   "execution_count": null,
   "id": "applied-standard",
   "metadata": {},
   "outputs": [],
   "source": [
    "vaccin.take(10)"
   ]
  },
  {
   "cell_type": "code",
   "execution_count": 9,
   "id": "welsh-output",
   "metadata": {},
   "outputs": [],
   "source": [
    "newVaccin = vaccin.select(['sexe','n_cum_dose1'])\n",
    "maxVaccin = newVaccin.groupBy(\"sexe\").agg({\"n_cum_dose1\" : \"max\"}).collect()"
   ]
  },
  {
   "cell_type": "code",
   "execution_count": null,
   "id": "sought-knitting",
   "metadata": {},
   "outputs": [],
   "source": []
  }
 ],
 "metadata": {
  "kernelspec": {
   "display_name": "Python 3",
   "language": "python",
   "name": "python3"
  },
  "language_info": {
   "codemirror_mode": {
    "name": "ipython",
    "version": 3
   },
   "file_extension": ".py",
   "mimetype": "text/x-python",
   "name": "python",
   "nbconvert_exporter": "python",
   "pygments_lexer": "ipython3",
   "version": "3.8.6"
  }
 },
 "nbformat": 4,
 "nbformat_minor": 5
}
