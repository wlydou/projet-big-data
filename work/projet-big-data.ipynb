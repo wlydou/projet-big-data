{
 "cells": [
  {
   "cell_type": "code",
   "execution_count": 2,
   "id": "hydraulic-explorer",
   "metadata": {},
   "outputs": [],
   "source": [
    "from pyspark.sql import SparkSession\n",
    "spark = SparkSession.builder.getOrCreate()"
   ]
  },
  {
   "cell_type": "code",
   "execution_count": 2,
   "id": "identified-watts",
   "metadata": {},
   "outputs": [
    {
     "name": "stdout",
     "output_type": "stream",
     "text": [
      "root\n",
      " |-- dep: string (nullable = true)\n",
      " |-- clage_vacsi: integer (nullable = true)\n",
      " |-- jour: string (nullable = true)\n",
      " |-- n_dose1: integer (nullable = true)\n",
      " |-- n_cum_dose1: integer (nullable = true)\n",
      "\n"
     ]
    }
   ],
   "source": [
    "vaccinations = spark.read.load(\"./data/Vaccinations/\", format=\"csv\", header=True, inferSchema=\"True\")\n",
    "vaccinations.printSchema()"
   ]
  },
  {
   "cell_type": "code",
   "execution_count": 8,
   "id": "internal-vitamin",
   "metadata": {},
   "outputs": [
    {
     "data": {
      "text/plain": [
       "[Row(dep='01', clage_vacsi=0, sum(n_dose1)=10727),\n",
       " Row(dep='01', clage_vacsi=24, sum(n_dose1)=19),\n",
       " Row(dep='01', clage_vacsi=29, sum(n_dose1)=56),\n",
       " Row(dep='01', clage_vacsi=39, sum(n_dose1)=209),\n",
       " Row(dep='01', clage_vacsi=49, sum(n_dose1)=427),\n",
       " Row(dep='01', clage_vacsi=59, sum(n_dose1)=1539),\n",
       " Row(dep='01', clage_vacsi=64, sum(n_dose1)=604),\n",
       " Row(dep='01', clage_vacsi=69, sum(n_dose1)=404),\n",
       " Row(dep='01', clage_vacsi=74, sum(n_dose1)=465),\n",
       " Row(dep='01', clage_vacsi=79, sum(n_dose1)=2218),\n",
       " Row(dep='01', clage_vacsi=80, sum(n_dose1)=4785),\n",
       " Row(dep='02', clage_vacsi=0, sum(n_dose1)=12438),\n",
       " Row(dep='02', clage_vacsi=24, sum(n_dose1)=48),\n",
       " Row(dep='02', clage_vacsi=29, sum(n_dose1)=110),\n",
       " Row(dep='02', clage_vacsi=39, sum(n_dose1)=414),\n",
       " Row(dep='02', clage_vacsi=49, sum(n_dose1)=778),\n",
       " Row(dep='02', clage_vacsi=59, sum(n_dose1)=2024),\n",
       " Row(dep='02', clage_vacsi=64, sum(n_dose1)=848),\n",
       " Row(dep='02', clage_vacsi=69, sum(n_dose1)=627),\n",
       " Row(dep='02', clage_vacsi=74, sum(n_dose1)=754),\n",
       " Row(dep='02', clage_vacsi=79, sum(n_dose1)=1963),\n",
       " Row(dep='02', clage_vacsi=80, sum(n_dose1)=4871),\n",
       " Row(dep='03', clage_vacsi=0, sum(n_dose1)=14294),\n",
       " Row(dep='03', clage_vacsi=24, sum(n_dose1)=45),\n",
       " Row(dep='03', clage_vacsi=29, sum(n_dose1)=91),\n",
       " Row(dep='03', clage_vacsi=39, sum(n_dose1)=434),\n",
       " Row(dep='03', clage_vacsi=49, sum(n_dose1)=793),\n",
       " Row(dep='03', clage_vacsi=59, sum(n_dose1)=1868),\n",
       " Row(dep='03', clage_vacsi=64, sum(n_dose1)=798),\n",
       " Row(dep='03', clage_vacsi=69, sum(n_dose1)=548),\n",
       " Row(dep='03', clage_vacsi=74, sum(n_dose1)=718),\n",
       " Row(dep='03', clage_vacsi=79, sum(n_dose1)=2964),\n",
       " Row(dep='03', clage_vacsi=80, sum(n_dose1)=6033),\n",
       " Row(dep='04', clage_vacsi=0, sum(n_dose1)=7020),\n",
       " Row(dep='04', clage_vacsi=24, sum(n_dose1)=6),\n",
       " Row(dep='04', clage_vacsi=29, sum(n_dose1)=15),\n",
       " Row(dep='04', clage_vacsi=39, sum(n_dose1)=93),\n",
       " Row(dep='04', clage_vacsi=49, sum(n_dose1)=205),\n",
       " Row(dep='04', clage_vacsi=59, sum(n_dose1)=756),\n",
       " Row(dep='04', clage_vacsi=64, sum(n_dose1)=404),\n",
       " Row(dep='04', clage_vacsi=69, sum(n_dose1)=319),\n",
       " Row(dep='04', clage_vacsi=74, sum(n_dose1)=411),\n",
       " Row(dep='04', clage_vacsi=79, sum(n_dose1)=1644),\n",
       " Row(dep='04', clage_vacsi=80, sum(n_dose1)=3165),\n",
       " Row(dep='05', clage_vacsi=0, sum(n_dose1)=4187),\n",
       " Row(dep='05', clage_vacsi=24, sum(n_dose1)=10),\n",
       " Row(dep='05', clage_vacsi=29, sum(n_dose1)=24),\n",
       " Row(dep='05', clage_vacsi=39, sum(n_dose1)=53),\n",
       " Row(dep='05', clage_vacsi=49, sum(n_dose1)=125),\n",
       " Row(dep='05', clage_vacsi=59, sum(n_dose1)=670),\n",
       " Row(dep='05', clage_vacsi=64, sum(n_dose1)=275),\n",
       " Row(dep='05', clage_vacsi=69, sum(n_dose1)=178),\n",
       " Row(dep='05', clage_vacsi=74, sum(n_dose1)=135),\n",
       " Row(dep='05', clage_vacsi=79, sum(n_dose1)=896),\n",
       " Row(dep='05', clage_vacsi=80, sum(n_dose1)=1821),\n",
       " Row(dep='06', clage_vacsi=0, sum(n_dose1)=26595),\n",
       " Row(dep='06', clage_vacsi=24, sum(n_dose1)=65),\n",
       " Row(dep='06', clage_vacsi=29, sum(n_dose1)=220),\n",
       " Row(dep='06', clage_vacsi=39, sum(n_dose1)=779),\n",
       " Row(dep='06', clage_vacsi=49, sum(n_dose1)=1280),\n",
       " Row(dep='06', clage_vacsi=59, sum(n_dose1)=3383),\n",
       " Row(dep='06', clage_vacsi=64, sum(n_dose1)=1888),\n",
       " Row(dep='06', clage_vacsi=69, sum(n_dose1)=1393),\n",
       " Row(dep='06', clage_vacsi=74, sum(n_dose1)=1495),\n",
       " Row(dep='06', clage_vacsi=79, sum(n_dose1)=5349),\n",
       " Row(dep='06', clage_vacsi=80, sum(n_dose1)=10741),\n",
       " Row(dep='07', clage_vacsi=0, sum(n_dose1)=7323),\n",
       " Row(dep='07', clage_vacsi=24, sum(n_dose1)=21),\n",
       " Row(dep='07', clage_vacsi=29, sum(n_dose1)=60),\n",
       " Row(dep='07', clage_vacsi=39, sum(n_dose1)=241),\n",
       " Row(dep='07', clage_vacsi=49, sum(n_dose1)=516),\n",
       " Row(dep='07', clage_vacsi=59, sum(n_dose1)=1275),\n",
       " Row(dep='07', clage_vacsi=64, sum(n_dose1)=518),\n",
       " Row(dep='07', clage_vacsi=69, sum(n_dose1)=305),\n",
       " Row(dep='07', clage_vacsi=74, sum(n_dose1)=314),\n",
       " Row(dep='07', clage_vacsi=79, sum(n_dose1)=1014),\n",
       " Row(dep='07', clage_vacsi=80, sum(n_dose1)=3058),\n",
       " Row(dep='08', clage_vacsi=0, sum(n_dose1)=7972),\n",
       " Row(dep='08', clage_vacsi=24, sum(n_dose1)=38),\n",
       " Row(dep='08', clage_vacsi=29, sum(n_dose1)=68),\n",
       " Row(dep='08', clage_vacsi=39, sum(n_dose1)=221),\n",
       " Row(dep='08', clage_vacsi=49, sum(n_dose1)=302),\n",
       " Row(dep='08', clage_vacsi=59, sum(n_dose1)=1036),\n",
       " Row(dep='08', clage_vacsi=64, sum(n_dose1)=446),\n",
       " Row(dep='08', clage_vacsi=69, sum(n_dose1)=357),\n",
       " Row(dep='08', clage_vacsi=74, sum(n_dose1)=409),\n",
       " Row(dep='08', clage_vacsi=79, sum(n_dose1)=1566),\n",
       " Row(dep='08', clage_vacsi=80, sum(n_dose1)=3529),\n",
       " Row(dep='09', clage_vacsi=0, sum(n_dose1)=6116),\n",
       " Row(dep='09', clage_vacsi=24, sum(n_dose1)=24),\n",
       " Row(dep='09', clage_vacsi=29, sum(n_dose1)=37),\n",
       " Row(dep='09', clage_vacsi=39, sum(n_dose1)=183),\n",
       " Row(dep='09', clage_vacsi=49, sum(n_dose1)=360),\n",
       " Row(dep='09', clage_vacsi=59, sum(n_dose1)=719),\n",
       " Row(dep='09', clage_vacsi=64, sum(n_dose1)=292),\n",
       " Row(dep='09', clage_vacsi=69, sum(n_dose1)=239),\n",
       " Row(dep='09', clage_vacsi=74, sum(n_dose1)=325),\n",
       " Row(dep='09', clage_vacsi=79, sum(n_dose1)=1248),\n",
       " Row(dep='09', clage_vacsi=80, sum(n_dose1)=2689),\n",
       " Row(dep='10', clage_vacsi=0, sum(n_dose1)=9501)]"
      ]
     },
     "execution_count": 8,
     "metadata": {},
     "output_type": "execute_result"
    }
   ],
   "source": [
    "vaccinations.groupBy([\"dep\", \"clage_vacsi\"]).sum(\"n_dose1\").sort([\"dep\", \"clage_vacsi\"]).take(100)"
   ]
  },
  {
   "cell_type": "code",
   "execution_count": 3,
   "id": "genuine-plaza",
   "metadata": {},
   "outputs": [
    {
     "name": "stdout",
     "output_type": "stream",
     "text": [
      "root\n",
      " |-- fra: string (nullable = true)\n",
      " |-- sexe: integer (nullable = true)\n",
      " |-- jour: string (nullable = true)\n",
      " |-- n_dose1: integer (nullable = true)\n",
      " |-- n_cum_dose1: integer (nullable = true)\n",
      "\n"
     ]
    }
   ],
   "source": [
    "vaccin = spark.read.load(\"./data/Vaccinations/hom-fem.csv\", format=\"csv\", header=True, inferSchema=\"True\")\n",
    "vaccin.printSchema()"
   ]
  },
  {
   "cell_type": "code",
   "execution_count": 4,
   "id": "greater-detail",
   "metadata": {},
   "outputs": [
    {
     "data": {
      "text/plain": [
       "[Row(sexe=1, max(n_cum_dose1)=636250),\n",
       " Row(sexe=2, max(n_cum_dose1)=978221),\n",
       " Row(sexe=0, max(n_cum_dose1)=1615088)]"
      ]
     },
     "execution_count": 4,
     "metadata": {},
     "output_type": "execute_result"
    }
   ],
   "source": [
    "newVaccin = vaccin.select(['sexe','n_cum_dose1'])\n",
    "newVaccin.groupBy(\"sexe\").agg({\"n_cum_dose1\" : \"max\"}).collect()"
   ]
  },
  {
   "cell_type": "code",
   "execution_count": null,
   "id": "latest-andorra",
   "metadata": {},
   "outputs": [],
   "source": []
  }
 ],
 "metadata": {
  "kernelspec": {
   "display_name": "Python 3",
   "language": "python",
   "name": "python3"
  },
  "language_info": {
   "codemirror_mode": {
    "name": "ipython",
    "version": 3
   },
   "file_extension": ".py",
   "mimetype": "text/x-python",
   "name": "python",
   "nbconvert_exporter": "python",
   "pygments_lexer": "ipython3",
   "version": "3.8.6"
  }
 },
 "nbformat": 4,
 "nbformat_minor": 5
}
